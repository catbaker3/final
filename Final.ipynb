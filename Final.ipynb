{
 "cells": [
  {
   "cell_type": "code",
   "execution_count": 1,
   "metadata": {},
   "outputs": [],
   "source": [
    "# Final Project for CAP6307\n",
    "# Cat Baker and Darshay Blount\n",
    "# Fall 2020"
   ]
  },
  {
   "cell_type": "code",
   "execution_count": 2,
   "metadata": {},
   "outputs": [
    {
     "name": "stdout",
     "output_type": "stream",
     "text": [
      "Requirement already satisfied: lyricsgenius in /Applications/anaconda3/lib/python3.8/site-packages (2.0.2)\n",
      "Requirement already satisfied: requests>=2.20.0 in /Applications/anaconda3/lib/python3.8/site-packages (from lyricsgenius) (2.24.0)\n",
      "Requirement already satisfied: beautifulsoup4>=4.6.0 in /Applications/anaconda3/lib/python3.8/site-packages (from lyricsgenius) (4.9.1)\n",
      "Requirement already satisfied: chardet<4,>=3.0.2 in /Applications/anaconda3/lib/python3.8/site-packages (from requests>=2.20.0->lyricsgenius) (3.0.4)\n",
      "Requirement already satisfied: urllib3!=1.25.0,!=1.25.1,<1.26,>=1.21.1 in /Applications/anaconda3/lib/python3.8/site-packages (from requests>=2.20.0->lyricsgenius) (1.25.9)\n",
      "Requirement already satisfied: idna<3,>=2.5 in /Applications/anaconda3/lib/python3.8/site-packages (from requests>=2.20.0->lyricsgenius) (2.10)\n",
      "Requirement already satisfied: certifi>=2017.4.17 in /Applications/anaconda3/lib/python3.8/site-packages (from requests>=2.20.0->lyricsgenius) (2020.6.20)\n",
      "Requirement already satisfied: soupsieve>1.2 in /Applications/anaconda3/lib/python3.8/site-packages (from beautifulsoup4>=4.6.0->lyricsgenius) (2.0.1)\n",
      "Requirement already satisfied: textblob in /Applications/anaconda3/lib/python3.8/site-packages (0.15.3)\n",
      "Requirement already satisfied: nltk>=3.1 in /Applications/anaconda3/lib/python3.8/site-packages (from textblob) (3.5)\n",
      "Requirement already satisfied: tqdm in /Applications/anaconda3/lib/python3.8/site-packages (from nltk>=3.1->textblob) (4.47.0)\n",
      "Requirement already satisfied: joblib in /Applications/anaconda3/lib/python3.8/site-packages (from nltk>=3.1->textblob) (0.16.0)\n",
      "Requirement already satisfied: click in /Applications/anaconda3/lib/python3.8/site-packages (from nltk>=3.1->textblob) (7.1.2)\n",
      "Requirement already satisfied: regex in /Applications/anaconda3/lib/python3.8/site-packages (from nltk>=3.1->textblob) (2020.6.8)\n",
      "[nltk_data] Downloading package brown to /Users/catbaker3/nltk_data...\n",
      "[nltk_data]   Package brown is already up-to-date!\n",
      "[nltk_data] Downloading package punkt to /Users/catbaker3/nltk_data...\n",
      "[nltk_data]   Package punkt is already up-to-date!\n",
      "[nltk_data] Downloading package wordnet to\n",
      "[nltk_data]     /Users/catbaker3/nltk_data...\n",
      "[nltk_data]   Package wordnet is already up-to-date!\n",
      "[nltk_data] Downloading package averaged_perceptron_tagger to\n",
      "[nltk_data]     /Users/catbaker3/nltk_data...\n",
      "[nltk_data]   Package averaged_perceptron_tagger is already up-to-\n",
      "[nltk_data]       date!\n",
      "[nltk_data] Downloading package conll2000 to\n",
      "[nltk_data]     /Users/catbaker3/nltk_data...\n",
      "[nltk_data]   Package conll2000 is already up-to-date!\n",
      "[nltk_data] Downloading package movie_reviews to\n",
      "[nltk_data]     /Users/catbaker3/nltk_data...\n",
      "[nltk_data]   Package movie_reviews is already up-to-date!\n",
      "Finished.\n"
     ]
    }
   ],
   "source": [
    "# install modules\n",
    "!pip install lyricsgenius\n",
    "!pip install textblob\n",
    "!python -m textblob.download_corpora"
   ]
  },
  {
   "cell_type": "code",
   "execution_count": 24,
   "metadata": {},
   "outputs": [
    {
     "name": "stderr",
     "output_type": "stream",
     "text": [
      "[nltk_data] Downloading package stopwords to\n",
      "[nltk_data]     /Users/catbaker3/nltk_data...\n",
      "[nltk_data]   Package stopwords is already up-to-date!\n"
     ]
    }
   ],
   "source": [
    "# import packages\n",
    "from gensim.summarization import keywords\n",
    "import spacy\n",
    "import nltk\n",
    "from nltk.corpus import stopwords\n",
    "import pandas as pd\n",
    "import lyricsgenius\n",
    "import textblob\n",
    "from textblob import TextBlob\n",
    "import matplotlib.pyplot as plt\n",
    "import seaborn as sns\n",
    "import pandas as pd\n",
    "\n",
    "# download spacy and import English\n",
    "nltk.download('stopwords')\n",
    "from spacy.lang.en import English"
   ]
  },
  {
   "cell_type": "code",
   "execution_count": 4,
   "metadata": {},
   "outputs": [],
   "source": [
    "stopwords = set(stopwords.words('english'))"
   ]
  },
  {
   "cell_type": "code",
   "execution_count": 5,
   "metadata": {},
   "outputs": [],
   "source": [
    "nlp = English()\n",
    "nlp.max_length = 10000000"
   ]
  },
  {
   "cell_type": "code",
   "execution_count": 6,
   "metadata": {},
   "outputs": [],
   "source": [
    "client_id = 'jGXOq14YmSS490yTKQ7CPzu8l7ui5v4JnbBvhIhQV8VV74cSTpoFEqoKo5NqRuTT'\n",
    "client_secret = 'MCDsDPsZLCO10I9_cAOVZp91OAIFgx-aUDmaZ79hHQ9jgnquVkDROF1NBjlIisu9X2yG86OrGz7nJF26VB5nQw'\n",
    "access_token = 'vcwFJvy8po5FLkEkeTeSbhkbfidq43zZqTxoBNLnEbL7tltCTbDRiVeLJ68AL2rG'\n"
   ]
  },
  {
   "cell_type": "code",
   "execution_count": 7,
   "metadata": {},
   "outputs": [],
   "source": [
    "# Set up the API information\n",
    "genius = lyricsgenius.Genius(access_token)"
   ]
  },
  {
   "cell_type": "code",
   "execution_count": 8,
   "metadata": {},
   "outputs": [],
   "source": [
    "# Import the Billboard Top 100 dataset\n",
    "billboard_100 = pd.read_csv('billboard_100.csv')"
   ]
  },
  {
   "cell_type": "code",
   "execution_count": 9,
   "metadata": {},
   "outputs": [
    {
     "data": {
      "text/html": [
       "<div>\n",
       "<style scoped>\n",
       "    .dataframe tbody tr th:only-of-type {\n",
       "        vertical-align: middle;\n",
       "    }\n",
       "\n",
       "    .dataframe tbody tr th {\n",
       "        vertical-align: top;\n",
       "    }\n",
       "\n",
       "    .dataframe thead th {\n",
       "        text-align: right;\n",
       "    }\n",
       "</style>\n",
       "<table border=\"1\" class=\"dataframe\">\n",
       "  <thead>\n",
       "    <tr style=\"text-align: right;\">\n",
       "      <th></th>\n",
       "      <th>url</th>\n",
       "      <th>WeekID</th>\n",
       "      <th>Week Position</th>\n",
       "      <th>Song</th>\n",
       "      <th>Performer</th>\n",
       "      <th>SongID</th>\n",
       "      <th>Instance</th>\n",
       "      <th>Previous Week Position</th>\n",
       "      <th>Peak Position</th>\n",
       "      <th>Weeks on Chart</th>\n",
       "    </tr>\n",
       "  </thead>\n",
       "  <tbody>\n",
       "    <tr>\n",
       "      <th>0</th>\n",
       "      <td>http://www.billboard.com/charts/hot-100/1958-0...</td>\n",
       "      <td>8/2/1958</td>\n",
       "      <td>1</td>\n",
       "      <td>Poor Little Fool</td>\n",
       "      <td>Ricky Nelson</td>\n",
       "      <td>Poor Little FoolRicky Nelson</td>\n",
       "      <td>1</td>\n",
       "      <td>NaN</td>\n",
       "      <td>1</td>\n",
       "      <td>1</td>\n",
       "    </tr>\n",
       "    <tr>\n",
       "      <th>1</th>\n",
       "      <td>http://www.billboard.com/charts/hot-100/1995-1...</td>\n",
       "      <td>12/2/1995</td>\n",
       "      <td>1</td>\n",
       "      <td>One Sweet Day</td>\n",
       "      <td>Mariah Carey &amp; Boyz II Men</td>\n",
       "      <td>One Sweet DayMariah Carey &amp; Boyz II Men</td>\n",
       "      <td>1</td>\n",
       "      <td>NaN</td>\n",
       "      <td>1</td>\n",
       "      <td>1</td>\n",
       "    </tr>\n",
       "    <tr>\n",
       "      <th>2</th>\n",
       "      <td>http://www.billboard.com/charts/hot-100/1997-1...</td>\n",
       "      <td>10/11/1997</td>\n",
       "      <td>1</td>\n",
       "      <td>Candle In The Wind 1997/Something About The Wa...</td>\n",
       "      <td>Elton John</td>\n",
       "      <td>Candle In The Wind 1997/Something About The Wa...</td>\n",
       "      <td>1</td>\n",
       "      <td>NaN</td>\n",
       "      <td>1</td>\n",
       "      <td>1</td>\n",
       "    </tr>\n",
       "    <tr>\n",
       "      <th>3</th>\n",
       "      <td>http://www.billboard.com/charts/hot-100/2006-0...</td>\n",
       "      <td>7/1/2006</td>\n",
       "      <td>1</td>\n",
       "      <td>Do I Make You Proud</td>\n",
       "      <td>Taylor Hicks</td>\n",
       "      <td>Do I Make You ProudTaylor Hicks</td>\n",
       "      <td>1</td>\n",
       "      <td>NaN</td>\n",
       "      <td>1</td>\n",
       "      <td>1</td>\n",
       "    </tr>\n",
       "    <tr>\n",
       "      <th>4</th>\n",
       "      <td>http://www.billboard.com/charts/hot-100/2009-1...</td>\n",
       "      <td>10/24/2009</td>\n",
       "      <td>1</td>\n",
       "      <td>3</td>\n",
       "      <td>Britney Spears</td>\n",
       "      <td>3Britney Spears</td>\n",
       "      <td>1</td>\n",
       "      <td>NaN</td>\n",
       "      <td>1</td>\n",
       "      <td>1</td>\n",
       "    </tr>\n",
       "    <tr>\n",
       "      <th>5</th>\n",
       "      <td>http://www.billboard.com/charts/hot-100/2011-0...</td>\n",
       "      <td>2/26/2011</td>\n",
       "      <td>1</td>\n",
       "      <td>Born This Way</td>\n",
       "      <td>Lady Gaga</td>\n",
       "      <td>Born This WayLady Gaga</td>\n",
       "      <td>1</td>\n",
       "      <td>NaN</td>\n",
       "      <td>1</td>\n",
       "      <td>1</td>\n",
       "    </tr>\n",
       "    <tr>\n",
       "      <th>6</th>\n",
       "      <td>http://www.billboard.com/charts/hot-100/2012-0...</td>\n",
       "      <td>3/3/2012</td>\n",
       "      <td>1</td>\n",
       "      <td>Part Of Me</td>\n",
       "      <td>Katy Perry</td>\n",
       "      <td>Part Of MeKaty Perry</td>\n",
       "      <td>1</td>\n",
       "      <td>NaN</td>\n",
       "      <td>1</td>\n",
       "      <td>1</td>\n",
       "    </tr>\n",
       "    <tr>\n",
       "      <th>7</th>\n",
       "      <td>http://www.billboard.com/charts/hot-100/2014-0...</td>\n",
       "      <td>9/6/2014</td>\n",
       "      <td>1</td>\n",
       "      <td>Shake It Off</td>\n",
       "      <td>Taylor Swift</td>\n",
       "      <td>Shake It OffTaylor Swift</td>\n",
       "      <td>1</td>\n",
       "      <td>NaN</td>\n",
       "      <td>1</td>\n",
       "      <td>1</td>\n",
       "    </tr>\n",
       "    <tr>\n",
       "      <th>8</th>\n",
       "      <td>http://www.billboard.com/charts/hot-100/2016-0...</td>\n",
       "      <td>2/20/2016</td>\n",
       "      <td>1</td>\n",
       "      <td>Pillowtalk</td>\n",
       "      <td>Zayn</td>\n",
       "      <td>PillowtalkZayn</td>\n",
       "      <td>1</td>\n",
       "      <td>NaN</td>\n",
       "      <td>1</td>\n",
       "      <td>1</td>\n",
       "    </tr>\n",
       "    <tr>\n",
       "      <th>9</th>\n",
       "      <td>http://www.billboard.com/charts/hot-100/2016-0...</td>\n",
       "      <td>5/28/2016</td>\n",
       "      <td>1</td>\n",
       "      <td>Can't Stop The Feeling!</td>\n",
       "      <td>Justin Timberlake</td>\n",
       "      <td>Can't Stop The Feeling!Justin Timberlake</td>\n",
       "      <td>1</td>\n",
       "      <td>NaN</td>\n",
       "      <td>1</td>\n",
       "      <td>1</td>\n",
       "    </tr>\n",
       "  </tbody>\n",
       "</table>\n",
       "</div>"
      ],
      "text/plain": [
       "                                                 url      WeekID  \\\n",
       "0  http://www.billboard.com/charts/hot-100/1958-0...    8/2/1958   \n",
       "1  http://www.billboard.com/charts/hot-100/1995-1...   12/2/1995   \n",
       "2  http://www.billboard.com/charts/hot-100/1997-1...  10/11/1997   \n",
       "3  http://www.billboard.com/charts/hot-100/2006-0...    7/1/2006   \n",
       "4  http://www.billboard.com/charts/hot-100/2009-1...  10/24/2009   \n",
       "5  http://www.billboard.com/charts/hot-100/2011-0...   2/26/2011   \n",
       "6  http://www.billboard.com/charts/hot-100/2012-0...    3/3/2012   \n",
       "7  http://www.billboard.com/charts/hot-100/2014-0...    9/6/2014   \n",
       "8  http://www.billboard.com/charts/hot-100/2016-0...   2/20/2016   \n",
       "9  http://www.billboard.com/charts/hot-100/2016-0...   5/28/2016   \n",
       "\n",
       "   Week Position                                               Song  \\\n",
       "0              1                                   Poor Little Fool   \n",
       "1              1                                      One Sweet Day   \n",
       "2              1  Candle In The Wind 1997/Something About The Wa...   \n",
       "3              1                                Do I Make You Proud   \n",
       "4              1                                                  3   \n",
       "5              1                                      Born This Way   \n",
       "6              1                                         Part Of Me   \n",
       "7              1                                       Shake It Off   \n",
       "8              1                                         Pillowtalk   \n",
       "9              1                            Can't Stop The Feeling!   \n",
       "\n",
       "                    Performer  \\\n",
       "0                Ricky Nelson   \n",
       "1  Mariah Carey & Boyz II Men   \n",
       "2                  Elton John   \n",
       "3                Taylor Hicks   \n",
       "4              Britney Spears   \n",
       "5                   Lady Gaga   \n",
       "6                  Katy Perry   \n",
       "7                Taylor Swift   \n",
       "8                        Zayn   \n",
       "9           Justin Timberlake   \n",
       "\n",
       "                                              SongID  Instance  \\\n",
       "0                       Poor Little FoolRicky Nelson         1   \n",
       "1            One Sweet DayMariah Carey & Boyz II Men         1   \n",
       "2  Candle In The Wind 1997/Something About The Wa...         1   \n",
       "3                    Do I Make You ProudTaylor Hicks         1   \n",
       "4                                    3Britney Spears         1   \n",
       "5                             Born This WayLady Gaga         1   \n",
       "6                               Part Of MeKaty Perry         1   \n",
       "7                           Shake It OffTaylor Swift         1   \n",
       "8                                     PillowtalkZayn         1   \n",
       "9           Can't Stop The Feeling!Justin Timberlake         1   \n",
       "\n",
       "   Previous Week Position  Peak Position  Weeks on Chart  \n",
       "0                     NaN              1               1  \n",
       "1                     NaN              1               1  \n",
       "2                     NaN              1               1  \n",
       "3                     NaN              1               1  \n",
       "4                     NaN              1               1  \n",
       "5                     NaN              1               1  \n",
       "6                     NaN              1               1  \n",
       "7                     NaN              1               1  \n",
       "8                     NaN              1               1  \n",
       "9                     NaN              1               1  "
      ]
     },
     "execution_count": 9,
     "metadata": {},
     "output_type": "execute_result"
    }
   ],
   "source": [
    "# Preview the dataframe\n",
    "billboard_100.head(10)"
   ]
  },
  {
   "cell_type": "code",
   "execution_count": 10,
   "metadata": {},
   "outputs": [
    {
     "data": {
      "text/plain": [
       "url                           0\n",
       "WeekID                        0\n",
       "Week Position                 0\n",
       "Song                          0\n",
       "Performer                     0\n",
       "SongID                        0\n",
       "Instance                      0\n",
       "Previous Week Position    30784\n",
       "Peak Position                 0\n",
       "Weeks on Chart                0\n",
       "dtype: int64"
      ]
     },
     "execution_count": 10,
     "metadata": {},
     "output_type": "execute_result"
    }
   ],
   "source": [
    "# Check for null values\n",
    "billboard_100.isnull().sum()\n",
    "\n",
    "# This makes since bc the null values belong to the song's first week on the Billboard chart"
   ]
  },
  {
   "cell_type": "code",
   "execution_count": 12,
   "metadata": {},
   "outputs": [],
   "source": [
    "# Convert the date column to datetime format (YYYY-MM-DD)\n",
    "import datetime\n",
    "billboard_100['WeekID'] = pd.to_datetime(billboard_100['WeekID'], format='%m/%d/%Y')"
   ]
  },
  {
   "cell_type": "code",
   "execution_count": 13,
   "metadata": {},
   "outputs": [
    {
     "data": {
      "text/html": [
       "<div>\n",
       "<style scoped>\n",
       "    .dataframe tbody tr th:only-of-type {\n",
       "        vertical-align: middle;\n",
       "    }\n",
       "\n",
       "    .dataframe tbody tr th {\n",
       "        vertical-align: top;\n",
       "    }\n",
       "\n",
       "    .dataframe thead th {\n",
       "        text-align: right;\n",
       "    }\n",
       "</style>\n",
       "<table border=\"1\" class=\"dataframe\">\n",
       "  <thead>\n",
       "    <tr style=\"text-align: right;\">\n",
       "      <th></th>\n",
       "      <th>url</th>\n",
       "      <th>WeekID</th>\n",
       "      <th>Week Position</th>\n",
       "      <th>Song</th>\n",
       "      <th>Performer</th>\n",
       "      <th>SongID</th>\n",
       "      <th>Instance</th>\n",
       "      <th>Previous Week Position</th>\n",
       "      <th>Peak Position</th>\n",
       "      <th>Weeks on Chart</th>\n",
       "    </tr>\n",
       "  </thead>\n",
       "  <tbody>\n",
       "    <tr>\n",
       "      <th>0</th>\n",
       "      <td>http://www.billboard.com/charts/hot-100/1958-0...</td>\n",
       "      <td>1958-08-02</td>\n",
       "      <td>1</td>\n",
       "      <td>Poor Little Fool</td>\n",
       "      <td>Ricky Nelson</td>\n",
       "      <td>Poor Little FoolRicky Nelson</td>\n",
       "      <td>1</td>\n",
       "      <td>NaN</td>\n",
       "      <td>1</td>\n",
       "      <td>1</td>\n",
       "    </tr>\n",
       "    <tr>\n",
       "      <th>1</th>\n",
       "      <td>http://www.billboard.com/charts/hot-100/1995-1...</td>\n",
       "      <td>1995-12-02</td>\n",
       "      <td>1</td>\n",
       "      <td>One Sweet Day</td>\n",
       "      <td>Mariah Carey &amp; Boyz II Men</td>\n",
       "      <td>One Sweet DayMariah Carey &amp; Boyz II Men</td>\n",
       "      <td>1</td>\n",
       "      <td>NaN</td>\n",
       "      <td>1</td>\n",
       "      <td>1</td>\n",
       "    </tr>\n",
       "    <tr>\n",
       "      <th>2</th>\n",
       "      <td>http://www.billboard.com/charts/hot-100/1997-1...</td>\n",
       "      <td>1997-10-11</td>\n",
       "      <td>1</td>\n",
       "      <td>Candle In The Wind 1997/Something About The Wa...</td>\n",
       "      <td>Elton John</td>\n",
       "      <td>Candle In The Wind 1997/Something About The Wa...</td>\n",
       "      <td>1</td>\n",
       "      <td>NaN</td>\n",
       "      <td>1</td>\n",
       "      <td>1</td>\n",
       "    </tr>\n",
       "    <tr>\n",
       "      <th>3</th>\n",
       "      <td>http://www.billboard.com/charts/hot-100/2006-0...</td>\n",
       "      <td>2006-07-01</td>\n",
       "      <td>1</td>\n",
       "      <td>Do I Make You Proud</td>\n",
       "      <td>Taylor Hicks</td>\n",
       "      <td>Do I Make You ProudTaylor Hicks</td>\n",
       "      <td>1</td>\n",
       "      <td>NaN</td>\n",
       "      <td>1</td>\n",
       "      <td>1</td>\n",
       "    </tr>\n",
       "    <tr>\n",
       "      <th>4</th>\n",
       "      <td>http://www.billboard.com/charts/hot-100/2009-1...</td>\n",
       "      <td>2009-10-24</td>\n",
       "      <td>1</td>\n",
       "      <td>3</td>\n",
       "      <td>Britney Spears</td>\n",
       "      <td>3Britney Spears</td>\n",
       "      <td>1</td>\n",
       "      <td>NaN</td>\n",
       "      <td>1</td>\n",
       "      <td>1</td>\n",
       "    </tr>\n",
       "  </tbody>\n",
       "</table>\n",
       "</div>"
      ],
      "text/plain": [
       "                                                 url     WeekID  \\\n",
       "0  http://www.billboard.com/charts/hot-100/1958-0... 1958-08-02   \n",
       "1  http://www.billboard.com/charts/hot-100/1995-1... 1995-12-02   \n",
       "2  http://www.billboard.com/charts/hot-100/1997-1... 1997-10-11   \n",
       "3  http://www.billboard.com/charts/hot-100/2006-0... 2006-07-01   \n",
       "4  http://www.billboard.com/charts/hot-100/2009-1... 2009-10-24   \n",
       "\n",
       "   Week Position                                               Song  \\\n",
       "0              1                                   Poor Little Fool   \n",
       "1              1                                      One Sweet Day   \n",
       "2              1  Candle In The Wind 1997/Something About The Wa...   \n",
       "3              1                                Do I Make You Proud   \n",
       "4              1                                                  3   \n",
       "\n",
       "                    Performer  \\\n",
       "0                Ricky Nelson   \n",
       "1  Mariah Carey & Boyz II Men   \n",
       "2                  Elton John   \n",
       "3                Taylor Hicks   \n",
       "4              Britney Spears   \n",
       "\n",
       "                                              SongID  Instance  \\\n",
       "0                       Poor Little FoolRicky Nelson         1   \n",
       "1            One Sweet DayMariah Carey & Boyz II Men         1   \n",
       "2  Candle In The Wind 1997/Something About The Wa...         1   \n",
       "3                    Do I Make You ProudTaylor Hicks         1   \n",
       "4                                    3Britney Spears         1   \n",
       "\n",
       "   Previous Week Position  Peak Position  Weeks on Chart  \n",
       "0                     NaN              1               1  \n",
       "1                     NaN              1               1  \n",
       "2                     NaN              1               1  \n",
       "3                     NaN              1               1  \n",
       "4                     NaN              1               1  "
      ]
     },
     "execution_count": 13,
     "metadata": {},
     "output_type": "execute_result"
    }
   ],
   "source": [
    "billboard_100.head()"
   ]
  },
  {
   "cell_type": "code",
   "execution_count": 26,
   "metadata": {},
   "outputs": [],
   "source": [
    "# Filter to only show songs from the last ten years (November 2010-Dec 2019 (end of dataset))\n",
    "billboard_100 = billboard_100.loc[billboard_100['WeekID'] >= '2010-11-01']"
   ]
  },
  {
   "cell_type": "code",
   "execution_count": null,
   "metadata": {},
   "outputs": [],
   "source": []
  },
  {
   "cell_type": "code",
   "execution_count": null,
   "metadata": {},
   "outputs": [],
   "source": []
  },
  {
   "cell_type": "code",
   "execution_count": null,
   "metadata": {},
   "outputs": [],
   "source": [
    "# Exploratory data analysis for the billboard df"
   ]
  },
  {
   "cell_type": "code",
   "execution_count": 27,
   "metadata": {},
   "outputs": [
    {
     "data": {
      "text/plain": [
       "1    3028\n",
       "2     669\n",
       "3     135\n",
       "4      29\n",
       "5       9\n",
       "6       5\n",
       "9       2\n",
       "8       2\n",
       "Name: Instance, dtype: int64"
      ]
     },
     "execution_count": 27,
     "metadata": {},
     "output_type": "execute_result"
    }
   ],
   "source": [
    "# Distribution of instances\n",
    "max_instances = billboard_100.groupby('Song')['Instance'].max().reset_index()\n",
    "max_instances['Instance'].value_counts()"
   ]
  },
  {
   "cell_type": "code",
   "execution_count": 28,
   "metadata": {},
   "outputs": [
    {
     "data": {
      "text/plain": [
       "Text(0, 0.5, 'Number of Songs')"
      ]
     },
     "execution_count": 28,
     "metadata": {},
     "output_type": "execute_result"
    },
    {
     "data": {
      "image/png": "[encoded data removed]",
      "text/plain": [
       "<Figure size 720x504 with 1 Axes>"
      ]
     },
     "metadata": {
      "needs_background": "light"
     },
     "output_type": "display_data"
    }
   ],
   "source": [
    "# Plot the distribution\n",
    "plt.figure(figsize=(10,7))\n",
    "sns.countplot(max_instances['Instance'])\n",
    "plt.title('Distribution of the Number of Instances')\n",
    "plt.xlabel('Number of Instances')\n",
    "plt.ylabel('Number of Songs')"
   ]
  },
  {
   "cell_type": "code",
   "execution_count": 29,
   "metadata": {},
   "outputs": [
    {
     "data": {
      "text/plain": [
       "1     981\n",
       "20    512\n",
       "2     313\n",
       "3     176\n",
       "4     116\n",
       "     ... \n",
       "61      1\n",
       "65      1\n",
       "62      1\n",
       "79      1\n",
       "87      1\n",
       "Name: Weeks on Chart, Length: 64, dtype: int64"
      ]
     },
     "execution_count": 29,
     "metadata": {},
     "output_type": "execute_result"
    }
   ],
   "source": [
    "# Distribution of weeks on the Billboard chart\n",
    "max_weeks = billboard_100.groupby('Song')['Weeks on Chart'].max().reset_index()\n",
    "max_weeks['Weeks on Chart'].value_counts()"
   ]
  },
  {
   "cell_type": "code",
   "execution_count": 30,
   "metadata": {},
   "outputs": [
    {
     "data": {
      "text/plain": [
       "Text(0, 0.5, 'Number of Songs')"
      ]
     },
     "execution_count": 30,
     "metadata": {},
     "output_type": "execute_result"
    },
    {
     "data": {
      "image/png": "[encoded data removed]",
      "text/plain": [
       "<Figure size 1080x720 with 1 Axes>"
      ]
     },
     "metadata": {
      "needs_background": "light"
     },
     "output_type": "display_data"
    }
   ],
   "source": [
    "# Plot the distribution\n",
    "plt.figure(figsize=(15,10))\n",
    "sns.countplot(max_weeks['Weeks on Chart'])\n",
    "plt.title('Distribution of the Number of Weeks on the Billboard 100 Chart')\n",
    "plt.xlabel('Number of Weeks')\n",
    "plt.ylabel('Number of Songs')"
   ]
  },
  {
   "cell_type": "code",
   "execution_count": 33,
   "metadata": {},
   "outputs": [
    {
     "data": {
      "text/html": [
       "<div>\n",
       "<style scoped>\n",
       "    .dataframe tbody tr th:only-of-type {\n",
       "        vertical-align: middle;\n",
       "    }\n",
       "\n",
       "    .dataframe tbody tr th {\n",
       "        vertical-align: top;\n",
       "    }\n",
       "\n",
       "    .dataframe thead th {\n",
       "        text-align: right;\n",
       "    }\n",
       "</style>\n",
       "<table border=\"1\" class=\"dataframe\">\n",
       "  <thead>\n",
       "    <tr style=\"text-align: right;\">\n",
       "      <th></th>\n",
       "      <th>Song</th>\n",
       "      <th>Weeks on Chart</th>\n",
       "    </tr>\n",
       "  </thead>\n",
       "  <tbody>\n",
       "    <tr>\n",
       "      <th>2679</th>\n",
       "      <td>Radioactive</td>\n",
       "      <td>87</td>\n",
       "    </tr>\n",
       "    <tr>\n",
       "      <th>2833</th>\n",
       "      <td>Sail</td>\n",
       "      <td>79</td>\n",
       "    </tr>\n",
       "    <tr>\n",
       "      <th>726</th>\n",
       "      <td>Counting Stars</td>\n",
       "      <td>68</td>\n",
       "    </tr>\n",
       "    <tr>\n",
       "      <th>2548</th>\n",
       "      <td>Party Rock Anthem</td>\n",
       "      <td>68</td>\n",
       "    </tr>\n",
       "    <tr>\n",
       "      <th>2790</th>\n",
       "      <td>Rolling In The Deep</td>\n",
       "      <td>65</td>\n",
       "    </tr>\n",
       "    <tr>\n",
       "      <th>1454</th>\n",
       "      <td>Ho Hey</td>\n",
       "      <td>62</td>\n",
       "    </tr>\n",
       "    <tr>\n",
       "      <th>821</th>\n",
       "      <td>Demons</td>\n",
       "      <td>61</td>\n",
       "    </tr>\n",
       "    <tr>\n",
       "      <th>160</th>\n",
       "      <td>All Of Me</td>\n",
       "      <td>59</td>\n",
       "    </tr>\n",
       "    <tr>\n",
       "      <th>3025</th>\n",
       "      <td>Somebody That I Used To Know</td>\n",
       "      <td>59</td>\n",
       "    </tr>\n",
       "    <tr>\n",
       "      <th>2909</th>\n",
       "      <td>Shape Of You</td>\n",
       "      <td>58</td>\n",
       "    </tr>\n",
       "    <tr>\n",
       "      <th>3358</th>\n",
       "      <td>Thinking Out Loud</td>\n",
       "      <td>58</td>\n",
       "    </tr>\n",
       "    <tr>\n",
       "      <th>794</th>\n",
       "      <td>Dark Horse</td>\n",
       "      <td>57</td>\n",
       "    </tr>\n",
       "    <tr>\n",
       "      <th>1939</th>\n",
       "      <td>Lights</td>\n",
       "      <td>57</td>\n",
       "    </tr>\n",
       "    <tr>\n",
       "      <th>2559</th>\n",
       "      <td>Perfect</td>\n",
       "      <td>56</td>\n",
       "    </tr>\n",
       "    <tr>\n",
       "      <th>3021</th>\n",
       "      <td>Some Nights</td>\n",
       "      <td>56</td>\n",
       "    </tr>\n",
       "    <tr>\n",
       "      <th>3522</th>\n",
       "      <td>Uptown Funk!</td>\n",
       "      <td>56</td>\n",
       "    </tr>\n",
       "  </tbody>\n",
       "</table>\n",
       "</div>"
      ],
      "text/plain": [
       "                              Song  Weeks on Chart\n",
       "2679                   Radioactive              87\n",
       "2833                          Sail              79\n",
       "726                 Counting Stars              68\n",
       "2548             Party Rock Anthem              68\n",
       "2790           Rolling In The Deep              65\n",
       "1454                        Ho Hey              62\n",
       "821                         Demons              61\n",
       "160                      All Of Me              59\n",
       "3025  Somebody That I Used To Know              59\n",
       "2909                  Shape Of You              58\n",
       "3358             Thinking Out Loud              58\n",
       "794                     Dark Horse              57\n",
       "1939                        Lights              57\n",
       "2559                       Perfect              56\n",
       "3021                   Some Nights              56\n",
       "3522                  Uptown Funk!              56"
      ]
     },
     "execution_count": 33,
     "metadata": {},
     "output_type": "execute_result"
    }
   ],
   "source": [
    "# Look at the songs with the longest time on the charts\n",
    "max_weeks.loc[max_weeks['Weeks on Chart'] >= 55].sort_values(by = 'Weeks on Chart', ascending=False)"
   ]
  },
  {
   "cell_type": "code",
   "execution_count": null,
   "metadata": {},
   "outputs": [],
   "source": [
    "peak_position = billboard_100.groupby('Song')['Peak Position'].max().reset_index()\n"
   ]
  },
  {
   "cell_type": "code",
   "execution_count": null,
   "metadata": {},
   "outputs": [],
   "source": []
  },
  {
   "cell_type": "code",
   "execution_count": null,
   "metadata": {},
   "outputs": [],
   "source": []
  },
  {
   "cell_type": "code",
   "execution_count": null,
   "metadata": {},
   "outputs": [],
   "source": []
  },
  {
   "cell_type": "code",
   "execution_count": null,
   "metadata": {},
   "outputs": [],
   "source": [
    "# Import the Billboard Top 100 audio features Dataset\n",
    "billboard_100_audio = pd.read_excel('billboard_100_audio.xlsx')"
   ]
  },
  {
   "cell_type": "code",
   "execution_count": null,
   "metadata": {},
   "outputs": [],
   "source": [
    "# Remove duplicate songs\n",
    "billboard_100_audio.drop_duplicates(subset='SongID', inplace=True)\n",
    "billboard_100_audio.reset_index()"
   ]
  },
  {
   "cell_type": "code",
   "execution_count": null,
   "metadata": {},
   "outputs": [],
   "source": [
    "# Get the column names \n",
    "billboard_100.columns.tolist()"
   ]
  },
  {
   "cell_type": "code",
   "execution_count": null,
   "metadata": {},
   "outputs": [],
   "source": [
    "# more column names\n",
    "billboard_100_audio.columns.tolist()"
   ]
  },
  {
   "cell_type": "code",
   "execution_count": null,
   "metadata": {},
   "outputs": [],
   "source": [
    "# Function to return the lyrics to each song\n",
    "def get_lyrics(title, artist):\n",
    "    try: \n",
    "        return genius.search_song(title, artist).lyrics\n",
    "    except:\n",
    "        return 'lyrics not found'"
   ]
  },
  {
   "cell_type": "code",
   "execution_count": null,
   "metadata": {},
   "outputs": [],
   "source": [
    "# Function to return the sentiment score for each song\n",
    "def lyrics_sentiment(lyrics):    \n",
    "    analysis = TextBlob(lyrics)\n",
    "    return analysis.sentiment.polarity"
   ]
  },
  {
   "cell_type": "code",
   "execution_count": null,
   "metadata": {},
   "outputs": [],
   "source": [
    "# Text preprocessing\n",
    "def preprocessing(text):\n",
    "    document = nlp(text, disable=['ner','parser'])\n",
    "    lemmas = [token.lemma_ for token in document]\n",
    "    lemma_clean = [lemma for lemma in lemmas\n",
    "                  if lemma.isalpha() and lemma not in stopwords]\n",
    "    return ''.join(lemma_clean)"
   ]
  },
  {
   "cell_type": "code",
   "execution_count": null,
   "metadata": {},
   "outputs": [],
   "source": [
    "# Keyword extraction\n",
    "def keyword_extract(texts):\n",
    "    xkeywords = []\n",
    "    values = keywords(text=precrossing(texts), split='\\n', scores=True)\n",
    "    for x in values[:10]:\n",
    "        xkeywords.append(x[0])\n",
    "    try:\n",
    "        return xkeywords\n",
    "    except:\n",
    "        return 'there is no content'"
   ]
  },
  {
   "cell_type": "code",
   "execution_count": null,
   "metadata": {},
   "outputs": [],
   "source": [
    "# Apply the function to get the lyrics\n",
    "lyrics = billboard_100.apply(lambda row: get_lyrics(row['Song'], row['Performer']), axis=1)\n",
    "billboard_100['Lyrics'] = lyrics"
   ]
  },
  {
   "cell_type": "code",
   "execution_count": null,
   "metadata": {},
   "outputs": [],
   "source": []
  },
  {
   "cell_type": "code",
   "execution_count": null,
   "metadata": {},
   "outputs": [],
   "source": []
  },
  {
   "cell_type": "code",
   "execution_count": null,
   "metadata": {},
   "outputs": [],
   "source": []
  },
  {
   "cell_type": "code",
   "execution_count": null,
   "metadata": {},
   "outputs": [],
   "source": []
  }
 ],
 "metadata": {
  "kernelspec": {
   "display_name": "Python 3",
   "language": "python",
   "name": "python3"
  },
  "language_info": {
   "codemirror_mode": {
    "name": "ipython",
    "version": 3
   },
   "file_extension": ".py",
   "mimetype": "text/x-python",
   "name": "python",
   "nbconvert_exporter": "python",
   "pygments_lexer": "ipython3",
   "version": "3.8.3"
  }
 },
 "nbformat": 4,
 "nbformat_minor": 4
}
