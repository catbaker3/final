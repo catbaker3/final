{
 "cells": [
  {
   "cell_type": "markdown",
   "metadata": {},
   "source": [
    "# Final Project for CAP6307\n",
    "## Cat Baker and Darshay Blount\n",
    "### Fall 2020"
   ]
  },
  {
   "cell_type": "code",
   "execution_count": null,
   "metadata": {},
   "outputs": [],
   "source": [
    "# install modules\n",
    "!pip install lyricsgenius\n",
    "!pip install textblob\n",
    "!python -m textblob.download_corpora"
   ]
  },
  {
   "cell_type": "code",
   "execution_count": 1,
   "metadata": {},
   "outputs": [
    {
     "name": "stderr",
     "output_type": "stream",
     "text": [
      "[nltk_data] Downloading package stopwords to\n",
      "[nltk_data]     /Users/catbaker3/nltk_data...\n",
      "[nltk_data]   Package stopwords is already up-to-date!\n"
     ]
    }
   ],
   "source": [
    "# import packages\n",
    "from gensim.summarization import keywords\n",
    "import spacy\n",
    "import nltk\n",
    "from nltk.corpus import stopwords\n",
    "import pandas as pd\n",
    "import lyricsgenius\n",
    "import textblob\n",
    "from textblob import TextBlob\n",
    "import matplotlib.pyplot as plt\n",
    "import seaborn as sns\n",
    "import pandas as pd\n",
    "import numpy as np\n",
    "\n",
    "# download spacy and import English\n",
    "nltk.download('stopwords')\n",
    "from spacy.lang.en import English"
   ]
  },
  {
   "cell_type": "code",
   "execution_count": 2,
   "metadata": {},
   "outputs": [],
   "source": [
    "# Import stopwords\n",
    "stopwords = set(stopwords.words('english'))"
   ]
  },
  {
   "cell_type": "code",
   "execution_count": 3,
   "metadata": {},
   "outputs": [],
   "source": [
    "# Set the nlp language to English\n",
    "nlp = English()\n",
    "nlp.max_length = 10000000"
   ]
  },
  {
   "cell_type": "code",
   "execution_count": 4,
   "metadata": {},
   "outputs": [],
   "source": [
    "# Set up the token, id, and secret for the Lyric Genius API\n",
    "client_id = 'jGXOq14YmSS490yTKQ7CPzu8l7ui5v4JnbBvhIhQV8VV74cSTpoFEqoKo5NqRuTT'\n",
    "client_secret = 'MCDsDPsZLCO10I9_cAOVZp91OAIFgx-aUDmaZ79hHQ9jgnquVkDROF1NBjlIisu9X2yG86OrGz7nJF26VB5nQw'\n",
    "access_token = 'vcwFJvy8po5FLkEkeTeSbhkbfidq43zZqTxoBNLnEbL7tltCTbDRiVeLJ68AL2rG'"
   ]
  },
  {
   "cell_type": "code",
   "execution_count": 5,
   "metadata": {},
   "outputs": [],
   "source": [
    "# Set up the API information\n",
    "genius = lyricsgenius.Genius(access_token)"
   ]
  },
  {
   "cell_type": "code",
   "execution_count": 6,
   "metadata": {},
   "outputs": [],
   "source": [
    "# Import the Billboard Top 100 dataset\n",
    "billboard_100 = pd.read_csv('billboardHot100_1999-2019.csv')"
   ]
  },
  {
   "cell_type": "code",
   "execution_count": 7,
   "metadata": {},
   "outputs": [
    {
     "data": {
      "text/html": [
       "<div>\n",
       "<style scoped>\n",
       "    .dataframe tbody tr th:only-of-type {\n",
       "        vertical-align: middle;\n",
       "    }\n",
       "\n",
       "    .dataframe tbody tr th {\n",
       "        vertical-align: top;\n",
       "    }\n",
       "\n",
       "    .dataframe thead th {\n",
       "        text-align: right;\n",
       "    }\n",
       "</style>\n",
       "<table border=\"1\" class=\"dataframe\">\n",
       "  <thead>\n",
       "    <tr style=\"text-align: right;\">\n",
       "      <th></th>\n",
       "      <th>Unnamed: 0</th>\n",
       "      <th>Artists</th>\n",
       "      <th>Name</th>\n",
       "      <th>Weekly.rank</th>\n",
       "      <th>Peak.position</th>\n",
       "      <th>Weeks.on.chart</th>\n",
       "      <th>Week</th>\n",
       "      <th>Date</th>\n",
       "      <th>Genre</th>\n",
       "      <th>Writing.Credits</th>\n",
       "      <th>Lyrics</th>\n",
       "      <th>Features</th>\n",
       "    </tr>\n",
       "  </thead>\n",
       "  <tbody>\n",
       "    <tr>\n",
       "      <th>0</th>\n",
       "      <td>1</td>\n",
       "      <td>Lil Nas,</td>\n",
       "      <td>Old Town Road</td>\n",
       "      <td>1</td>\n",
       "      <td>1.0</td>\n",
       "      <td>7.0</td>\n",
       "      <td>2019-07-06</td>\n",
       "      <td>April 5, 2019</td>\n",
       "      <td>Country,Atlanta,Alternative Country,Hip-Hop,Tr...</td>\n",
       "      <td>Jozzy, Atticus ross, Trent reznor, Billy ray c...</td>\n",
       "      <td>Old Town Road Remix \\nOh, oh-oh\\nOh\\nYeah, I'm...</td>\n",
       "      <td>Billy Ray Cyrus</td>\n",
       "    </tr>\n",
       "    <tr>\n",
       "      <th>1</th>\n",
       "      <td>2</td>\n",
       "      <td>Shawn Mendes, Camila Cabello</td>\n",
       "      <td>Senorita</td>\n",
       "      <td>2</td>\n",
       "      <td>NaN</td>\n",
       "      <td>NaN</td>\n",
       "      <td>2019-07-06</td>\n",
       "      <td>June 21, 2019</td>\n",
       "      <td>Pop</td>\n",
       "      <td>Cashmere cat, Jack patterson, Charli xcx, Benn...</td>\n",
       "      <td>Senorita \\nI love it when you call me senorita...</td>\n",
       "      <td>NaN</td>\n",
       "    </tr>\n",
       "    <tr>\n",
       "      <th>2</th>\n",
       "      <td>3</td>\n",
       "      <td>Billie Eilish</td>\n",
       "      <td>Bad Guy</td>\n",
       "      <td>3</td>\n",
       "      <td>2.0</td>\n",
       "      <td>13.0</td>\n",
       "      <td>2019-07-06</td>\n",
       "      <td>March 29, 2019</td>\n",
       "      <td>Hip-Hop,Dark Pop,House,Trap,Memes,Alternative ...</td>\n",
       "      <td>Billie eilish, Finneas</td>\n",
       "      <td>bad guy \\nWhite shirt now red, my bloody nose\\...</td>\n",
       "      <td>NaN</td>\n",
       "    </tr>\n",
       "    <tr>\n",
       "      <th>3</th>\n",
       "      <td>4</td>\n",
       "      <td>Khalid</td>\n",
       "      <td>Talk</td>\n",
       "      <td>4</td>\n",
       "      <td>3.0</td>\n",
       "      <td>20.0</td>\n",
       "      <td>2019-07-06</td>\n",
       "      <td>February 7, 2019</td>\n",
       "      <td>Synth-Pop,Pop</td>\n",
       "      <td>Howard lawrence, Guy lawrence, Khalid</td>\n",
       "      <td>Talk \\nCan we just talk? Can we just talk?\\nTa...</td>\n",
       "      <td>NaN</td>\n",
       "    </tr>\n",
       "    <tr>\n",
       "      <th>4</th>\n",
       "      <td>5</td>\n",
       "      <td>Ed Sheeran, Justin Bieber</td>\n",
       "      <td>I Don't Care</td>\n",
       "      <td>5</td>\n",
       "      <td>2.0</td>\n",
       "      <td>7.0</td>\n",
       "      <td>2019-07-06</td>\n",
       "      <td>May 10, 2019</td>\n",
       "      <td>Canada,UK,Dance,Dance-Pop,Pop</td>\n",
       "      <td>Ed sheeran, Justin bieber, Shellback, Max mart...</td>\n",
       "      <td>I Don't Care \\nI'm at a party I don't wanna be...</td>\n",
       "      <td>NaN</td>\n",
       "    </tr>\n",
       "    <tr>\n",
       "      <th>5</th>\n",
       "      <td>6</td>\n",
       "      <td>Jonas Brothers</td>\n",
       "      <td>Sucker</td>\n",
       "      <td>6</td>\n",
       "      <td>1.0</td>\n",
       "      <td>17.0</td>\n",
       "      <td>2019-07-06</td>\n",
       "      <td>March 1, 2019</td>\n",
       "      <td>Alternative Pop,Boy Band,Teen Pop,Pop-Rock,Pop</td>\n",
       "      <td>Ryan tedder, Louis bell, Frank dukes, Nick jon...</td>\n",
       "      <td>Sucker \\nWe go together\\nBetter than birds of ...</td>\n",
       "      <td>NaN</td>\n",
       "    </tr>\n",
       "    <tr>\n",
       "      <th>6</th>\n",
       "      <td>7</td>\n",
       "      <td>DaBaby</td>\n",
       "      <td>Suge</td>\n",
       "      <td>7</td>\n",
       "      <td>7.0</td>\n",
       "      <td>13.0</td>\n",
       "      <td>2019-07-06</td>\n",
       "      <td>March 1, 2019</td>\n",
       "      <td>Trap,East Coast,Rap</td>\n",
       "      <td>Jetsonmade, Pooh beatz, Dababy</td>\n",
       "      <td>Suge \\nPooh, you a fool for this one\\nHa\\nOh L...</td>\n",
       "      <td>NaN</td>\n",
       "    </tr>\n",
       "    <tr>\n",
       "      <th>7</th>\n",
       "      <td>8</td>\n",
       "      <td>Drake</td>\n",
       "      <td>Money In The Grave</td>\n",
       "      <td>8</td>\n",
       "      <td>7.0</td>\n",
       "      <td>2.0</td>\n",
       "      <td>2019-07-06</td>\n",
       "      <td>June 15, 2019</td>\n",
       "      <td>Hip-Hop,Rap,Basketball,NBA,Canada</td>\n",
       "      <td>Asoteric, Ljay currie, Cydney christine, Rick ...</td>\n",
       "      <td>Money in the Grave \\nYeah, okay\\nLil CC on the...</td>\n",
       "      <td>Rick Ross</td>\n",
       "    </tr>\n",
       "    <tr>\n",
       "      <th>8</th>\n",
       "      <td>9</td>\n",
       "      <td>Chris Brown</td>\n",
       "      <td>No Guidance</td>\n",
       "      <td>9</td>\n",
       "      <td>9.0</td>\n",
       "      <td>3.0</td>\n",
       "      <td>2019-07-06</td>\n",
       "      <td>June 8, 2019</td>\n",
       "      <td>Alternative R&amp;;B,Hip-Hop,Rap,Pop,DMV,Canada,R&amp;;B</td>\n",
       "      <td>Velous, J louis, Vinylz, Michee patrick lebrun...</td>\n",
       "      <td>No Guidance \\nBefore I die I'm tryna fuck you,...</td>\n",
       "      <td>Drake</td>\n",
       "    </tr>\n",
       "    <tr>\n",
       "      <th>9</th>\n",
       "      <td>10</td>\n",
       "      <td>Post Malone</td>\n",
       "      <td>Wow.</td>\n",
       "      <td>10</td>\n",
       "      <td>2.0</td>\n",
       "      <td>27.0</td>\n",
       "      <td>2019-07-06</td>\n",
       "      <td>December 24, 2018</td>\n",
       "      <td>Memes,Hip-Hop,Trap,Rap</td>\n",
       "      <td>Frank dukes, Billy walsh, Louis bell, Post malone</td>\n",
       "      <td>Wow \\nSaid she tired of little money, need a b...</td>\n",
       "      <td>NaN</td>\n",
       "    </tr>\n",
       "  </tbody>\n",
       "</table>\n",
       "</div>"
      ],
      "text/plain": [
       "   Unnamed: 0                       Artists                Name  Weekly.rank  \\\n",
       "0           1                      Lil Nas,       Old Town Road            1   \n",
       "1           2  Shawn Mendes, Camila Cabello            Senorita            2   \n",
       "2           3                 Billie Eilish             Bad Guy            3   \n",
       "3           4                        Khalid                Talk            4   \n",
       "4           5     Ed Sheeran, Justin Bieber        I Don't Care            5   \n",
       "5           6                Jonas Brothers              Sucker            6   \n",
       "6           7                        DaBaby                Suge            7   \n",
       "7           8                         Drake  Money In The Grave            8   \n",
       "8           9                   Chris Brown         No Guidance            9   \n",
       "9          10                   Post Malone                Wow.           10   \n",
       "\n",
       "   Peak.position  Weeks.on.chart        Week               Date  \\\n",
       "0            1.0             7.0  2019-07-06      April 5, 2019   \n",
       "1            NaN             NaN  2019-07-06      June 21, 2019   \n",
       "2            2.0            13.0  2019-07-06     March 29, 2019   \n",
       "3            3.0            20.0  2019-07-06   February 7, 2019   \n",
       "4            2.0             7.0  2019-07-06       May 10, 2019   \n",
       "5            1.0            17.0  2019-07-06      March 1, 2019   \n",
       "6            7.0            13.0  2019-07-06      March 1, 2019   \n",
       "7            7.0             2.0  2019-07-06      June 15, 2019   \n",
       "8            9.0             3.0  2019-07-06       June 8, 2019   \n",
       "9            2.0            27.0  2019-07-06  December 24, 2018   \n",
       "\n",
       "                                               Genre  \\\n",
       "0  Country,Atlanta,Alternative Country,Hip-Hop,Tr...   \n",
       "1                                                Pop   \n",
       "2  Hip-Hop,Dark Pop,House,Trap,Memes,Alternative ...   \n",
       "3                                      Synth-Pop,Pop   \n",
       "4                      Canada,UK,Dance,Dance-Pop,Pop   \n",
       "5     Alternative Pop,Boy Band,Teen Pop,Pop-Rock,Pop   \n",
       "6                                Trap,East Coast,Rap   \n",
       "7                  Hip-Hop,Rap,Basketball,NBA,Canada   \n",
       "8   Alternative R&;B,Hip-Hop,Rap,Pop,DMV,Canada,R&;B   \n",
       "9                             Memes,Hip-Hop,Trap,Rap   \n",
       "\n",
       "                                     Writing.Credits  \\\n",
       "0  Jozzy, Atticus ross, Trent reznor, Billy ray c...   \n",
       "1  Cashmere cat, Jack patterson, Charli xcx, Benn...   \n",
       "2                             Billie eilish, Finneas   \n",
       "3              Howard lawrence, Guy lawrence, Khalid   \n",
       "4  Ed sheeran, Justin bieber, Shellback, Max mart...   \n",
       "5  Ryan tedder, Louis bell, Frank dukes, Nick jon...   \n",
       "6                     Jetsonmade, Pooh beatz, Dababy   \n",
       "7  Asoteric, Ljay currie, Cydney christine, Rick ...   \n",
       "8  Velous, J louis, Vinylz, Michee patrick lebrun...   \n",
       "9  Frank dukes, Billy walsh, Louis bell, Post malone   \n",
       "\n",
       "                                              Lyrics         Features  \n",
       "0  Old Town Road Remix \\nOh, oh-oh\\nOh\\nYeah, I'm...  Billy Ray Cyrus  \n",
       "1  Senorita \\nI love it when you call me senorita...              NaN  \n",
       "2  bad guy \\nWhite shirt now red, my bloody nose\\...              NaN  \n",
       "3  Talk \\nCan we just talk? Can we just talk?\\nTa...              NaN  \n",
       "4  I Don't Care \\nI'm at a party I don't wanna be...              NaN  \n",
       "5  Sucker \\nWe go together\\nBetter than birds of ...              NaN  \n",
       "6  Suge \\nPooh, you a fool for this one\\nHa\\nOh L...              NaN  \n",
       "7  Money in the Grave \\nYeah, okay\\nLil CC on the...        Rick Ross  \n",
       "8  No Guidance \\nBefore I die I'm tryna fuck you,...            Drake  \n",
       "9  Wow \\nSaid she tired of little money, need a b...              NaN  "
      ]
     },
     "execution_count": 7,
     "metadata": {},
     "output_type": "execute_result"
    }
   ],
   "source": [
    "# Preview the dataframe\n",
    "billboard_100.head(10)"
   ]
  },
  {
   "cell_type": "code",
   "execution_count": 8,
   "metadata": {},
   "outputs": [],
   "source": [
    "# Sort the dataframe by week ID (ascending)\n",
    "billboard_100 = billboard_100.sort_values(by=['Week'])"
   ]
  },
  {
   "cell_type": "code",
   "execution_count": 9,
   "metadata": {},
   "outputs": [
    {
     "data": {
      "text/plain": [
       "Unnamed: 0             0\n",
       "Artists                0\n",
       "Name                   0\n",
       "Weekly.rank            0\n",
       "Peak.position       7069\n",
       "Weeks.on.chart      7069\n",
       "Week                   0\n",
       "Date               12247\n",
       "Genre                  0\n",
       "Writing.Credits     7213\n",
       "Lyrics                 0\n",
       "Features           75936\n",
       "dtype: int64"
      ]
     },
     "execution_count": 9,
     "metadata": {},
     "output_type": "execute_result"
    }
   ],
   "source": [
    "# Check for null values\n",
    "billboard_100.isnull().sum()\n",
    "\n",
    "# This makes since bc the null values belong to the song's first week on the Billboard chart"
   ]
  },
  {
   "cell_type": "code",
   "execution_count": 10,
   "metadata": {},
   "outputs": [],
   "source": [
    "# Filter to only show songs from the last ten years (November 2010-Dec 2019 (end of dataset))\n",
    "billboard_100 = billboard_100.loc[billboard_100['Week'] > '2009-07-01']"
   ]
  },
  {
   "cell_type": "code",
   "execution_count": 11,
   "metadata": {},
   "outputs": [],
   "source": [
    "billboard_100 = billboard_100.drop(['Unnamed: 0', 'Writing.Credits', 'Features'], axis=1)"
   ]
  },
  {
   "cell_type": "code",
   "execution_count": 12,
   "metadata": {},
   "outputs": [
    {
     "name": "stdout",
     "output_type": "stream",
     "text": [
      "<class 'pandas.core.frame.DataFrame'>\n",
      "Int64Index: 49463 entries, 49402 to 0\n",
      "Data columns (total 9 columns):\n",
      " #   Column          Non-Null Count  Dtype  \n",
      "---  ------          --------------  -----  \n",
      " 0   Artists         49463 non-null  object \n",
      " 1   Name            49463 non-null  object \n",
      " 2   Weekly.rank     49463 non-null  int64  \n",
      " 3   Peak.position   45402 non-null  float64\n",
      " 4   Weeks.on.chart  45402 non-null  float64\n",
      " 5   Week            49463 non-null  object \n",
      " 6   Date            47597 non-null  object \n",
      " 7   Genre           49463 non-null  object \n",
      " 8   Lyrics          49463 non-null  object \n",
      "dtypes: float64(2), int64(1), object(6)\n",
      "memory usage: 3.8+ MB\n"
     ]
    }
   ],
   "source": [
    "billboard_100.info()"
   ]
  },
  {
   "cell_type": "code",
   "execution_count": 13,
   "metadata": {},
   "outputs": [
    {
     "data": {
      "text/plain": [
       "(49463, 9)"
      ]
     },
     "execution_count": 13,
     "metadata": {},
     "output_type": "execute_result"
    }
   ],
   "source": [
    "billboard_100.shape"
   ]
  },
  {
   "cell_type": "code",
   "execution_count": 14,
   "metadata": {},
   "outputs": [],
   "source": [
    "billboard_100 = billboard_100.rename(columns={'Weekly.rank':'Rank', \"Peak.position\":'Peak_Rank'})"
   ]
  },
  {
   "cell_type": "code",
   "execution_count": 15,
   "metadata": {},
   "outputs": [
    {
     "data": {
      "text/html": [
       "<div>\n",
       "<style scoped>\n",
       "    .dataframe tbody tr th:only-of-type {\n",
       "        vertical-align: middle;\n",
       "    }\n",
       "\n",
       "    .dataframe tbody tr th {\n",
       "        vertical-align: top;\n",
       "    }\n",
       "\n",
       "    .dataframe thead th {\n",
       "        text-align: right;\n",
       "    }\n",
       "</style>\n",
       "<table border=\"1\" class=\"dataframe\">\n",
       "  <thead>\n",
       "    <tr style=\"text-align: right;\">\n",
       "      <th></th>\n",
       "      <th>Artists</th>\n",
       "      <th>Name</th>\n",
       "      <th>Rank</th>\n",
       "      <th>Peak_Rank</th>\n",
       "      <th>Weeks.on.chart</th>\n",
       "      <th>Week</th>\n",
       "      <th>Date</th>\n",
       "      <th>Genre</th>\n",
       "      <th>Lyrics</th>\n",
       "    </tr>\n",
       "  </thead>\n",
       "  <tbody>\n",
       "    <tr>\n",
       "      <th>49402</th>\n",
       "      <td>Dierks Bentley</td>\n",
       "      <td>Sideways</td>\n",
       "      <td>35</td>\n",
       "      <td>35.0</td>\n",
       "      <td>12.0</td>\n",
       "      <td>2009-07-02</td>\n",
       "      <td>February 3, 2009</td>\n",
       "      <td>Country</td>\n",
       "      <td>Sideways \\nHey girl, what's your name?\\nIt's s...</td>\n",
       "    </tr>\n",
       "    <tr>\n",
       "      <th>49401</th>\n",
       "      <td>Flo Rida</td>\n",
       "      <td>Sugar</td>\n",
       "      <td>34</td>\n",
       "      <td>5.0</td>\n",
       "      <td>14.0</td>\n",
       "      <td>2009-07-02</td>\n",
       "      <td>March 31, 2009</td>\n",
       "      <td>Rap</td>\n",
       "      <td>Sugar \\nDumm\\nDouble dee double di\\nDouble dee...</td>\n",
       "    </tr>\n",
       "    <tr>\n",
       "      <th>49400</th>\n",
       "      <td>Jason Mraz</td>\n",
       "      <td>I'm Yours</td>\n",
       "      <td>33</td>\n",
       "      <td>6.0</td>\n",
       "      <td>62.0</td>\n",
       "      <td>2009-07-02</td>\n",
       "      <td>April 15, 2008</td>\n",
       "      <td>Adult Contemporary,Adult Alternative,Pop-Rock,...</td>\n",
       "      <td>I'm Yours \\nWell you done done me and you bet ...</td>\n",
       "    </tr>\n",
       "    <tr>\n",
       "      <th>49395</th>\n",
       "      <td>Brad Paisley</td>\n",
       "      <td>Then</td>\n",
       "      <td>28</td>\n",
       "      <td>28.0</td>\n",
       "      <td>14.0</td>\n",
       "      <td>2009-07-02</td>\n",
       "      <td>March 23, 2009</td>\n",
       "      <td>Country</td>\n",
       "      <td>Then \\nI remember trying not to stare\\nThe nig...</td>\n",
       "    </tr>\n",
       "    <tr>\n",
       "      <th>49398</th>\n",
       "      <td>Jordin Sparks</td>\n",
       "      <td>Battlefield</td>\n",
       "      <td>31</td>\n",
       "      <td>31.0</td>\n",
       "      <td>6.0</td>\n",
       "      <td>2009-07-02</td>\n",
       "      <td>May 8, 2009</td>\n",
       "      <td>R&amp;;B,Pop</td>\n",
       "      <td>Battlefield \\nDon't try to explain your mind, ...</td>\n",
       "    </tr>\n",
       "  </tbody>\n",
       "</table>\n",
       "</div>"
      ],
      "text/plain": [
       "              Artists         Name  Rank  Peak_Rank  Weeks.on.chart  \\\n",
       "49402  Dierks Bentley     Sideways    35       35.0            12.0   \n",
       "49401        Flo Rida        Sugar    34        5.0            14.0   \n",
       "49400      Jason Mraz    I'm Yours    33        6.0            62.0   \n",
       "49395    Brad Paisley         Then    28       28.0            14.0   \n",
       "49398   Jordin Sparks  Battlefield    31       31.0             6.0   \n",
       "\n",
       "             Week              Date  \\\n",
       "49402  2009-07-02  February 3, 2009   \n",
       "49401  2009-07-02    March 31, 2009   \n",
       "49400  2009-07-02    April 15, 2008   \n",
       "49395  2009-07-02    March 23, 2009   \n",
       "49398  2009-07-02       May 8, 2009   \n",
       "\n",
       "                                                   Genre  \\\n",
       "49402                                            Country   \n",
       "49401                                                Rap   \n",
       "49400  Adult Contemporary,Adult Alternative,Pop-Rock,...   \n",
       "49395                                            Country   \n",
       "49398                                           R&;B,Pop   \n",
       "\n",
       "                                                  Lyrics  \n",
       "49402  Sideways \\nHey girl, what's your name?\\nIt's s...  \n",
       "49401  Sugar \\nDumm\\nDouble dee double di\\nDouble dee...  \n",
       "49400  I'm Yours \\nWell you done done me and you bet ...  \n",
       "49395  Then \\nI remember trying not to stare\\nThe nig...  \n",
       "49398  Battlefield \\nDon't try to explain your mind, ...  "
      ]
     },
     "execution_count": 15,
     "metadata": {},
     "output_type": "execute_result"
    }
   ],
   "source": [
    "billboard_100.head()"
   ]
  },
  {
   "cell_type": "markdown",
   "metadata": {},
   "source": [
    "## Exploratory Data Analysis"
   ]
  },
  {
   "cell_type": "code",
   "execution_count": 16,
   "metadata": {},
   "outputs": [
    {
     "data": {
      "text/plain": [
       "20.0    564\n",
       "2.0     287\n",
       "3.0     169\n",
       "4.0     107\n",
       "18.0    106\n",
       "       ... \n",
       "76.0      1\n",
       "79.0      1\n",
       "60.0      1\n",
       "65.0      1\n",
       "87.0      1\n",
       "Name: Weeks.on.chart, Length: 65, dtype: int64"
      ]
     },
     "execution_count": 16,
     "metadata": {},
     "output_type": "execute_result"
    }
   ],
   "source": [
    "# Distribution of weeks on the Billboard chart\n",
    "max_weeks = billboard_100.groupby('Name')['Weeks.on.chart'].max().reset_index()\n",
    "max_weeks['Weeks.on.chart'].value_counts()"
   ]
  },
  {
   "cell_type": "code",
   "execution_count": 70,
   "metadata": {},
   "outputs": [
    {
     "data": {
      "image/png": "[encoded data removed]",
      "text/plain": [
       "<Figure size 1008x720 with 1 Axes>"
      ]
     },
     "metadata": {
      "needs_background": "light"
     },
     "output_type": "display_data"
    }
   ],
   "source": [
    "# Plot the distribution\n",
    "plt.figure(figsize=(14,10))\n",
    "sns.countplot(max_weeks['Weeks.on.chart'])\n",
    "plt.title('Distribution of the Number of Weeks on the Billboard 100 Chart', fontsize=20)\n",
    "plt.xlabel('Number of Weeks', fontsize=20)\n",
    "plt.ylabel('Number of Songs', fontsize=20)\n",
    "plt.yticks(np.arange(0, 700, 100))\n",
    "plt.tick_params(axis='y', which='major', labelsize=16)\n",
    "plt.xticks(np.arange(0, 70, 8))\n",
    "plt.tick_params(axis='x', which='major', labelsize=16)"
   ]
  },
  {
   "cell_type": "code",
   "execution_count": 18,
   "metadata": {},
   "outputs": [
    {
     "data": {
      "text/html": [
       "<div>\n",
       "<style scoped>\n",
       "    .dataframe tbody tr th:only-of-type {\n",
       "        vertical-align: middle;\n",
       "    }\n",
       "\n",
       "    .dataframe tbody tr th {\n",
       "        vertical-align: top;\n",
       "    }\n",
       "\n",
       "    .dataframe thead th {\n",
       "        text-align: right;\n",
       "    }\n",
       "</style>\n",
       "<table border=\"1\" class=\"dataframe\">\n",
       "  <thead>\n",
       "    <tr style=\"text-align: right;\">\n",
       "      <th></th>\n",
       "      <th>Name</th>\n",
       "      <th>Weeks.on.chart</th>\n",
       "    </tr>\n",
       "  </thead>\n",
       "  <tbody>\n",
       "    <tr>\n",
       "      <th>2680</th>\n",
       "      <td>Radioactive</td>\n",
       "      <td>87.0</td>\n",
       "    </tr>\n",
       "    <tr>\n",
       "      <th>2838</th>\n",
       "      <td>Sail</td>\n",
       "      <td>79.0</td>\n",
       "    </tr>\n",
       "    <tr>\n",
       "      <th>1662</th>\n",
       "      <td>I'm Yours</td>\n",
       "      <td>76.0</td>\n",
       "    </tr>\n",
       "    <tr>\n",
       "      <th>703</th>\n",
       "      <td>Counting Stars</td>\n",
       "      <td>68.0</td>\n",
       "    </tr>\n",
       "    <tr>\n",
       "      <th>2791</th>\n",
       "      <td>Rolling In The Deep</td>\n",
       "      <td>65.0</td>\n",
       "    </tr>\n",
       "    <tr>\n",
       "      <th>1437</th>\n",
       "      <td>Ho Hey</td>\n",
       "      <td>62.0</td>\n",
       "    </tr>\n",
       "    <tr>\n",
       "      <th>792</th>\n",
       "      <td>Demons</td>\n",
       "      <td>61.0</td>\n",
       "    </tr>\n",
       "    <tr>\n",
       "      <th>2283</th>\n",
       "      <td>Need You Now</td>\n",
       "      <td>60.0</td>\n",
       "    </tr>\n",
       "    <tr>\n",
       "      <th>144</th>\n",
       "      <td>All Of Me</td>\n",
       "      <td>59.0</td>\n",
       "    </tr>\n",
       "    <tr>\n",
       "      <th>3026</th>\n",
       "      <td>Somebody That I Used To Know</td>\n",
       "      <td>59.0</td>\n",
       "    </tr>\n",
       "    <tr>\n",
       "      <th>2917</th>\n",
       "      <td>Shape Of You</td>\n",
       "      <td>59.0</td>\n",
       "    </tr>\n",
       "    <tr>\n",
       "      <th>3363</th>\n",
       "      <td>Thinking Out Loud</td>\n",
       "      <td>58.0</td>\n",
       "    </tr>\n",
       "    <tr>\n",
       "      <th>2567</th>\n",
       "      <td>Perfect</td>\n",
       "      <td>57.0</td>\n",
       "    </tr>\n",
       "    <tr>\n",
       "      <th>1938</th>\n",
       "      <td>Lights</td>\n",
       "      <td>57.0</td>\n",
       "    </tr>\n",
       "    <tr>\n",
       "      <th>767</th>\n",
       "      <td>Dark Horse</td>\n",
       "      <td>57.0</td>\n",
       "    </tr>\n",
       "    <tr>\n",
       "      <th>3530</th>\n",
       "      <td>Use Somebody</td>\n",
       "      <td>57.0</td>\n",
       "    </tr>\n",
       "    <tr>\n",
       "      <th>3022</th>\n",
       "      <td>Some Nights</td>\n",
       "      <td>56.0</td>\n",
       "    </tr>\n",
       "    <tr>\n",
       "      <th>1560</th>\n",
       "      <td>I Gotta Feeling</td>\n",
       "      <td>56.0</td>\n",
       "    </tr>\n",
       "  </tbody>\n",
       "</table>\n",
       "</div>"
      ],
      "text/plain": [
       "                              Name  Weeks.on.chart\n",
       "2680                   Radioactive            87.0\n",
       "2838                          Sail            79.0\n",
       "1662                     I'm Yours            76.0\n",
       "703                 Counting Stars            68.0\n",
       "2791           Rolling In The Deep            65.0\n",
       "1437                        Ho Hey            62.0\n",
       "792                         Demons            61.0\n",
       "2283                  Need You Now            60.0\n",
       "144                      All Of Me            59.0\n",
       "3026  Somebody That I Used To Know            59.0\n",
       "2917                  Shape Of You            59.0\n",
       "3363             Thinking Out Loud            58.0\n",
       "2567                       Perfect            57.0\n",
       "1938                        Lights            57.0\n",
       "767                     Dark Horse            57.0\n",
       "3530                  Use Somebody            57.0\n",
       "3022                   Some Nights            56.0\n",
       "1560               I Gotta Feeling            56.0"
      ]
     },
     "execution_count": 18,
     "metadata": {},
     "output_type": "execute_result"
    }
   ],
   "source": [
    "# Look at the songs with the longest time on the charts\n",
    "max_weeks.loc[max_weeks['Weeks.on.chart'] >= 55].sort_values(by = 'Weeks.on.chart', ascending=False)"
   ]
  },
  {
   "cell_type": "code",
   "execution_count": 19,
   "metadata": {},
   "outputs": [
    {
     "data": {
      "text/plain": [
       "1.0     122\n",
       "2.0      59\n",
       "4.0      56\n",
       "6.0      52\n",
       "13.0     50\n",
       "       ... \n",
       "96.0      8\n",
       "98.0      7\n",
       "95.0      7\n",
       "97.0      6\n",
       "99.0      3\n",
       "Name: Peak_Rank, Length: 99, dtype: int64"
      ]
     },
     "execution_count": 19,
     "metadata": {},
     "output_type": "execute_result"
    }
   ],
   "source": [
    "# Distribution of the peak ranks on the chart\n",
    "peak_positions = billboard_100.groupby('Name')['Peak_Rank'].min().reset_index()\n",
    "peak_positions['Peak_Rank'].value_counts()"
   ]
  },
  {
   "cell_type": "code",
   "execution_count": 81,
   "metadata": {},
   "outputs": [
    {
     "data": {
      "image/png": "[encoded data removed]",
      "text/plain": [
       "<Figure size 1080x720 with 1 Axes>"
      ]
     },
     "metadata": {
      "needs_background": "light"
     },
     "output_type": "display_data"
    }
   ],
   "source": [
    "# Plot the distribution\n",
    "plt.figure(figsize=(15,10))\n",
    "sns.countplot(peak_positions['Peak_Rank'])\n",
    "plt.title('Distribution of the Peak Rank of Songs on the Billboard 100 Chart', fontsize=20)\n",
    "plt.xlabel('Peak Position', fontsize=20)\n",
    "plt.ylabel('Number of Songs', fontsize=20)\n",
    "plt.yticks(np.arange(0, 135, 10))\n",
    "plt.tick_params(axis='y', which='major', labelsize=16)\n",
    "plt.xticks(np.arange(0, 100, 10))\n",
    "plt.tick_params(axis='x', which='major', labelsize=16)"
   ]
  },
  {
   "cell_type": "markdown",
   "metadata": {},
   "source": [
    "## Lyrics and Sentiment Analysis"
   ]
  },
  {
   "cell_type": "code",
   "execution_count": 21,
   "metadata": {},
   "outputs": [
    {
     "data": {
      "text/plain": [
       "['Artists',\n",
       " 'Name',\n",
       " 'Rank',\n",
       " 'Peak_Rank',\n",
       " 'Weeks.on.chart',\n",
       " 'Week',\n",
       " 'Date',\n",
       " 'Genre',\n",
       " 'Lyrics']"
      ]
     },
     "execution_count": 21,
     "metadata": {},
     "output_type": "execute_result"
    }
   ],
   "source": [
    "# Get the column names \n",
    "billboard_100.columns.tolist()"
   ]
  },
  {
   "cell_type": "code",
   "execution_count": 22,
   "metadata": {},
   "outputs": [],
   "source": [
    "# Function to return the sentiment score for each song\n",
    "def lyrics_sentiment(lyrics):    \n",
    "    analysis = TextBlob(lyrics)\n",
    "    return analysis.sentiment.polarity"
   ]
  },
  {
   "cell_type": "code",
   "execution_count": 23,
   "metadata": {},
   "outputs": [],
   "source": [
    "# Text preprocessing\n",
    "def preprocessing(text):\n",
    "    document = nlp(text, disable=['ner','parser'])\n",
    "    lemmas = [token.lemma_ for token in document]\n",
    "    lemma_clean = [lemma for lemma in lemmas\n",
    "                  if lemma.isalpha() and lemma not in stopwords]\n",
    "    return ''.join(lemma_clean)"
   ]
  },
  {
   "cell_type": "code",
   "execution_count": 24,
   "metadata": {},
   "outputs": [],
   "source": [
    "# Use get_lyric_sentiment to get sentiment score for all the song lyrics\n",
    "sentiment = billboard_100.apply(lambda row: lyrics_sentiment(row['Lyrics']), axis =1)\n",
    "billboard_100['Sentiment'] = sentiment"
   ]
  },
  {
   "cell_type": "code",
   "execution_count": 26,
   "metadata": {},
   "outputs": [],
   "source": [
    "billboard_100_sentiment = billboard_100.drop_duplicates(subset=['Name'], keep='last')"
   ]
  },
  {
   "cell_type": "code",
   "execution_count": 43,
   "metadata": {},
   "outputs": [
    {
     "data": {
      "image/png": "[encoded data removed]",
      "text/plain": [
       "<Figure size 1080x720 with 1 Axes>"
      ]
     },
     "metadata": {
      "needs_background": "light"
     },
     "output_type": "display_data"
    }
   ],
   "source": [
    "# Distribution of lyric sentiment score\n",
    "plt.figure(figsize=(15,10))\n",
    "sns.distplot(billboard_100_sentiment['Sentiment'])\n",
    "plt.title('Distribution of Sentiment Scores on the Billboard 100 Chart', fontsize=20)\n",
    "plt.xlabel('Sentiment Score', fontsize=20)\n",
    "plt.ylabel('Number of Songs', fontsize=20)\n",
    "plt.tick_params(axis='both', which='major', labelsize=16)"
   ]
  },
  {
   "cell_type": "code",
   "execution_count": 28,
   "metadata": {},
   "outputs": [],
   "source": [
    "# Set the index to be the weekid\n",
    "billboard_100.reset_index(inplace=True)"
   ]
  },
  {
   "cell_type": "code",
   "execution_count": 31,
   "metadata": {},
   "outputs": [],
   "source": [
    "# Set the index of the dataframe to the WeekID. \n",
    "# This sets us up to resample dataframe based on time\n",
    "billboard_100['Week'] = pd.to_datetime(billboard_100['Week'],infer_datetime_format=True)\n",
    "billboard_100 = billboard_100.sort_values(by='Week')\n",
    "billboard_100 = billboard_100.reset_index(drop=True)\n",
    "billboard_100 = billboard_100.set_index('Week')"
   ]
  },
  {
   "cell_type": "code",
   "execution_count": null,
   "metadata": {},
   "outputs": [],
   "source": [
    "#Resample dataframe lyrics by year. Get all the lyrics for every song for each year\n",
    "#lyrics_resample = billboard_100['Lyrics'].resample('y').sum()"
   ]
  },
  {
   "cell_type": "code",
   "execution_count": 91,
   "metadata": {},
   "outputs": [],
   "source": [
    "# Resample dataframe sentiment column by year. This arranges the mean lyric sentiment for every year\n",
    "billboard_100_resample = billboard_100['Sentiment'].resample('Y').mean()"
   ]
  },
  {
   "cell_type": "code",
   "execution_count": 93,
   "metadata": {},
   "outputs": [
    {
     "data": {
      "text/plain": [
       "Week\n",
       "2009-12-31    0.109898\n",
       "2010-12-31    0.115367\n",
       "2011-12-31    0.094688\n",
       "2012-12-31    0.114984\n",
       "2013-12-31    0.104620\n",
       "2014-12-31    0.082186\n",
       "2015-12-31    0.086326\n",
       "2016-12-31    0.091607\n",
       "2017-12-31    0.070188\n",
       "2018-12-31    0.045563\n",
       "2019-12-31    0.068603\n",
       "Freq: A-DEC, Name: Sentiment, dtype: float64"
      ]
     },
     "execution_count": 93,
     "metadata": {},
     "output_type": "execute_result"
    }
   ],
   "source": [
    "# Print the average sentiment scores for each year\n",
    "billboard_100_resample.head(12)"
   ]
  },
  {
   "cell_type": "code",
   "execution_count": 86,
   "metadata": {},
   "outputs": [
    {
     "data": {
      "image/png": "[encoded data removed]",
      "text/plain": [
       "<Figure size 1080x720 with 1 Axes>"
      ]
     },
     "metadata": {
      "needs_background": "light"
     },
     "output_type": "display_data"
    }
   ],
   "source": [
    "# Plot lyric sentiment over time\n",
    "plt.figure(figsize=(15,10))\n",
    "billboard_100_resample.plot(label='Sentiment', legend=True)\n",
    "plt.title('Average Sentiment over Time', fontsize=20)\n",
    "plt.xlabel('Year', fontsize=20)\n",
    "plt.ylabel('Sentiment', fontsize=20)\n",
    "plt.tick_params(axis='both', which='major', labelsize=16)"
   ]
  },
  {
   "cell_type": "code",
   "execution_count": 88,
   "metadata": {},
   "outputs": [],
   "source": [
    "billboard_100_resample = billboard_100['Sentiment'].resample('W').mean()"
   ]
  },
  {
   "cell_type": "code",
   "execution_count": 35,
   "metadata": {},
   "outputs": [
    {
     "data": {
      "text/plain": [
       "Text(0, 0.5, 'Sentiment')"
      ]
     },
     "execution_count": 35,
     "metadata": {},
     "output_type": "execute_result"
    },
    {
     "data": {
      "image/png": "[encoded data removed]",
      "text/plain": [
       "<Figure size 1080x720 with 1 Axes>"
      ]
     },
     "metadata": {
      "needs_background": "light"
     },
     "output_type": "display_data"
    }
   ],
   "source": [
    "#Plot lyric sentiment over time\n",
    "plt.figure(figsize=(15,10))\n",
    "billboard_100_resample.plot(label='Sentiment', legend=True)\n",
    "plt.title('Average Sentiment per Week over Time')\n",
    "plt.xlabel('Week')\n",
    "plt.ylabel('Sentiment')"
   ]
  },
  {
   "cell_type": "code",
   "execution_count": null,
   "metadata": {},
   "outputs": [],
   "source": []
  },
  {
   "cell_type": "code",
   "execution_count": null,
   "metadata": {},
   "outputs": [],
   "source": []
  },
  {
   "cell_type": "code",
   "execution_count": null,
   "metadata": {},
   "outputs": [],
   "source": []
  },
  {
   "cell_type": "markdown",
   "metadata": {},
   "source": [
    "## Text Analysis"
   ]
  },
  {
   "cell_type": "code",
   "execution_count": null,
   "metadata": {},
   "outputs": [],
   "source": [
    "# Change all to lowercase and remove all punctuation\n",
    "def clean_text(x):\n",
    "    punc='!\"'',.@#$%^&*()-_+:;?><[]{}`~1234567890'\n",
    "    lowercase = x.lower()\n",
    "    for ch in punc:\n",
    "        lowercase = lowercase.replace(ch,'')\n",
    "    return lowercase\n",
    "\n",
    "billboard_100['Lyrics'] = billboard_100['Lyrics'].apply(clean_text)"
   ]
  },
  {
   "cell_type": "code",
   "execution_count": null,
   "metadata": {},
   "outputs": [],
   "source": [
    "# Keyword extraction\n",
    "def keyword_extract(texts):\n",
    "    xkeywords = []\n",
    "    values = keywords(text=preprocessing(texts), split='\\n', scores=True)\n",
    "    for x in values[:10]:\n",
    "        xkeywords.append(x[0])\n",
    "    try:\n",
    "        return xkeywords\n",
    "    except:\n",
    "        return 'there is no content'"
   ]
  },
  {
   "cell_type": "code",
   "execution_count": null,
   "metadata": {},
   "outputs": [],
   "source": [
    "billboard_100.reset_index(inplace=True)"
   ]
  },
  {
   "cell_type": "code",
   "execution_count": null,
   "metadata": {},
   "outputs": [],
   "source": [
    "pd.to_datetime(billboard_100['Week'], infer_datetime_format = True)"
   ]
  },
  {
   "cell_type": "code",
   "execution_count": null,
   "metadata": {},
   "outputs": [],
   "source": [
    "# Convert the weeks column to datetime\n",
    "def unique(list1):\n",
    "   # intilize a null list\n",
    "     unique_list = []\n",
    "   # traverse for all elements\n",
    "     for x in list1:\n",
    "         # check if exists in unique_list or not\n",
    "         if x not in unique_list:\n",
    "              unique_list.append(x)\n",
    "     return unique_list"
   ]
  },
  {
   "cell_type": "code",
   "execution_count": null,
   "metadata": {},
   "outputs": [],
   "source": [
    "#Stores unique words of each lyrics song into a new column called words\n",
    "#list used to store the words\n",
    "words = []\n",
    "#iterate trought each lyric and split unique words appending the result into the words list\n",
    "billboard_100 = billboard_100.reset_index(drop=True)\n",
    "for word in billboard_100['Lyrics'].tolist():\n",
    "    words.append(unique(lyrics_to_words(word).split()))\n",
    "#create the new column with the information of words lists\n",
    "billboard_100['Words'] = words\n",
    "billboard_100.head()"
   ]
  },
  {
   "cell_type": "code",
   "execution_count": null,
   "metadata": {},
   "outputs": [],
   "source": [
    "# Create dataframes for each individual year"
   ]
  },
  {
   "cell_type": "code",
   "execution_count": null,
   "metadata": {},
   "outputs": [],
   "source": [
    "# Data from 2009\n",
    "billboard_2009 = billboard_100.loc[(billboard_100['Week'] >= '2009-01-01') & (billboard_100['Week'] <= '2009-12-31')]"
   ]
  },
  {
   "cell_type": "code",
   "execution_count": null,
   "metadata": {},
   "outputs": [],
   "source": [
    "# Data from 2010\n",
    "billboard_2010 = billboard_100.loc[(billboard_100['Week'] >= '2010-01-01') & (billboard_100['Week'] <= '2010-12-31')]"
   ]
  },
  {
   "cell_type": "code",
   "execution_count": null,
   "metadata": {},
   "outputs": [],
   "source": [
    "# Data from 2011\n",
    "billboard_2011 = billboard_100.loc[(billboard_100['Week'] >= '2011-01-01') & (billboard_100['Week'] <= '2011-12-31')]"
   ]
  },
  {
   "cell_type": "code",
   "execution_count": null,
   "metadata": {},
   "outputs": [],
   "source": [
    "# Data from 2012\n",
    "billboard_2012 = billboard_100.loc[(billboard_100['Week'] >= '2012-01-01') & (billboard_100['Week'] <= '2012-12-31')]"
   ]
  },
  {
   "cell_type": "code",
   "execution_count": null,
   "metadata": {},
   "outputs": [],
   "source": [
    "# Data from 2013\n",
    "billboard_2013 = billboard_100.loc[(billboard_100['Week'] >= '2013-01-01') & (billboard_100['Week'] <= '2013-12-31')]"
   ]
  },
  {
   "cell_type": "code",
   "execution_count": null,
   "metadata": {},
   "outputs": [],
   "source": [
    "# Data from 2014\n",
    "billboard_2014 = billboard_100.loc[(billboard_100['Week'] >= '2014-01-01') & (billboard_100['Week'] <= '2014-12-31')]"
   ]
  },
  {
   "cell_type": "code",
   "execution_count": null,
   "metadata": {},
   "outputs": [],
   "source": [
    "# Data from 2015\n",
    "billboard_2015 = billboard_100.loc[(billboard_100['Week'] >= '2015-01-01') & (billboard_100['Week'] <= '2015-12-31')]"
   ]
  },
  {
   "cell_type": "code",
   "execution_count": null,
   "metadata": {},
   "outputs": [],
   "source": [
    "# Data from 2016\n",
    "billboard_2016 = billboard_100.loc[(billboard_100['Week'] >= '2016-01-01') & (billboard_100['Week'] <= '2016-12-31')]"
   ]
  },
  {
   "cell_type": "code",
   "execution_count": null,
   "metadata": {},
   "outputs": [],
   "source": [
    "# Data from 2017\n",
    "billboard_2017 = billboard_100.loc[(billboard_100['Week'] >= '2017-01-01') & (billboard_100['Week'] <= '2017-12-31')]"
   ]
  },
  {
   "cell_type": "code",
   "execution_count": null,
   "metadata": {},
   "outputs": [],
   "source": [
    "# Data from 2018\n",
    "billboard_2018 = billboard_100.loc[(billboard_100['Week'] >= '2018-01-01') & (billboard_100['Week'] <= '2018-12-31')]"
   ]
  },
  {
   "cell_type": "code",
   "execution_count": null,
   "metadata": {},
   "outputs": [],
   "source": [
    "# Data from 2019\n",
    "billboard_2019 = billboard_100.loc[(billboard_100['Week'] >= '2019-01-01') & (billboard_100['Week'] <= '2019-12-31')]"
   ]
  },
  {
   "cell_type": "code",
   "execution_count": null,
   "metadata": {},
   "outputs": [],
   "source": [
    "keyword_extract(lyrics_2009)"
   ]
  },
  {
   "cell_type": "code",
   "execution_count": null,
   "metadata": {},
   "outputs": [],
   "source": [
    "# 2009 \n",
    "# Get the lyrics\n",
    "lyrics_2009 = billboard_2009['Lyrics'].sum()\n",
    "\n",
    "from rake_nltk import Rake\n",
    "\n",
    "r = Rake()\n",
    "\n",
    "r.extract_keywords_from_text(lyrics_2009)\n",
    "\n",
    "r.get_ranked_phrases()"
   ]
  },
  {
   "cell_type": "code",
   "execution_count": null,
   "metadata": {},
   "outputs": [],
   "source": [
    "keyword_extract(lyrics_2009)"
   ]
  },
  {
   "cell_type": "code",
   "execution_count": null,
   "metadata": {},
   "outputs": [],
   "source": []
  },
  {
   "cell_type": "code",
   "execution_count": null,
   "metadata": {},
   "outputs": [],
   "source": []
  },
  {
   "cell_type": "code",
   "execution_count": null,
   "metadata": {},
   "outputs": [],
   "source": []
  },
  {
   "cell_type": "code",
   "execution_count": null,
   "metadata": {},
   "outputs": [],
   "source": []
  },
  {
   "cell_type": "code",
   "execution_count": null,
   "metadata": {},
   "outputs": [],
   "source": []
  },
  {
   "cell_type": "code",
   "execution_count": null,
   "metadata": {},
   "outputs": [],
   "source": []
  },
  {
   "cell_type": "code",
   "execution_count": null,
   "metadata": {},
   "outputs": [],
   "source": []
  },
  {
   "cell_type": "code",
   "execution_count": null,
   "metadata": {},
   "outputs": [],
   "source": [
    "from nltk.corpus import stopwords \n",
    "from nltk.tokenize import word_tokenize \n",
    "\n",
    "def remove_stopwords(text): \n",
    "    stop_words = set(stopwords.words(\"english\")) \n",
    "    word_tokens = word_tokenize(text) \n",
    "    filtered_text = [word for word in word_tokens if word not in stop_words] \n",
    "    return filtered_text "
   ]
  },
  {
   "cell_type": "code",
   "execution_count": null,
   "metadata": {},
   "outputs": [],
   "source": [
    "# 2009 \n",
    "# Get the lyrics\n",
    "lyrics_2009 = billboard_2009['Lyrics'].sum()\n",
    "\n",
    "# Use return_keywords function on lyrics_resample to get the top 20 keywords for each year\n",
    "keywords_2009 = [keyword_extract for x in lyrics_2009]\n",
    "\n",
    "# Put lyric_keywords into a DataFrame and include lyrics_resample and hot100_resample\n",
    "keywords_2009 = pd.DataFrame(keywords_2009, columns = ['Keywords'])\n",
    "keywords_2009 = keywords_2009.set_index(lyrics_2009.index)\n",
    "keywords_2009['Lyrics'] = lyrics_2009\n",
    "keywords_2009['Sentiment'] = lyrics_2009"
   ]
  },
  {
   "cell_type": "code",
   "execution_count": null,
   "metadata": {},
   "outputs": [],
   "source": [
    "# Compute the lexical richness of each song\n",
    "\n",
    "def lexical_richness(text):\n",
    "    return len(set(text))/len(text)\n",
    "\n",
    "texts = billboard_100['Lyrics']  #Will this line work??\n",
    "\n",
    "lexicalrichness = [lexical_richness(text) for text in texts]\n",
    "\n",
    "billboard_100['lexicalrichness'] = lexicalrichness\n",
    "\n",
    "billboard_100.sort_values(by='lexical_richness', ascending=False)"
   ]
  },
  {
   "cell_type": "code",
   "execution_count": null,
   "metadata": {},
   "outputs": [],
   "source": [
    "# Tokens of each song\n",
    "tokens = [len(text) for text in texts]\n",
    "\n",
    "billboard_100['tokens'] = tokens"
   ]
  },
  {
   "cell_type": "code",
   "execution_count": null,
   "metadata": {},
   "outputs": [],
   "source": [
    "# Types of each song \n",
    "types = [len(set(text)) for text in texts]\n",
    "\n",
    "billboard_100['types'] = types"
   ]
  },
  {
   "cell_type": "code",
   "execution_count": null,
   "metadata": {},
   "outputs": [],
   "source": [
    "billboard_100['tokens'] = billboard_100['tokens'].apply(lambda x: float(x))\n",
    "billboard_100['types'] = billboard_100['types'].apply(lambda x: float(x))"
   ]
  },
  {
   "cell_type": "code",
   "execution_count": null,
   "metadata": {},
   "outputs": [],
   "source": [
    "# Type-to-token ratio\n",
    "ttr = billboard_100['types']/billboard_100['tokens']\n",
    "\n",
    "billboard_100['TTR'] = ttr"
   ]
  },
  {
   "cell_type": "code",
   "execution_count": null,
   "metadata": {},
   "outputs": [],
   "source": [
    "billboard_100.head()"
   ]
  },
  {
   "cell_type": "code",
   "execution_count": null,
   "metadata": {},
   "outputs": [],
   "source": [
    "billboard_100_resample = billboard_100['TTR'].resample('W').mean()"
   ]
  },
  {
   "cell_type": "code",
   "execution_count": null,
   "metadata": {},
   "outputs": [],
   "source": [
    "#Plot lyric sentiment over time\n",
    "billboard_100_resample.plot(label='TTR', legend=True)\n",
    "plt.title('Average Type-to-Token Ratio per Week over Time')\n",
    "plt.xlabel('Week')\n",
    "plt.ylabel('Sentiment')"
   ]
  },
  {
   "cell_type": "code",
   "execution_count": null,
   "metadata": {},
   "outputs": [],
   "source": []
  },
  {
   "cell_type": "code",
   "execution_count": null,
   "metadata": {},
   "outputs": [],
   "source": []
  },
  {
   "cell_type": "code",
   "execution_count": null,
   "metadata": {},
   "outputs": [],
   "source": [
    "#Compute the word count of each song and create a word count column\n",
    "#then plot the word count dist\n",
    "\n",
    "\n",
    "\n"
   ]
  }
 ],
 "metadata": {
  "kernelspec": {
   "display_name": "Python 3",
   "language": "python",
   "name": "python3"
  },
  "language_info": {
   "codemirror_mode": {
    "name": "ipython",
    "version": 3
   },
   "file_extension": ".py",
   "mimetype": "text/x-python",
   "name": "python",
   "nbconvert_exporter": "python",
   "pygments_lexer": "ipython3",
   "version": "3.8.3"
  }
 },
 "nbformat": 4,
 "nbformat_minor": 4
}
