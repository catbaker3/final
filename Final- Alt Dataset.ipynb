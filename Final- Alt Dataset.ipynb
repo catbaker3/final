{
 "cells": [
  {
   "cell_type": "markdown",
   "metadata": {},
   "source": [
    "# Final Project for CAP6307\n",
    "## Cat Baker and Darshay Blount\n",
    "### Fall 2020"
   ]
  },
  {
   "cell_type": "code",
   "execution_count": 1,
   "metadata": {},
   "outputs": [
    {
     "name": "stdout",
     "output_type": "stream",
     "text": [
      "Requirement already satisfied: lyricsgenius in /Applications/anaconda3/lib/python3.8/site-packages (2.0.2)\n",
      "Requirement already satisfied: beautifulsoup4>=4.6.0 in /Applications/anaconda3/lib/python3.8/site-packages (from lyricsgenius) (4.9.1)\n",
      "Requirement already satisfied: requests>=2.20.0 in /Applications/anaconda3/lib/python3.8/site-packages (from lyricsgenius) (2.24.0)\n",
      "Requirement already satisfied: soupsieve>1.2 in /Applications/anaconda3/lib/python3.8/site-packages (from beautifulsoup4>=4.6.0->lyricsgenius) (2.0.1)\n",
      "Requirement already satisfied: chardet<4,>=3.0.2 in /Applications/anaconda3/lib/python3.8/site-packages (from requests>=2.20.0->lyricsgenius) (3.0.4)\n",
      "Requirement already satisfied: certifi>=2017.4.17 in /Applications/anaconda3/lib/python3.8/site-packages (from requests>=2.20.0->lyricsgenius) (2020.6.20)\n",
      "Requirement already satisfied: urllib3!=1.25.0,!=1.25.1,<1.26,>=1.21.1 in /Applications/anaconda3/lib/python3.8/site-packages (from requests>=2.20.0->lyricsgenius) (1.25.9)\n",
      "Requirement already satisfied: idna<3,>=2.5 in /Applications/anaconda3/lib/python3.8/site-packages (from requests>=2.20.0->lyricsgenius) (2.10)\n",
      "Requirement already satisfied: textblob in /Applications/anaconda3/lib/python3.8/site-packages (0.15.3)\n",
      "Requirement already satisfied: nltk>=3.1 in /Applications/anaconda3/lib/python3.8/site-packages (from textblob) (3.5)\n",
      "Requirement already satisfied: click in /Applications/anaconda3/lib/python3.8/site-packages (from nltk>=3.1->textblob) (7.1.2)\n",
      "Requirement already satisfied: joblib in /Applications/anaconda3/lib/python3.8/site-packages (from nltk>=3.1->textblob) (0.16.0)\n",
      "Requirement already satisfied: tqdm in /Applications/anaconda3/lib/python3.8/site-packages (from nltk>=3.1->textblob) (4.47.0)\n",
      "Requirement already satisfied: regex in /Applications/anaconda3/lib/python3.8/site-packages (from nltk>=3.1->textblob) (2020.6.8)\n",
      "[nltk_data] Downloading package brown to /Users/catbaker3/nltk_data...\n",
      "[nltk_data]   Package brown is already up-to-date!\n",
      "[nltk_data] Downloading package punkt to /Users/catbaker3/nltk_data...\n",
      "[nltk_data]   Package punkt is already up-to-date!\n",
      "[nltk_data] Downloading package wordnet to\n",
      "[nltk_data]     /Users/catbaker3/nltk_data...\n",
      "[nltk_data]   Package wordnet is already up-to-date!\n",
      "[nltk_data] Downloading package averaged_perceptron_tagger to\n",
      "[nltk_data]     /Users/catbaker3/nltk_data...\n",
      "[nltk_data]   Package averaged_perceptron_tagger is already up-to-\n",
      "[nltk_data]       date!\n",
      "[nltk_data] Downloading package conll2000 to\n",
      "[nltk_data]     /Users/catbaker3/nltk_data...\n",
      "[nltk_data]   Package conll2000 is already up-to-date!\n",
      "[nltk_data] Downloading package movie_reviews to\n",
      "[nltk_data]     /Users/catbaker3/nltk_data...\n",
      "[nltk_data]   Package movie_reviews is already up-to-date!\n",
      "Finished.\n"
     ]
    }
   ],
   "source": [
    "# install modules\n",
    "!pip install lyricsgenius\n",
    "!pip install textblob\n",
    "!python -m textblob.download_corpora"
   ]
  },
  {
   "cell_type": "code",
   "execution_count": 2,
   "metadata": {},
   "outputs": [
    {
     "name": "stderr",
     "output_type": "stream",
     "text": [
      "[nltk_data] Downloading package stopwords to\n",
      "[nltk_data]     /Users/catbaker3/nltk_data...\n",
      "[nltk_data]   Package stopwords is already up-to-date!\n"
     ]
    }
   ],
   "source": [
    "# import packages\n",
    "from gensim.summarization import keywords\n",
    "import spacy\n",
    "import nltk\n",
    "from nltk.corpus import stopwords\n",
    "import pandas as pd\n",
    "import lyricsgenius\n",
    "import textblob\n",
    "from textblob import TextBlob\n",
    "import matplotlib.pyplot as plt\n",
    "import seaborn as sns\n",
    "import pandas as pd\n",
    "import numpy as np\n",
    "\n",
    "# download spacy and import English\n",
    "nltk.download('stopwords')\n",
    "from spacy.lang.en import English"
   ]
  },
  {
   "cell_type": "code",
   "execution_count": 3,
   "metadata": {},
   "outputs": [],
   "source": [
    "# Import stopwords\n",
    "stopwords = set(stopwords.words('english'))"
   ]
  },
  {
   "cell_type": "code",
   "execution_count": 4,
   "metadata": {},
   "outputs": [],
   "source": [
    "# Set the nlp language to English\n",
    "nlp = English()\n",
    "nlp.max_length = 10000000"
   ]
  },
  {
   "cell_type": "code",
   "execution_count": 5,
   "metadata": {},
   "outputs": [],
   "source": [
    "# Set up the token, id, and secret for the Lyric Genius API\n",
    "client_id = 'jGXOq14YmSS490yTKQ7CPzu8l7ui5v4JnbBvhIhQV8VV74cSTpoFEqoKo5NqRuTT'\n",
    "client_secret = 'MCDsDPsZLCO10I9_cAOVZp91OAIFgx-aUDmaZ79hHQ9jgnquVkDROF1NBjlIisu9X2yG86OrGz7nJF26VB5nQw'\n",
    "access_token = 'vcwFJvy8po5FLkEkeTeSbhkbfidq43zZqTxoBNLnEbL7tltCTbDRiVeLJ68AL2rG'"
   ]
  },
  {
   "cell_type": "code",
   "execution_count": 6,
   "metadata": {},
   "outputs": [],
   "source": [
    "# Set up the API information\n",
    "genius = lyricsgenius.Genius(access_token)"
   ]
  },
  {
   "cell_type": "code",
   "execution_count": 7,
   "metadata": {},
   "outputs": [],
   "source": [
    "# Import the Billboard Top 100 dataset\n",
    "billboard_100 = pd.read_csv('billboardHot100_1999-2019.csv')"
   ]
  },
  {
   "cell_type": "code",
   "execution_count": 8,
   "metadata": {},
   "outputs": [
    {
     "data": {
      "text/html": [
       "<div>\n",
       "<style scoped>\n",
       "    .dataframe tbody tr th:only-of-type {\n",
       "        vertical-align: middle;\n",
       "    }\n",
       "\n",
       "    .dataframe tbody tr th {\n",
       "        vertical-align: top;\n",
       "    }\n",
       "\n",
       "    .dataframe thead th {\n",
       "        text-align: right;\n",
       "    }\n",
       "</style>\n",
       "<table border=\"1\" class=\"dataframe\">\n",
       "  <thead>\n",
       "    <tr style=\"text-align: right;\">\n",
       "      <th></th>\n",
       "      <th>Unnamed: 0</th>\n",
       "      <th>Artists</th>\n",
       "      <th>Name</th>\n",
       "      <th>Weekly.rank</th>\n",
       "      <th>Peak.position</th>\n",
       "      <th>Weeks.on.chart</th>\n",
       "      <th>Week</th>\n",
       "      <th>Date</th>\n",
       "      <th>Genre</th>\n",
       "      <th>Writing.Credits</th>\n",
       "      <th>Lyrics</th>\n",
       "      <th>Features</th>\n",
       "    </tr>\n",
       "  </thead>\n",
       "  <tbody>\n",
       "    <tr>\n",
       "      <th>0</th>\n",
       "      <td>1</td>\n",
       "      <td>Lil Nas,</td>\n",
       "      <td>Old Town Road</td>\n",
       "      <td>1</td>\n",
       "      <td>1.0</td>\n",
       "      <td>7.0</td>\n",
       "      <td>2019-07-06</td>\n",
       "      <td>April 5, 2019</td>\n",
       "      <td>Country,Atlanta,Alternative Country,Hip-Hop,Tr...</td>\n",
       "      <td>Jozzy, Atticus ross, Trent reznor, Billy ray c...</td>\n",
       "      <td>Old Town Road Remix \\nOh, oh-oh\\nOh\\nYeah, I'm...</td>\n",
       "      <td>Billy Ray Cyrus</td>\n",
       "    </tr>\n",
       "    <tr>\n",
       "      <th>1</th>\n",
       "      <td>2</td>\n",
       "      <td>Shawn Mendes, Camila Cabello</td>\n",
       "      <td>Senorita</td>\n",
       "      <td>2</td>\n",
       "      <td>NaN</td>\n",
       "      <td>NaN</td>\n",
       "      <td>2019-07-06</td>\n",
       "      <td>June 21, 2019</td>\n",
       "      <td>Pop</td>\n",
       "      <td>Cashmere cat, Jack patterson, Charli xcx, Benn...</td>\n",
       "      <td>Senorita \\nI love it when you call me senorita...</td>\n",
       "      <td>NaN</td>\n",
       "    </tr>\n",
       "    <tr>\n",
       "      <th>2</th>\n",
       "      <td>3</td>\n",
       "      <td>Billie Eilish</td>\n",
       "      <td>Bad Guy</td>\n",
       "      <td>3</td>\n",
       "      <td>2.0</td>\n",
       "      <td>13.0</td>\n",
       "      <td>2019-07-06</td>\n",
       "      <td>March 29, 2019</td>\n",
       "      <td>Hip-Hop,Dark Pop,House,Trap,Memes,Alternative ...</td>\n",
       "      <td>Billie eilish, Finneas</td>\n",
       "      <td>bad guy \\nWhite shirt now red, my bloody nose\\...</td>\n",
       "      <td>NaN</td>\n",
       "    </tr>\n",
       "    <tr>\n",
       "      <th>3</th>\n",
       "      <td>4</td>\n",
       "      <td>Khalid</td>\n",
       "      <td>Talk</td>\n",
       "      <td>4</td>\n",
       "      <td>3.0</td>\n",
       "      <td>20.0</td>\n",
       "      <td>2019-07-06</td>\n",
       "      <td>February 7, 2019</td>\n",
       "      <td>Synth-Pop,Pop</td>\n",
       "      <td>Howard lawrence, Guy lawrence, Khalid</td>\n",
       "      <td>Talk \\nCan we just talk? Can we just talk?\\nTa...</td>\n",
       "      <td>NaN</td>\n",
       "    </tr>\n",
       "    <tr>\n",
       "      <th>4</th>\n",
       "      <td>5</td>\n",
       "      <td>Ed Sheeran, Justin Bieber</td>\n",
       "      <td>I Don't Care</td>\n",
       "      <td>5</td>\n",
       "      <td>2.0</td>\n",
       "      <td>7.0</td>\n",
       "      <td>2019-07-06</td>\n",
       "      <td>May 10, 2019</td>\n",
       "      <td>Canada,UK,Dance,Dance-Pop,Pop</td>\n",
       "      <td>Ed sheeran, Justin bieber, Shellback, Max mart...</td>\n",
       "      <td>I Don't Care \\nI'm at a party I don't wanna be...</td>\n",
       "      <td>NaN</td>\n",
       "    </tr>\n",
       "    <tr>\n",
       "      <th>5</th>\n",
       "      <td>6</td>\n",
       "      <td>Jonas Brothers</td>\n",
       "      <td>Sucker</td>\n",
       "      <td>6</td>\n",
       "      <td>1.0</td>\n",
       "      <td>17.0</td>\n",
       "      <td>2019-07-06</td>\n",
       "      <td>March 1, 2019</td>\n",
       "      <td>Alternative Pop,Boy Band,Teen Pop,Pop-Rock,Pop</td>\n",
       "      <td>Ryan tedder, Louis bell, Frank dukes, Nick jon...</td>\n",
       "      <td>Sucker \\nWe go together\\nBetter than birds of ...</td>\n",
       "      <td>NaN</td>\n",
       "    </tr>\n",
       "    <tr>\n",
       "      <th>6</th>\n",
       "      <td>7</td>\n",
       "      <td>DaBaby</td>\n",
       "      <td>Suge</td>\n",
       "      <td>7</td>\n",
       "      <td>7.0</td>\n",
       "      <td>13.0</td>\n",
       "      <td>2019-07-06</td>\n",
       "      <td>March 1, 2019</td>\n",
       "      <td>Trap,East Coast,Rap</td>\n",
       "      <td>Jetsonmade, Pooh beatz, Dababy</td>\n",
       "      <td>Suge \\nPooh, you a fool for this one\\nHa\\nOh L...</td>\n",
       "      <td>NaN</td>\n",
       "    </tr>\n",
       "    <tr>\n",
       "      <th>7</th>\n",
       "      <td>8</td>\n",
       "      <td>Drake</td>\n",
       "      <td>Money In The Grave</td>\n",
       "      <td>8</td>\n",
       "      <td>7.0</td>\n",
       "      <td>2.0</td>\n",
       "      <td>2019-07-06</td>\n",
       "      <td>June 15, 2019</td>\n",
       "      <td>Hip-Hop,Rap,Basketball,NBA,Canada</td>\n",
       "      <td>Asoteric, Ljay currie, Cydney christine, Rick ...</td>\n",
       "      <td>Money in the Grave \\nYeah, okay\\nLil CC on the...</td>\n",
       "      <td>Rick Ross</td>\n",
       "    </tr>\n",
       "    <tr>\n",
       "      <th>8</th>\n",
       "      <td>9</td>\n",
       "      <td>Chris Brown</td>\n",
       "      <td>No Guidance</td>\n",
       "      <td>9</td>\n",
       "      <td>9.0</td>\n",
       "      <td>3.0</td>\n",
       "      <td>2019-07-06</td>\n",
       "      <td>June 8, 2019</td>\n",
       "      <td>Alternative R&amp;;B,Hip-Hop,Rap,Pop,DMV,Canada,R&amp;;B</td>\n",
       "      <td>Velous, J louis, Vinylz, Michee patrick lebrun...</td>\n",
       "      <td>No Guidance \\nBefore I die I'm tryna fuck you,...</td>\n",
       "      <td>Drake</td>\n",
       "    </tr>\n",
       "    <tr>\n",
       "      <th>9</th>\n",
       "      <td>10</td>\n",
       "      <td>Post Malone</td>\n",
       "      <td>Wow.</td>\n",
       "      <td>10</td>\n",
       "      <td>2.0</td>\n",
       "      <td>27.0</td>\n",
       "      <td>2019-07-06</td>\n",
       "      <td>December 24, 2018</td>\n",
       "      <td>Memes,Hip-Hop,Trap,Rap</td>\n",
       "      <td>Frank dukes, Billy walsh, Louis bell, Post malone</td>\n",
       "      <td>Wow \\nSaid she tired of little money, need a b...</td>\n",
       "      <td>NaN</td>\n",
       "    </tr>\n",
       "  </tbody>\n",
       "</table>\n",
       "</div>"
      ],
      "text/plain": [
       "   Unnamed: 0                       Artists                Name  Weekly.rank  \\\n",
       "0           1                      Lil Nas,       Old Town Road            1   \n",
       "1           2  Shawn Mendes, Camila Cabello            Senorita            2   \n",
       "2           3                 Billie Eilish             Bad Guy            3   \n",
       "3           4                        Khalid                Talk            4   \n",
       "4           5     Ed Sheeran, Justin Bieber        I Don't Care            5   \n",
       "5           6                Jonas Brothers              Sucker            6   \n",
       "6           7                        DaBaby                Suge            7   \n",
       "7           8                         Drake  Money In The Grave            8   \n",
       "8           9                   Chris Brown         No Guidance            9   \n",
       "9          10                   Post Malone                Wow.           10   \n",
       "\n",
       "   Peak.position  Weeks.on.chart        Week               Date  \\\n",
       "0            1.0             7.0  2019-07-06      April 5, 2019   \n",
       "1            NaN             NaN  2019-07-06      June 21, 2019   \n",
       "2            2.0            13.0  2019-07-06     March 29, 2019   \n",
       "3            3.0            20.0  2019-07-06   February 7, 2019   \n",
       "4            2.0             7.0  2019-07-06       May 10, 2019   \n",
       "5            1.0            17.0  2019-07-06      March 1, 2019   \n",
       "6            7.0            13.0  2019-07-06      March 1, 2019   \n",
       "7            7.0             2.0  2019-07-06      June 15, 2019   \n",
       "8            9.0             3.0  2019-07-06       June 8, 2019   \n",
       "9            2.0            27.0  2019-07-06  December 24, 2018   \n",
       "\n",
       "                                               Genre  \\\n",
       "0  Country,Atlanta,Alternative Country,Hip-Hop,Tr...   \n",
       "1                                                Pop   \n",
       "2  Hip-Hop,Dark Pop,House,Trap,Memes,Alternative ...   \n",
       "3                                      Synth-Pop,Pop   \n",
       "4                      Canada,UK,Dance,Dance-Pop,Pop   \n",
       "5     Alternative Pop,Boy Band,Teen Pop,Pop-Rock,Pop   \n",
       "6                                Trap,East Coast,Rap   \n",
       "7                  Hip-Hop,Rap,Basketball,NBA,Canada   \n",
       "8   Alternative R&;B,Hip-Hop,Rap,Pop,DMV,Canada,R&;B   \n",
       "9                             Memes,Hip-Hop,Trap,Rap   \n",
       "\n",
       "                                     Writing.Credits  \\\n",
       "0  Jozzy, Atticus ross, Trent reznor, Billy ray c...   \n",
       "1  Cashmere cat, Jack patterson, Charli xcx, Benn...   \n",
       "2                             Billie eilish, Finneas   \n",
       "3              Howard lawrence, Guy lawrence, Khalid   \n",
       "4  Ed sheeran, Justin bieber, Shellback, Max mart...   \n",
       "5  Ryan tedder, Louis bell, Frank dukes, Nick jon...   \n",
       "6                     Jetsonmade, Pooh beatz, Dababy   \n",
       "7  Asoteric, Ljay currie, Cydney christine, Rick ...   \n",
       "8  Velous, J louis, Vinylz, Michee patrick lebrun...   \n",
       "9  Frank dukes, Billy walsh, Louis bell, Post malone   \n",
       "\n",
       "                                              Lyrics         Features  \n",
       "0  Old Town Road Remix \\nOh, oh-oh\\nOh\\nYeah, I'm...  Billy Ray Cyrus  \n",
       "1  Senorita \\nI love it when you call me senorita...              NaN  \n",
       "2  bad guy \\nWhite shirt now red, my bloody nose\\...              NaN  \n",
       "3  Talk \\nCan we just talk? Can we just talk?\\nTa...              NaN  \n",
       "4  I Don't Care \\nI'm at a party I don't wanna be...              NaN  \n",
       "5  Sucker \\nWe go together\\nBetter than birds of ...              NaN  \n",
       "6  Suge \\nPooh, you a fool for this one\\nHa\\nOh L...              NaN  \n",
       "7  Money in the Grave \\nYeah, okay\\nLil CC on the...        Rick Ross  \n",
       "8  No Guidance \\nBefore I die I'm tryna fuck you,...            Drake  \n",
       "9  Wow \\nSaid she tired of little money, need a b...              NaN  "
      ]
     },
     "execution_count": 8,
     "metadata": {},
     "output_type": "execute_result"
    }
   ],
   "source": [
    "# Preview the dataframe\n",
    "billboard_100.head(10)"
   ]
  },
  {
   "cell_type": "code",
   "execution_count": 9,
   "metadata": {},
   "outputs": [],
   "source": [
    "# Sort the dataframe by week ID (ascending)\n",
    "billboard_100 = billboard_100.sort_values(by=['Week'])"
   ]
  },
  {
   "cell_type": "code",
   "execution_count": 10,
   "metadata": {},
   "outputs": [
    {
     "data": {
      "text/html": [
       "<div>\n",
       "<style scoped>\n",
       "    .dataframe tbody tr th:only-of-type {\n",
       "        vertical-align: middle;\n",
       "    }\n",
       "\n",
       "    .dataframe tbody tr th {\n",
       "        vertical-align: top;\n",
       "    }\n",
       "\n",
       "    .dataframe thead th {\n",
       "        text-align: right;\n",
       "    }\n",
       "</style>\n",
       "<table border=\"1\" class=\"dataframe\">\n",
       "  <thead>\n",
       "    <tr style=\"text-align: right;\">\n",
       "      <th></th>\n",
       "      <th>Unnamed: 0</th>\n",
       "      <th>Artists</th>\n",
       "      <th>Name</th>\n",
       "      <th>Weekly.rank</th>\n",
       "      <th>Peak.position</th>\n",
       "      <th>Weeks.on.chart</th>\n",
       "      <th>Week</th>\n",
       "      <th>Date</th>\n",
       "      <th>Genre</th>\n",
       "      <th>Writing.Credits</th>\n",
       "      <th>Lyrics</th>\n",
       "      <th>Features</th>\n",
       "    </tr>\n",
       "  </thead>\n",
       "  <tbody>\n",
       "    <tr>\n",
       "      <th>97224</th>\n",
       "      <td>97225</td>\n",
       "      <td>The Offspring</td>\n",
       "      <td>Why Don't You Get A Job?</td>\n",
       "      <td>100</td>\n",
       "      <td>74.0</td>\n",
       "      <td>15.0</td>\n",
       "      <td>1999-07-12</td>\n",
       "      <td>NaN</td>\n",
       "      <td>Ska,Punk Rock,Rock</td>\n",
       "      <td>Dexter holland</td>\n",
       "      <td>Why Don't You Get a Job? \\nMy friend's got a g...</td>\n",
       "      <td>NaN</td>\n",
       "    </tr>\n",
       "    <tr>\n",
       "      <th>97157</th>\n",
       "      <td>97158</td>\n",
       "      <td>Sugar Ray</td>\n",
       "      <td>Every Morning</td>\n",
       "      <td>27</td>\n",
       "      <td>3.0</td>\n",
       "      <td>28.0</td>\n",
       "      <td>1999-07-12</td>\n",
       "      <td>NaN</td>\n",
       "      <td>Rock</td>\n",
       "      <td>David kahne, Sugar ray</td>\n",
       "      <td>Every Morning \\nEvery morning there's a halo h...</td>\n",
       "      <td>NaN</td>\n",
       "    </tr>\n",
       "    <tr>\n",
       "      <th>97158</th>\n",
       "      <td>97159</td>\n",
       "      <td>Goo Goo Dolls</td>\n",
       "      <td>Slide</td>\n",
       "      <td>28</td>\n",
       "      <td>8.0</td>\n",
       "      <td>33.0</td>\n",
       "      <td>1999-07-12</td>\n",
       "      <td>NaN</td>\n",
       "      <td>Alternative Rock,Rock</td>\n",
       "      <td>John rzeznik</td>\n",
       "      <td>Slide \\nCould you whisper in my ear?\\nThe thin...</td>\n",
       "      <td>NaN</td>\n",
       "    </tr>\n",
       "    <tr>\n",
       "      <th>97159</th>\n",
       "      <td>97160</td>\n",
       "      <td>Lonestar</td>\n",
       "      <td>Amazed</td>\n",
       "      <td>29</td>\n",
       "      <td>29.0</td>\n",
       "      <td>7.0</td>\n",
       "      <td>1999-07-12</td>\n",
       "      <td>NaN</td>\n",
       "      <td>Pop,Country</td>\n",
       "      <td>Marv green, Chris lindsey, Aimee mayo</td>\n",
       "      <td>Amazed \\nEvery time our eyes meet\\nThis feelin...</td>\n",
       "      <td>NaN</td>\n",
       "    </tr>\n",
       "    <tr>\n",
       "      <th>97160</th>\n",
       "      <td>97161</td>\n",
       "      <td>Tim McGraw</td>\n",
       "      <td>Please Remember Me</td>\n",
       "      <td>30</td>\n",
       "      <td>10.0</td>\n",
       "      <td>16.0</td>\n",
       "      <td>1999-07-12</td>\n",
       "      <td>NaN</td>\n",
       "      <td>Country,Rock</td>\n",
       "      <td>Will jennings, Rodney crowell</td>\n",
       "      <td>Please Remember Me \\nWhen all our tears have r...</td>\n",
       "      <td>NaN</td>\n",
       "    </tr>\n",
       "  </tbody>\n",
       "</table>\n",
       "</div>"
      ],
      "text/plain": [
       "       Unnamed: 0        Artists                      Name  Weekly.rank  \\\n",
       "97224       97225  The Offspring  Why Don't You Get A Job?          100   \n",
       "97157       97158      Sugar Ray             Every Morning           27   \n",
       "97158       97159  Goo Goo Dolls                     Slide           28   \n",
       "97159       97160       Lonestar                    Amazed           29   \n",
       "97160       97161     Tim McGraw        Please Remember Me           30   \n",
       "\n",
       "       Peak.position  Weeks.on.chart        Week Date                  Genre  \\\n",
       "97224           74.0            15.0  1999-07-12  NaN     Ska,Punk Rock,Rock   \n",
       "97157            3.0            28.0  1999-07-12  NaN                   Rock   \n",
       "97158            8.0            33.0  1999-07-12  NaN  Alternative Rock,Rock   \n",
       "97159           29.0             7.0  1999-07-12  NaN            Pop,Country   \n",
       "97160           10.0            16.0  1999-07-12  NaN           Country,Rock   \n",
       "\n",
       "                             Writing.Credits  \\\n",
       "97224                         Dexter holland   \n",
       "97157                 David kahne, Sugar ray   \n",
       "97158                           John rzeznik   \n",
       "97159  Marv green, Chris lindsey, Aimee mayo   \n",
       "97160          Will jennings, Rodney crowell   \n",
       "\n",
       "                                                  Lyrics Features  \n",
       "97224  Why Don't You Get a Job? \\nMy friend's got a g...      NaN  \n",
       "97157  Every Morning \\nEvery morning there's a halo h...      NaN  \n",
       "97158  Slide \\nCould you whisper in my ear?\\nThe thin...      NaN  \n",
       "97159  Amazed \\nEvery time our eyes meet\\nThis feelin...      NaN  \n",
       "97160  Please Remember Me \\nWhen all our tears have r...      NaN  "
      ]
     },
     "execution_count": 10,
     "metadata": {},
     "output_type": "execute_result"
    }
   ],
   "source": [
    "billboard_100.head()"
   ]
  },
  {
   "cell_type": "code",
   "execution_count": 11,
   "metadata": {},
   "outputs": [
    {
     "data": {
      "text/plain": [
       "Unnamed: 0             0\n",
       "Artists                0\n",
       "Name                   0\n",
       "Weekly.rank            0\n",
       "Peak.position       7069\n",
       "Weeks.on.chart      7069\n",
       "Week                   0\n",
       "Date               12247\n",
       "Genre                  0\n",
       "Writing.Credits     7213\n",
       "Lyrics                 0\n",
       "Features           75936\n",
       "dtype: int64"
      ]
     },
     "execution_count": 11,
     "metadata": {},
     "output_type": "execute_result"
    }
   ],
   "source": [
    "# Check for null values\n",
    "billboard_100.isnull().sum()\n",
    "\n",
    "# This makes since bc the null values belong to the song's first week on the Billboard chart"
   ]
  },
  {
   "cell_type": "code",
   "execution_count": 16,
   "metadata": {},
   "outputs": [],
   "source": [
    "# Filter to only show songs from the last ten years (November 2010-Dec 2019 (end of dataset))\n",
    "billboard_100 = billboard_100.loc[billboard_100['Week'] > '2009-07-01']"
   ]
  },
  {
   "cell_type": "code",
   "execution_count": 17,
   "metadata": {},
   "outputs": [
    {
     "data": {
      "text/html": [
       "<div>\n",
       "<style scoped>\n",
       "    .dataframe tbody tr th:only-of-type {\n",
       "        vertical-align: middle;\n",
       "    }\n",
       "\n",
       "    .dataframe tbody tr th {\n",
       "        vertical-align: top;\n",
       "    }\n",
       "\n",
       "    .dataframe thead th {\n",
       "        text-align: right;\n",
       "    }\n",
       "</style>\n",
       "<table border=\"1\" class=\"dataframe\">\n",
       "  <thead>\n",
       "    <tr style=\"text-align: right;\">\n",
       "      <th></th>\n",
       "      <th>Unnamed: 0</th>\n",
       "      <th>Artists</th>\n",
       "      <th>Name</th>\n",
       "      <th>Weekly.rank</th>\n",
       "      <th>Peak.position</th>\n",
       "      <th>Weeks.on.chart</th>\n",
       "      <th>Week</th>\n",
       "      <th>Date</th>\n",
       "      <th>Genre</th>\n",
       "      <th>Writing.Credits</th>\n",
       "      <th>Lyrics</th>\n",
       "      <th>Features</th>\n",
       "    </tr>\n",
       "  </thead>\n",
       "  <tbody>\n",
       "    <tr>\n",
       "      <th>49402</th>\n",
       "      <td>49403</td>\n",
       "      <td>Dierks Bentley</td>\n",
       "      <td>Sideways</td>\n",
       "      <td>35</td>\n",
       "      <td>35.0</td>\n",
       "      <td>12.0</td>\n",
       "      <td>2009-07-02</td>\n",
       "      <td>February 3, 2009</td>\n",
       "      <td>Country</td>\n",
       "      <td>Dierks bentley, Jim beavers</td>\n",
       "      <td>Sideways \\nHey girl, what's your name?\\nIt's s...</td>\n",
       "      <td>NaN</td>\n",
       "    </tr>\n",
       "    <tr>\n",
       "      <th>49401</th>\n",
       "      <td>49402</td>\n",
       "      <td>Flo Rida</td>\n",
       "      <td>Sugar</td>\n",
       "      <td>34</td>\n",
       "      <td>5.0</td>\n",
       "      <td>14.0</td>\n",
       "      <td>2009-07-02</td>\n",
       "      <td>March 31, 2009</td>\n",
       "      <td>Rap</td>\n",
       "      <td>Steven battey, Carlos battey, Dj montay, Flo r...</td>\n",
       "      <td>Sugar \\nDumm\\nDouble dee double di\\nDouble dee...</td>\n",
       "      <td>Wynter</td>\n",
       "    </tr>\n",
       "    <tr>\n",
       "      <th>49400</th>\n",
       "      <td>49401</td>\n",
       "      <td>Jason Mraz</td>\n",
       "      <td>I'm Yours</td>\n",
       "      <td>33</td>\n",
       "      <td>6.0</td>\n",
       "      <td>62.0</td>\n",
       "      <td>2009-07-02</td>\n",
       "      <td>April 15, 2008</td>\n",
       "      <td>Adult Contemporary,Adult Alternative,Pop-Rock,...</td>\n",
       "      <td>Jason mraz</td>\n",
       "      <td>I'm Yours \\nWell you done done me and you bet ...</td>\n",
       "      <td>NaN</td>\n",
       "    </tr>\n",
       "    <tr>\n",
       "      <th>49395</th>\n",
       "      <td>49396</td>\n",
       "      <td>Brad Paisley</td>\n",
       "      <td>Then</td>\n",
       "      <td>28</td>\n",
       "      <td>28.0</td>\n",
       "      <td>14.0</td>\n",
       "      <td>2009-07-02</td>\n",
       "      <td>March 23, 2009</td>\n",
       "      <td>Country</td>\n",
       "      <td>Ashley gorley, Brad paisley, Chris dubois</td>\n",
       "      <td>Then \\nI remember trying not to stare\\nThe nig...</td>\n",
       "      <td>NaN</td>\n",
       "    </tr>\n",
       "    <tr>\n",
       "      <th>49398</th>\n",
       "      <td>49399</td>\n",
       "      <td>Jordin Sparks</td>\n",
       "      <td>Battlefield</td>\n",
       "      <td>31</td>\n",
       "      <td>31.0</td>\n",
       "      <td>6.0</td>\n",
       "      <td>2009-07-02</td>\n",
       "      <td>May 8, 2009</td>\n",
       "      <td>R&amp;;B,Pop</td>\n",
       "      <td>Wayne wilkins, Sam watters, Louis biancaniello...</td>\n",
       "      <td>Battlefield \\nDon't try to explain your mind, ...</td>\n",
       "      <td>NaN</td>\n",
       "    </tr>\n",
       "  </tbody>\n",
       "</table>\n",
       "</div>"
      ],
      "text/plain": [
       "       Unnamed: 0         Artists         Name  Weekly.rank  Peak.position  \\\n",
       "49402       49403  Dierks Bentley     Sideways           35           35.0   \n",
       "49401       49402        Flo Rida        Sugar           34            5.0   \n",
       "49400       49401      Jason Mraz    I'm Yours           33            6.0   \n",
       "49395       49396    Brad Paisley         Then           28           28.0   \n",
       "49398       49399   Jordin Sparks  Battlefield           31           31.0   \n",
       "\n",
       "       Weeks.on.chart        Week              Date  \\\n",
       "49402            12.0  2009-07-02  February 3, 2009   \n",
       "49401            14.0  2009-07-02    March 31, 2009   \n",
       "49400            62.0  2009-07-02    April 15, 2008   \n",
       "49395            14.0  2009-07-02    March 23, 2009   \n",
       "49398             6.0  2009-07-02       May 8, 2009   \n",
       "\n",
       "                                                   Genre  \\\n",
       "49402                                            Country   \n",
       "49401                                                Rap   \n",
       "49400  Adult Contemporary,Adult Alternative,Pop-Rock,...   \n",
       "49395                                            Country   \n",
       "49398                                           R&;B,Pop   \n",
       "\n",
       "                                         Writing.Credits  \\\n",
       "49402                        Dierks bentley, Jim beavers   \n",
       "49401  Steven battey, Carlos battey, Dj montay, Flo r...   \n",
       "49400                                         Jason mraz   \n",
       "49395          Ashley gorley, Brad paisley, Chris dubois   \n",
       "49398  Wayne wilkins, Sam watters, Louis biancaniello...   \n",
       "\n",
       "                                                  Lyrics Features  \n",
       "49402  Sideways \\nHey girl, what's your name?\\nIt's s...      NaN  \n",
       "49401  Sugar \\nDumm\\nDouble dee double di\\nDouble dee...   Wynter  \n",
       "49400  I'm Yours \\nWell you done done me and you bet ...      NaN  \n",
       "49395  Then \\nI remember trying not to stare\\nThe nig...      NaN  \n",
       "49398  Battlefield \\nDon't try to explain your mind, ...      NaN  "
      ]
     },
     "execution_count": 17,
     "metadata": {},
     "output_type": "execute_result"
    }
   ],
   "source": [
    "billboard_100.head()"
   ]
  },
  {
   "cell_type": "code",
   "execution_count": 27,
   "metadata": {},
   "outputs": [
    {
     "name": "stdout",
     "output_type": "stream",
     "text": [
      "<class 'pandas.core.frame.DataFrame'>\n",
      "Int64Index: 49463 entries, 49402 to 0\n",
      "Data columns (total 14 columns):\n",
      " #   Column           Non-Null Count  Dtype  \n",
      "---  ------           --------------  -----  \n",
      " 0   Unnamed: 0       49463 non-null  int64  \n",
      " 1   Artists          49463 non-null  object \n",
      " 2   Name             49463 non-null  object \n",
      " 3   Weekly.rank      49463 non-null  int64  \n",
      " 4   Peak.position    45402 non-null  float64\n",
      " 5   Weeks.on.chart   45402 non-null  float64\n",
      " 6   Week             49463 non-null  object \n",
      " 7   Date             47597 non-null  object \n",
      " 8   Genre            49463 non-null  object \n",
      " 9   Writing.Credits  47974 non-null  object \n",
      " 10  Lyrics           49463 non-null  object \n",
      " 11  Features         12949 non-null  object \n",
      " 12  Song_Artist      49463 non-null  object \n",
      " 13  Artist_Song      49463 non-null  object \n",
      "dtypes: float64(2), int64(2), object(10)\n",
      "memory usage: 5.7+ MB\n"
     ]
    }
   ],
   "source": [
    "billboard_100.info()"
   ]
  },
  {
   "cell_type": "code",
   "execution_count": 29,
   "metadata": {},
   "outputs": [
    {
     "name": "stderr",
     "output_type": "stream",
     "text": [
      "<ipython-input-29-0418d80991d7>:3: SettingWithCopyWarning: \n",
      "A value is trying to be set on a copy of a slice from a DataFrame.\n",
      "Try using .loc[row_indexer,col_indexer] = value instead\n",
      "\n",
      "See the caveats in the documentation: https://pandas.pydata.org/pandas-docs/stable/user_guide/indexing.html#returning-a-view-versus-a-copy\n",
      "  billboard_100['Artist_Song'] = str(billboard_100['Artists'] + billboard_100['Name'])\n"
     ]
    }
   ],
   "source": [
    "# Create a unique identifier column \n",
    "\n"
   ]
  },
  {
   "cell_type": "code",
   "execution_count": null,
   "metadata": {},
   "outputs": [],
   "source": [
    "# Drop duplicate songs\n",
    "billboard_100.drop_duplicates(subset='') #remove duplicate occurrences of songs"
   ]
  },
  {
   "cell_type": "markdown",
   "metadata": {},
   "source": [
    "## Exploratory Data Analysis"
   ]
  },
  {
   "cell_type": "code",
   "execution_count": null,
   "metadata": {},
   "outputs": [],
   "source": [
    "# Distribution of instances\n",
    "max_instances = billboard_100.groupby('Song')['Instance'].max().reset_index()\n",
    "max_instances['Instance'].value_counts()"
   ]
  },
  {
   "cell_type": "code",
   "execution_count": null,
   "metadata": {},
   "outputs": [],
   "source": [
    "# Plot the distribution\n",
    "plt.figure(figsize=(10,7))\n",
    "sns.countplot(max_instances['Instance'])\n",
    "plt.title('Distribution of the Number of Instances')\n",
    "plt.xlabel('Number of Instances')\n",
    "plt.ylabel('Number of Songs')"
   ]
  },
  {
   "cell_type": "code",
   "execution_count": null,
   "metadata": {},
   "outputs": [],
   "source": [
    "# Distribution of weeks on the Billboard chart\n",
    "max_weeks = billboard_100.groupby('Song')['Weeks on Chart'].max().reset_index()\n",
    "max_weeks['Weeks on Chart'].value_counts()"
   ]
  },
  {
   "cell_type": "code",
   "execution_count": null,
   "metadata": {},
   "outputs": [],
   "source": [
    "# Plot the distribution\n",
    "plt.figure(figsize=(15,10))\n",
    "sns.countplot(max_weeks['Weeks on Chart'])\n",
    "plt.title('Distribution of the Number of Weeks on the Billboard 100 Chart')\n",
    "plt.xlabel('Number of Weeks')\n",
    "plt.ylabel('Number of Songs')"
   ]
  },
  {
   "cell_type": "code",
   "execution_count": null,
   "metadata": {},
   "outputs": [],
   "source": [
    "# Look at the songs with the longest time on the charts\n",
    "max_weeks.loc[max_weeks['Weeks on Chart'] >= 55].sort_values(by = 'Weeks on Chart', ascending=False)"
   ]
  },
  {
   "cell_type": "code",
   "execution_count": null,
   "metadata": {},
   "outputs": [],
   "source": [
    "peak_position = billboard_100.groupby('Song')['Peak Position'].max().reset_index()\n",
    "peak_position['Peak Position'].value_counts()"
   ]
  },
  {
   "cell_type": "code",
   "execution_count": null,
   "metadata": {},
   "outputs": [],
   "source": [
    "# Import the Billboard Top 100 audio features Dataset\n",
    "billboard_100_audio = pd.read_excel('billboard_100_audio.xlsx')"
   ]
  },
  {
   "cell_type": "code",
   "execution_count": null,
   "metadata": {},
   "outputs": [],
   "source": [
    "# Remove duplicate songs\n",
    "billboard_100_audio.drop_duplicates(subset='SongID', inplace=True)\n",
    "billboard_100_audio.reset_index()"
   ]
  },
  {
   "cell_type": "markdown",
   "metadata": {},
   "source": [
    "## Lyrics and Sentiment Analysis"
   ]
  },
  {
   "cell_type": "code",
   "execution_count": null,
   "metadata": {},
   "outputs": [],
   "source": [
    "# Get the column names \n",
    "billboard_100.columns.tolist()"
   ]
  },
  {
   "cell_type": "code",
   "execution_count": null,
   "metadata": {},
   "outputs": [],
   "source": [
    "# more column names\n",
    "billboard_100_audio.columns.tolist()"
   ]
  },
  {
   "cell_type": "code",
   "execution_count": null,
   "metadata": {},
   "outputs": [],
   "source": [
    "# Function to return the lyrics to each song\n",
    "def get_lyrics(title, artist):\n",
    "    try: \n",
    "        return genius.search_song(title, artist).lyrics\n",
    "    except:\n",
    "        return 'lyrics not found'"
   ]
  },
  {
   "cell_type": "code",
   "execution_count": null,
   "metadata": {},
   "outputs": [],
   "source": [
    "# Function to return the sentiment score for each song\n",
    "def lyrics_sentiment(lyrics):    \n",
    "    analysis = TextBlob(lyrics)\n",
    "    return analysis.sentiment.polarity"
   ]
  },
  {
   "cell_type": "code",
   "execution_count": null,
   "metadata": {},
   "outputs": [],
   "source": [
    "# Text preprocessing\n",
    "def preprocessing(text):\n",
    "    document = nlp(text, disable=['ner','parser'])\n",
    "    lemmas = [token.lemma_ for token in document]\n",
    "    lemma_clean = [lemma for lemma in lemmas\n",
    "                  if lemma.isalpha() and lemma not in stopwords]\n",
    "    return ''.join(lemma_clean)"
   ]
  },
  {
   "cell_type": "code",
   "execution_count": null,
   "metadata": {},
   "outputs": [],
   "source": [
    "# Keyword extraction\n",
    "def keyword_extract(texts):\n",
    "    xkeywords = []\n",
    "    values = keywords(text=preprocessing(texts), split='\\n', scores=True)\n",
    "    for x in values[:10]:\n",
    "        xkeywords.append(x[0])\n",
    "    try:\n",
    "        return xkeywords\n",
    "    except:\n",
    "        return 'there is no content'"
   ]
  },
  {
   "cell_type": "code",
   "execution_count": null,
   "metadata": {},
   "outputs": [],
   "source": [
    "# Apply the function to get the lyrics\n",
    "lyrics = billboard_100.apply(lambda row: get_lyrics(row['Song'], row['Performer']), axis=1)\n",
    "billboard_100['Lyrics'] = lyrics\n",
    "billboard_100 = billboard_100.drop(billboard_100[billboard_100['Lyrics'] == 'not found'].index) #drop rows where lyrics are not found on Genius"
   ]
  },
  {
   "cell_type": "code",
   "execution_count": null,
   "metadata": {},
   "outputs": [],
   "source": [
    "#Use get_lyric_sentiment to get sentiment score for all the song lyrics\n",
    "sentiment = billboard_100.apply(lambda row: lyrics_sentiment(row['Lyrics']), axis =1)\n",
    "billboard_100['Sentiment'] = sentiment"
   ]
  },
  {
   "cell_type": "code",
   "execution_count": null,
   "metadata": {},
   "outputs": [],
   "source": [
    "# Set the index to be the weekid\n",
    "billboard_100.reset_index(inplace=True)"
   ]
  },
  {
   "cell_type": "code",
   "execution_count": null,
   "metadata": {},
   "outputs": [],
   "source": [
    "#Set the index of the dataframe to the WeekID. This sets us up to resample dataframe based on time\n",
    "billboard_100['WeekID'] = pd.to_datetime(billboard_100['WeekID'],infer_datetime_format=True)\n",
    "billboard_100 = billboard_100.sort_values(by='WeekID')\n",
    "billboard_100 = billboard_100.reset_index(drop=True)\n",
    "billboard_100 = billboard_100.set_index('WeekID')"
   ]
  },
  {
   "cell_type": "code",
   "execution_count": null,
   "metadata": {},
   "outputs": [],
   "source": [
    "#Resample dataframe lyrics by year. Get all the lyrics for every song for each year\n",
    "#lyrics_resample = billboard_100['Lyrics'].resample('y').sum()"
   ]
  },
  {
   "cell_type": "code",
   "execution_count": null,
   "metadata": {},
   "outputs": [],
   "source": [
    "#Resample dataframe sentiment column by year. This arranges the mean lyric sentiment for every year\n",
    "billboard_100_resample = billboard_100['Sentiment'].resample('Y').mean()"
   ]
  },
  {
   "cell_type": "code",
   "execution_count": null,
   "metadata": {},
   "outputs": [],
   "source": [
    "#Plot lyric sentiment over time\n",
    "billboard_100_resample.plot(label='Sentiment', legend=True)\n",
    "plt.title('Average Sentiment per Week over Time')\n",
    "plt.xlabel('Week')\n",
    "plt.ylabel('Sentiment')\n",
    "\n",
    "\n",
    "# This shouldn't start at 2010\n",
    "# the data starts at 2011 for this analysis"
   ]
  },
  {
   "cell_type": "code",
   "execution_count": null,
   "metadata": {},
   "outputs": [],
   "source": []
  },
  {
   "cell_type": "code",
   "execution_count": null,
   "metadata": {},
   "outputs": [],
   "source": [
    "#Use return_keywords function on lyrics_resample to get the top 20 keywords for each year\n",
    "lyric_keywords = [keyword_extract(x[1]) for x in billboard_100_resample.iteritems()]"
   ]
  },
  {
   "cell_type": "code",
   "execution_count": null,
   "metadata": {},
   "outputs": [],
   "source": []
  },
  {
   "cell_type": "code",
   "execution_count": null,
   "metadata": {},
   "outputs": [],
   "source": []
  },
  {
   "cell_type": "code",
   "execution_count": null,
   "metadata": {},
   "outputs": [],
   "source": []
  },
  {
   "cell_type": "code",
   "execution_count": null,
   "metadata": {},
   "outputs": [],
   "source": []
  }
 ],
 "metadata": {
  "kernelspec": {
   "display_name": "Python 3",
   "language": "python",
   "name": "python3"
  },
  "language_info": {
   "codemirror_mode": {
    "name": "ipython",
    "version": 3
   },
   "file_extension": ".py",
   "mimetype": "text/x-python",
   "name": "python",
   "nbconvert_exporter": "python",
   "pygments_lexer": "ipython3",
   "version": "3.8.3"
  }
 },
 "nbformat": 4,
 "nbformat_minor": 4
}
