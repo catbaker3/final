{
 "cells": [
  {
   "cell_type": "markdown",
   "metadata": {},
   "source": [
    "# Final Project for CAP6307\n",
    "## Cat Baker and Darshay Blount\n",
    "### Fall 2020"
   ]
  },
  {
   "cell_type": "code",
   "execution_count": 2,
   "metadata": {},
   "outputs": [
    {
     "name": "stdout",
     "output_type": "stream",
     "text": [
      "Requirement already satisfied: lyricsgenius in /Applications/anaconda3/lib/python3.8/site-packages (2.0.2)\n",
      "Requirement already satisfied: requests>=2.20.0 in /Applications/anaconda3/lib/python3.8/site-packages (from lyricsgenius) (2.24.0)\n",
      "Requirement already satisfied: beautifulsoup4>=4.6.0 in /Applications/anaconda3/lib/python3.8/site-packages (from lyricsgenius) (4.9.1)\n",
      "Requirement already satisfied: urllib3!=1.25.0,!=1.25.1,<1.26,>=1.21.1 in /Applications/anaconda3/lib/python3.8/site-packages (from requests>=2.20.0->lyricsgenius) (1.25.9)\n",
      "Requirement already satisfied: chardet<4,>=3.0.2 in /Applications/anaconda3/lib/python3.8/site-packages (from requests>=2.20.0->lyricsgenius) (3.0.4)\n",
      "Requirement already satisfied: idna<3,>=2.5 in /Applications/anaconda3/lib/python3.8/site-packages (from requests>=2.20.0->lyricsgenius) (2.10)\n",
      "Requirement already satisfied: certifi>=2017.4.17 in /Applications/anaconda3/lib/python3.8/site-packages (from requests>=2.20.0->lyricsgenius) (2020.6.20)\n",
      "Requirement already satisfied: soupsieve>1.2 in /Applications/anaconda3/lib/python3.8/site-packages (from beautifulsoup4>=4.6.0->lyricsgenius) (2.0.1)\n",
      "Requirement already satisfied: textblob in /Applications/anaconda3/lib/python3.8/site-packages (0.15.3)\n",
      "Requirement already satisfied: nltk>=3.1 in /Applications/anaconda3/lib/python3.8/site-packages (from textblob) (3.5)\n",
      "Requirement already satisfied: tqdm in /Applications/anaconda3/lib/python3.8/site-packages (from nltk>=3.1->textblob) (4.47.0)\n",
      "Requirement already satisfied: click in /Applications/anaconda3/lib/python3.8/site-packages (from nltk>=3.1->textblob) (7.1.2)\n",
      "Requirement already satisfied: joblib in /Applications/anaconda3/lib/python3.8/site-packages (from nltk>=3.1->textblob) (0.16.0)\n",
      "Requirement already satisfied: regex in /Applications/anaconda3/lib/python3.8/site-packages (from nltk>=3.1->textblob) (2020.6.8)\n",
      "[nltk_data] Downloading package brown to /Users/catbaker3/nltk_data...\n",
      "[nltk_data]   Package brown is already up-to-date!\n",
      "[nltk_data] Downloading package punkt to /Users/catbaker3/nltk_data...\n",
      "[nltk_data]   Package punkt is already up-to-date!\n",
      "[nltk_data] Downloading package wordnet to\n",
      "[nltk_data]     /Users/catbaker3/nltk_data...\n",
      "[nltk_data]   Package wordnet is already up-to-date!\n",
      "[nltk_data] Downloading package averaged_perceptron_tagger to\n",
      "[nltk_data]     /Users/catbaker3/nltk_data...\n",
      "[nltk_data]   Package averaged_perceptron_tagger is already up-to-\n",
      "[nltk_data]       date!\n",
      "[nltk_data] Downloading package conll2000 to\n",
      "[nltk_data]     /Users/catbaker3/nltk_data...\n",
      "[nltk_data]   Package conll2000 is already up-to-date!\n",
      "[nltk_data] Downloading package movie_reviews to\n",
      "[nltk_data]     /Users/catbaker3/nltk_data...\n",
      "[nltk_data]   Package movie_reviews is already up-to-date!\n",
      "Finished.\n"
     ]
    }
   ],
   "source": [
    "# install modules\n",
    "!pip install lyricsgenius\n",
    "!pip install textblob\n",
    "!python -m textblob.download_corpora"
   ]
  },
  {
   "cell_type": "code",
   "execution_count": 3,
   "metadata": {},
   "outputs": [
    {
     "name": "stderr",
     "output_type": "stream",
     "text": [
      "[nltk_data] Downloading package stopwords to\n",
      "[nltk_data]     /Users/catbaker3/nltk_data...\n",
      "[nltk_data]   Package stopwords is already up-to-date!\n"
     ]
    }
   ],
   "source": [
    "# import packages\n",
    "from gensim.summarization import keywords\n",
    "import spacy\n",
    "import nltk\n",
    "from nltk.corpus import stopwords\n",
    "import pandas as pd\n",
    "import lyricsgenius\n",
    "import textblob\n",
    "from textblob import TextBlob\n",
    "import matplotlib.pyplot as plt\n",
    "import seaborn as sns\n",
    "import pandas as pd\n",
    "import numpy as np\n",
    "\n",
    "# download spacy and import English\n",
    "nltk.download('stopwords')\n",
    "from spacy.lang.en import English"
   ]
  },
  {
   "cell_type": "code",
   "execution_count": 4,
   "metadata": {},
   "outputs": [],
   "source": [
    "# Import stopwords\n",
    "stopwords = set(stopwords.words('english'))"
   ]
  },
  {
   "cell_type": "code",
   "execution_count": 5,
   "metadata": {},
   "outputs": [],
   "source": [
    "# Set the nlp language to English\n",
    "nlp = English()\n",
    "nlp.max_length = 10000000"
   ]
  },
  {
   "cell_type": "code",
   "execution_count": 6,
   "metadata": {},
   "outputs": [],
   "source": [
    "# Set up the token, id, and secret for the Lyric Genius API\n",
    "client_id = 'jGXOq14YmSS490yTKQ7CPzu8l7ui5v4JnbBvhIhQV8VV74cSTpoFEqoKo5NqRuTT'\n",
    "client_secret = 'MCDsDPsZLCO10I9_cAOVZp91OAIFgx-aUDmaZ79hHQ9jgnquVkDROF1NBjlIisu9X2yG86OrGz7nJF26VB5nQw'\n",
    "access_token = 'vcwFJvy8po5FLkEkeTeSbhkbfidq43zZqTxoBNLnEbL7tltCTbDRiVeLJ68AL2rG'"
   ]
  },
  {
   "cell_type": "code",
   "execution_count": 7,
   "metadata": {},
   "outputs": [],
   "source": [
    "# Set up the API information\n",
    "genius = lyricsgenius.Genius(access_token)"
   ]
  },
  {
   "cell_type": "code",
   "execution_count": 8,
   "metadata": {},
   "outputs": [],
   "source": [
    "# Import the Billboard Top 100 dataset\n",
    "billboard_100 = pd.read_csv('billboardHot100_1999-2019.csv')"
   ]
  },
  {
   "cell_type": "code",
   "execution_count": 9,
   "metadata": {},
   "outputs": [
    {
     "data": {
      "text/html": [
       "<div>\n",
       "<style scoped>\n",
       "    .dataframe tbody tr th:only-of-type {\n",
       "        vertical-align: middle;\n",
       "    }\n",
       "\n",
       "    .dataframe tbody tr th {\n",
       "        vertical-align: top;\n",
       "    }\n",
       "\n",
       "    .dataframe thead th {\n",
       "        text-align: right;\n",
       "    }\n",
       "</style>\n",
       "<table border=\"1\" class=\"dataframe\">\n",
       "  <thead>\n",
       "    <tr style=\"text-align: right;\">\n",
       "      <th></th>\n",
       "      <th>Unnamed: 0</th>\n",
       "      <th>Artists</th>\n",
       "      <th>Name</th>\n",
       "      <th>Weekly.rank</th>\n",
       "      <th>Peak.position</th>\n",
       "      <th>Weeks.on.chart</th>\n",
       "      <th>Week</th>\n",
       "      <th>Date</th>\n",
       "      <th>Genre</th>\n",
       "      <th>Writing.Credits</th>\n",
       "      <th>Lyrics</th>\n",
       "      <th>Features</th>\n",
       "    </tr>\n",
       "  </thead>\n",
       "  <tbody>\n",
       "    <tr>\n",
       "      <th>0</th>\n",
       "      <td>1</td>\n",
       "      <td>Lil Nas,</td>\n",
       "      <td>Old Town Road</td>\n",
       "      <td>1</td>\n",
       "      <td>1.0</td>\n",
       "      <td>7.0</td>\n",
       "      <td>2019-07-06</td>\n",
       "      <td>April 5, 2019</td>\n",
       "      <td>Country,Atlanta,Alternative Country,Hip-Hop,Tr...</td>\n",
       "      <td>Jozzy, Atticus ross, Trent reznor, Billy ray c...</td>\n",
       "      <td>Old Town Road Remix \\nOh, oh-oh\\nOh\\nYeah, I'm...</td>\n",
       "      <td>Billy Ray Cyrus</td>\n",
       "    </tr>\n",
       "    <tr>\n",
       "      <th>1</th>\n",
       "      <td>2</td>\n",
       "      <td>Shawn Mendes, Camila Cabello</td>\n",
       "      <td>Senorita</td>\n",
       "      <td>2</td>\n",
       "      <td>NaN</td>\n",
       "      <td>NaN</td>\n",
       "      <td>2019-07-06</td>\n",
       "      <td>June 21, 2019</td>\n",
       "      <td>Pop</td>\n",
       "      <td>Cashmere cat, Jack patterson, Charli xcx, Benn...</td>\n",
       "      <td>Senorita \\nI love it when you call me senorita...</td>\n",
       "      <td>NaN</td>\n",
       "    </tr>\n",
       "    <tr>\n",
       "      <th>2</th>\n",
       "      <td>3</td>\n",
       "      <td>Billie Eilish</td>\n",
       "      <td>Bad Guy</td>\n",
       "      <td>3</td>\n",
       "      <td>2.0</td>\n",
       "      <td>13.0</td>\n",
       "      <td>2019-07-06</td>\n",
       "      <td>March 29, 2019</td>\n",
       "      <td>Hip-Hop,Dark Pop,House,Trap,Memes,Alternative ...</td>\n",
       "      <td>Billie eilish, Finneas</td>\n",
       "      <td>bad guy \\nWhite shirt now red, my bloody nose\\...</td>\n",
       "      <td>NaN</td>\n",
       "    </tr>\n",
       "    <tr>\n",
       "      <th>3</th>\n",
       "      <td>4</td>\n",
       "      <td>Khalid</td>\n",
       "      <td>Talk</td>\n",
       "      <td>4</td>\n",
       "      <td>3.0</td>\n",
       "      <td>20.0</td>\n",
       "      <td>2019-07-06</td>\n",
       "      <td>February 7, 2019</td>\n",
       "      <td>Synth-Pop,Pop</td>\n",
       "      <td>Howard lawrence, Guy lawrence, Khalid</td>\n",
       "      <td>Talk \\nCan we just talk? Can we just talk?\\nTa...</td>\n",
       "      <td>NaN</td>\n",
       "    </tr>\n",
       "    <tr>\n",
       "      <th>4</th>\n",
       "      <td>5</td>\n",
       "      <td>Ed Sheeran, Justin Bieber</td>\n",
       "      <td>I Don't Care</td>\n",
       "      <td>5</td>\n",
       "      <td>2.0</td>\n",
       "      <td>7.0</td>\n",
       "      <td>2019-07-06</td>\n",
       "      <td>May 10, 2019</td>\n",
       "      <td>Canada,UK,Dance,Dance-Pop,Pop</td>\n",
       "      <td>Ed sheeran, Justin bieber, Shellback, Max mart...</td>\n",
       "      <td>I Don't Care \\nI'm at a party I don't wanna be...</td>\n",
       "      <td>NaN</td>\n",
       "    </tr>\n",
       "    <tr>\n",
       "      <th>5</th>\n",
       "      <td>6</td>\n",
       "      <td>Jonas Brothers</td>\n",
       "      <td>Sucker</td>\n",
       "      <td>6</td>\n",
       "      <td>1.0</td>\n",
       "      <td>17.0</td>\n",
       "      <td>2019-07-06</td>\n",
       "      <td>March 1, 2019</td>\n",
       "      <td>Alternative Pop,Boy Band,Teen Pop,Pop-Rock,Pop</td>\n",
       "      <td>Ryan tedder, Louis bell, Frank dukes, Nick jon...</td>\n",
       "      <td>Sucker \\nWe go together\\nBetter than birds of ...</td>\n",
       "      <td>NaN</td>\n",
       "    </tr>\n",
       "    <tr>\n",
       "      <th>6</th>\n",
       "      <td>7</td>\n",
       "      <td>DaBaby</td>\n",
       "      <td>Suge</td>\n",
       "      <td>7</td>\n",
       "      <td>7.0</td>\n",
       "      <td>13.0</td>\n",
       "      <td>2019-07-06</td>\n",
       "      <td>March 1, 2019</td>\n",
       "      <td>Trap,East Coast,Rap</td>\n",
       "      <td>Jetsonmade, Pooh beatz, Dababy</td>\n",
       "      <td>Suge \\nPooh, you a fool for this one\\nHa\\nOh L...</td>\n",
       "      <td>NaN</td>\n",
       "    </tr>\n",
       "    <tr>\n",
       "      <th>7</th>\n",
       "      <td>8</td>\n",
       "      <td>Drake</td>\n",
       "      <td>Money In The Grave</td>\n",
       "      <td>8</td>\n",
       "      <td>7.0</td>\n",
       "      <td>2.0</td>\n",
       "      <td>2019-07-06</td>\n",
       "      <td>June 15, 2019</td>\n",
       "      <td>Hip-Hop,Rap,Basketball,NBA,Canada</td>\n",
       "      <td>Asoteric, Ljay currie, Cydney christine, Rick ...</td>\n",
       "      <td>Money in the Grave \\nYeah, okay\\nLil CC on the...</td>\n",
       "      <td>Rick Ross</td>\n",
       "    </tr>\n",
       "    <tr>\n",
       "      <th>8</th>\n",
       "      <td>9</td>\n",
       "      <td>Chris Brown</td>\n",
       "      <td>No Guidance</td>\n",
       "      <td>9</td>\n",
       "      <td>9.0</td>\n",
       "      <td>3.0</td>\n",
       "      <td>2019-07-06</td>\n",
       "      <td>June 8, 2019</td>\n",
       "      <td>Alternative R&amp;;B,Hip-Hop,Rap,Pop,DMV,Canada,R&amp;;B</td>\n",
       "      <td>Velous, J louis, Vinylz, Michee patrick lebrun...</td>\n",
       "      <td>No Guidance \\nBefore I die I'm tryna fuck you,...</td>\n",
       "      <td>Drake</td>\n",
       "    </tr>\n",
       "    <tr>\n",
       "      <th>9</th>\n",
       "      <td>10</td>\n",
       "      <td>Post Malone</td>\n",
       "      <td>Wow.</td>\n",
       "      <td>10</td>\n",
       "      <td>2.0</td>\n",
       "      <td>27.0</td>\n",
       "      <td>2019-07-06</td>\n",
       "      <td>December 24, 2018</td>\n",
       "      <td>Memes,Hip-Hop,Trap,Rap</td>\n",
       "      <td>Frank dukes, Billy walsh, Louis bell, Post malone</td>\n",
       "      <td>Wow \\nSaid she tired of little money, need a b...</td>\n",
       "      <td>NaN</td>\n",
       "    </tr>\n",
       "  </tbody>\n",
       "</table>\n",
       "</div>"
      ],
      "text/plain": [
       "   Unnamed: 0                       Artists                Name  Weekly.rank  \\\n",
       "0           1                      Lil Nas,       Old Town Road            1   \n",
       "1           2  Shawn Mendes, Camila Cabello            Senorita            2   \n",
       "2           3                 Billie Eilish             Bad Guy            3   \n",
       "3           4                        Khalid                Talk            4   \n",
       "4           5     Ed Sheeran, Justin Bieber        I Don't Care            5   \n",
       "5           6                Jonas Brothers              Sucker            6   \n",
       "6           7                        DaBaby                Suge            7   \n",
       "7           8                         Drake  Money In The Grave            8   \n",
       "8           9                   Chris Brown         No Guidance            9   \n",
       "9          10                   Post Malone                Wow.           10   \n",
       "\n",
       "   Peak.position  Weeks.on.chart        Week               Date  \\\n",
       "0            1.0             7.0  2019-07-06      April 5, 2019   \n",
       "1            NaN             NaN  2019-07-06      June 21, 2019   \n",
       "2            2.0            13.0  2019-07-06     March 29, 2019   \n",
       "3            3.0            20.0  2019-07-06   February 7, 2019   \n",
       "4            2.0             7.0  2019-07-06       May 10, 2019   \n",
       "5            1.0            17.0  2019-07-06      March 1, 2019   \n",
       "6            7.0            13.0  2019-07-06      March 1, 2019   \n",
       "7            7.0             2.0  2019-07-06      June 15, 2019   \n",
       "8            9.0             3.0  2019-07-06       June 8, 2019   \n",
       "9            2.0            27.0  2019-07-06  December 24, 2018   \n",
       "\n",
       "                                               Genre  \\\n",
       "0  Country,Atlanta,Alternative Country,Hip-Hop,Tr...   \n",
       "1                                                Pop   \n",
       "2  Hip-Hop,Dark Pop,House,Trap,Memes,Alternative ...   \n",
       "3                                      Synth-Pop,Pop   \n",
       "4                      Canada,UK,Dance,Dance-Pop,Pop   \n",
       "5     Alternative Pop,Boy Band,Teen Pop,Pop-Rock,Pop   \n",
       "6                                Trap,East Coast,Rap   \n",
       "7                  Hip-Hop,Rap,Basketball,NBA,Canada   \n",
       "8   Alternative R&;B,Hip-Hop,Rap,Pop,DMV,Canada,R&;B   \n",
       "9                             Memes,Hip-Hop,Trap,Rap   \n",
       "\n",
       "                                     Writing.Credits  \\\n",
       "0  Jozzy, Atticus ross, Trent reznor, Billy ray c...   \n",
       "1  Cashmere cat, Jack patterson, Charli xcx, Benn...   \n",
       "2                             Billie eilish, Finneas   \n",
       "3              Howard lawrence, Guy lawrence, Khalid   \n",
       "4  Ed sheeran, Justin bieber, Shellback, Max mart...   \n",
       "5  Ryan tedder, Louis bell, Frank dukes, Nick jon...   \n",
       "6                     Jetsonmade, Pooh beatz, Dababy   \n",
       "7  Asoteric, Ljay currie, Cydney christine, Rick ...   \n",
       "8  Velous, J louis, Vinylz, Michee patrick lebrun...   \n",
       "9  Frank dukes, Billy walsh, Louis bell, Post malone   \n",
       "\n",
       "                                              Lyrics         Features  \n",
       "0  Old Town Road Remix \\nOh, oh-oh\\nOh\\nYeah, I'm...  Billy Ray Cyrus  \n",
       "1  Senorita \\nI love it when you call me senorita...              NaN  \n",
       "2  bad guy \\nWhite shirt now red, my bloody nose\\...              NaN  \n",
       "3  Talk \\nCan we just talk? Can we just talk?\\nTa...              NaN  \n",
       "4  I Don't Care \\nI'm at a party I don't wanna be...              NaN  \n",
       "5  Sucker \\nWe go together\\nBetter than birds of ...              NaN  \n",
       "6  Suge \\nPooh, you a fool for this one\\nHa\\nOh L...              NaN  \n",
       "7  Money in the Grave \\nYeah, okay\\nLil CC on the...        Rick Ross  \n",
       "8  No Guidance \\nBefore I die I'm tryna fuck you,...            Drake  \n",
       "9  Wow \\nSaid she tired of little money, need a b...              NaN  "
      ]
     },
     "execution_count": 9,
     "metadata": {},
     "output_type": "execute_result"
    }
   ],
   "source": [
    "# Preview the dataframe\n",
    "billboard_100.head(10)"
   ]
  },
  {
   "cell_type": "code",
   "execution_count": 10,
   "metadata": {},
   "outputs": [],
   "source": [
    "# Sort the dataframe by week ID (ascending)\n",
    "billboard_100 = billboard_100.sort_values(by=['Week'])"
   ]
  },
  {
   "cell_type": "code",
   "execution_count": 11,
   "metadata": {},
   "outputs": [
    {
     "data": {
      "text/html": [
       "<div>\n",
       "<style scoped>\n",
       "    .dataframe tbody tr th:only-of-type {\n",
       "        vertical-align: middle;\n",
       "    }\n",
       "\n",
       "    .dataframe tbody tr th {\n",
       "        vertical-align: top;\n",
       "    }\n",
       "\n",
       "    .dataframe thead th {\n",
       "        text-align: right;\n",
       "    }\n",
       "</style>\n",
       "<table border=\"1\" class=\"dataframe\">\n",
       "  <thead>\n",
       "    <tr style=\"text-align: right;\">\n",
       "      <th></th>\n",
       "      <th>Unnamed: 0</th>\n",
       "      <th>Artists</th>\n",
       "      <th>Name</th>\n",
       "      <th>Weekly.rank</th>\n",
       "      <th>Peak.position</th>\n",
       "      <th>Weeks.on.chart</th>\n",
       "      <th>Week</th>\n",
       "      <th>Date</th>\n",
       "      <th>Genre</th>\n",
       "      <th>Writing.Credits</th>\n",
       "      <th>Lyrics</th>\n",
       "      <th>Features</th>\n",
       "    </tr>\n",
       "  </thead>\n",
       "  <tbody>\n",
       "    <tr>\n",
       "      <th>97224</th>\n",
       "      <td>97225</td>\n",
       "      <td>The Offspring</td>\n",
       "      <td>Why Don't You Get A Job?</td>\n",
       "      <td>100</td>\n",
       "      <td>74.0</td>\n",
       "      <td>15.0</td>\n",
       "      <td>1999-07-12</td>\n",
       "      <td>NaN</td>\n",
       "      <td>Ska,Punk Rock,Rock</td>\n",
       "      <td>Dexter holland</td>\n",
       "      <td>Why Don't You Get a Job? \\nMy friend's got a g...</td>\n",
       "      <td>NaN</td>\n",
       "    </tr>\n",
       "    <tr>\n",
       "      <th>97157</th>\n",
       "      <td>97158</td>\n",
       "      <td>Sugar Ray</td>\n",
       "      <td>Every Morning</td>\n",
       "      <td>27</td>\n",
       "      <td>3.0</td>\n",
       "      <td>28.0</td>\n",
       "      <td>1999-07-12</td>\n",
       "      <td>NaN</td>\n",
       "      <td>Rock</td>\n",
       "      <td>David kahne, Sugar ray</td>\n",
       "      <td>Every Morning \\nEvery morning there's a halo h...</td>\n",
       "      <td>NaN</td>\n",
       "    </tr>\n",
       "    <tr>\n",
       "      <th>97158</th>\n",
       "      <td>97159</td>\n",
       "      <td>Goo Goo Dolls</td>\n",
       "      <td>Slide</td>\n",
       "      <td>28</td>\n",
       "      <td>8.0</td>\n",
       "      <td>33.0</td>\n",
       "      <td>1999-07-12</td>\n",
       "      <td>NaN</td>\n",
       "      <td>Alternative Rock,Rock</td>\n",
       "      <td>John rzeznik</td>\n",
       "      <td>Slide \\nCould you whisper in my ear?\\nThe thin...</td>\n",
       "      <td>NaN</td>\n",
       "    </tr>\n",
       "    <tr>\n",
       "      <th>97159</th>\n",
       "      <td>97160</td>\n",
       "      <td>Lonestar</td>\n",
       "      <td>Amazed</td>\n",
       "      <td>29</td>\n",
       "      <td>29.0</td>\n",
       "      <td>7.0</td>\n",
       "      <td>1999-07-12</td>\n",
       "      <td>NaN</td>\n",
       "      <td>Pop,Country</td>\n",
       "      <td>Marv green, Chris lindsey, Aimee mayo</td>\n",
       "      <td>Amazed \\nEvery time our eyes meet\\nThis feelin...</td>\n",
       "      <td>NaN</td>\n",
       "    </tr>\n",
       "    <tr>\n",
       "      <th>97160</th>\n",
       "      <td>97161</td>\n",
       "      <td>Tim McGraw</td>\n",
       "      <td>Please Remember Me</td>\n",
       "      <td>30</td>\n",
       "      <td>10.0</td>\n",
       "      <td>16.0</td>\n",
       "      <td>1999-07-12</td>\n",
       "      <td>NaN</td>\n",
       "      <td>Country,Rock</td>\n",
       "      <td>Will jennings, Rodney crowell</td>\n",
       "      <td>Please Remember Me \\nWhen all our tears have r...</td>\n",
       "      <td>NaN</td>\n",
       "    </tr>\n",
       "  </tbody>\n",
       "</table>\n",
       "</div>"
      ],
      "text/plain": [
       "       Unnamed: 0        Artists                      Name  Weekly.rank  \\\n",
       "97224       97225  The Offspring  Why Don't You Get A Job?          100   \n",
       "97157       97158      Sugar Ray             Every Morning           27   \n",
       "97158       97159  Goo Goo Dolls                     Slide           28   \n",
       "97159       97160       Lonestar                    Amazed           29   \n",
       "97160       97161     Tim McGraw        Please Remember Me           30   \n",
       "\n",
       "       Peak.position  Weeks.on.chart        Week Date                  Genre  \\\n",
       "97224           74.0            15.0  1999-07-12  NaN     Ska,Punk Rock,Rock   \n",
       "97157            3.0            28.0  1999-07-12  NaN                   Rock   \n",
       "97158            8.0            33.0  1999-07-12  NaN  Alternative Rock,Rock   \n",
       "97159           29.0             7.0  1999-07-12  NaN            Pop,Country   \n",
       "97160           10.0            16.0  1999-07-12  NaN           Country,Rock   \n",
       "\n",
       "                             Writing.Credits  \\\n",
       "97224                         Dexter holland   \n",
       "97157                 David kahne, Sugar ray   \n",
       "97158                           John rzeznik   \n",
       "97159  Marv green, Chris lindsey, Aimee mayo   \n",
       "97160          Will jennings, Rodney crowell   \n",
       "\n",
       "                                                  Lyrics Features  \n",
       "97224  Why Don't You Get a Job? \\nMy friend's got a g...      NaN  \n",
       "97157  Every Morning \\nEvery morning there's a halo h...      NaN  \n",
       "97158  Slide \\nCould you whisper in my ear?\\nThe thin...      NaN  \n",
       "97159  Amazed \\nEvery time our eyes meet\\nThis feelin...      NaN  \n",
       "97160  Please Remember Me \\nWhen all our tears have r...      NaN  "
      ]
     },
     "execution_count": 11,
     "metadata": {},
     "output_type": "execute_result"
    }
   ],
   "source": [
    "billboard_100.head()"
   ]
  },
  {
   "cell_type": "code",
   "execution_count": 12,
   "metadata": {},
   "outputs": [
    {
     "data": {
      "text/plain": [
       "Unnamed: 0             0\n",
       "Artists                0\n",
       "Name                   0\n",
       "Weekly.rank            0\n",
       "Peak.position       7069\n",
       "Weeks.on.chart      7069\n",
       "Week                   0\n",
       "Date               12247\n",
       "Genre                  0\n",
       "Writing.Credits     7213\n",
       "Lyrics                 0\n",
       "Features           75936\n",
       "dtype: int64"
      ]
     },
     "execution_count": 12,
     "metadata": {},
     "output_type": "execute_result"
    }
   ],
   "source": [
    "# Check for null values\n",
    "billboard_100.isnull().sum()\n",
    "\n",
    "# This makes since bc the null values belong to the song's first week on the Billboard chart"
   ]
  },
  {
   "cell_type": "code",
   "execution_count": 13,
   "metadata": {},
   "outputs": [],
   "source": [
    "# Filter to only show songs from the last ten years (November 2010-Dec 2019 (end of dataset))\n",
    "billboard_100 = billboard_100.loc[billboard_100['Week'] > '2009-07-01']"
   ]
  },
  {
   "cell_type": "code",
   "execution_count": 14,
   "metadata": {},
   "outputs": [
    {
     "data": {
      "text/html": [
       "<div>\n",
       "<style scoped>\n",
       "    .dataframe tbody tr th:only-of-type {\n",
       "        vertical-align: middle;\n",
       "    }\n",
       "\n",
       "    .dataframe tbody tr th {\n",
       "        vertical-align: top;\n",
       "    }\n",
       "\n",
       "    .dataframe thead th {\n",
       "        text-align: right;\n",
       "    }\n",
       "</style>\n",
       "<table border=\"1\" class=\"dataframe\">\n",
       "  <thead>\n",
       "    <tr style=\"text-align: right;\">\n",
       "      <th></th>\n",
       "      <th>Unnamed: 0</th>\n",
       "      <th>Artists</th>\n",
       "      <th>Name</th>\n",
       "      <th>Weekly.rank</th>\n",
       "      <th>Peak.position</th>\n",
       "      <th>Weeks.on.chart</th>\n",
       "      <th>Week</th>\n",
       "      <th>Date</th>\n",
       "      <th>Genre</th>\n",
       "      <th>Writing.Credits</th>\n",
       "      <th>Lyrics</th>\n",
       "      <th>Features</th>\n",
       "    </tr>\n",
       "  </thead>\n",
       "  <tbody>\n",
       "    <tr>\n",
       "      <th>49402</th>\n",
       "      <td>49403</td>\n",
       "      <td>Dierks Bentley</td>\n",
       "      <td>Sideways</td>\n",
       "      <td>35</td>\n",
       "      <td>35.0</td>\n",
       "      <td>12.0</td>\n",
       "      <td>2009-07-02</td>\n",
       "      <td>February 3, 2009</td>\n",
       "      <td>Country</td>\n",
       "      <td>Dierks bentley, Jim beavers</td>\n",
       "      <td>Sideways \\nHey girl, what's your name?\\nIt's s...</td>\n",
       "      <td>NaN</td>\n",
       "    </tr>\n",
       "    <tr>\n",
       "      <th>49401</th>\n",
       "      <td>49402</td>\n",
       "      <td>Flo Rida</td>\n",
       "      <td>Sugar</td>\n",
       "      <td>34</td>\n",
       "      <td>5.0</td>\n",
       "      <td>14.0</td>\n",
       "      <td>2009-07-02</td>\n",
       "      <td>March 31, 2009</td>\n",
       "      <td>Rap</td>\n",
       "      <td>Steven battey, Carlos battey, Dj montay, Flo r...</td>\n",
       "      <td>Sugar \\nDumm\\nDouble dee double di\\nDouble dee...</td>\n",
       "      <td>Wynter</td>\n",
       "    </tr>\n",
       "    <tr>\n",
       "      <th>49400</th>\n",
       "      <td>49401</td>\n",
       "      <td>Jason Mraz</td>\n",
       "      <td>I'm Yours</td>\n",
       "      <td>33</td>\n",
       "      <td>6.0</td>\n",
       "      <td>62.0</td>\n",
       "      <td>2009-07-02</td>\n",
       "      <td>April 15, 2008</td>\n",
       "      <td>Adult Contemporary,Adult Alternative,Pop-Rock,...</td>\n",
       "      <td>Jason mraz</td>\n",
       "      <td>I'm Yours \\nWell you done done me and you bet ...</td>\n",
       "      <td>NaN</td>\n",
       "    </tr>\n",
       "    <tr>\n",
       "      <th>49395</th>\n",
       "      <td>49396</td>\n",
       "      <td>Brad Paisley</td>\n",
       "      <td>Then</td>\n",
       "      <td>28</td>\n",
       "      <td>28.0</td>\n",
       "      <td>14.0</td>\n",
       "      <td>2009-07-02</td>\n",
       "      <td>March 23, 2009</td>\n",
       "      <td>Country</td>\n",
       "      <td>Ashley gorley, Brad paisley, Chris dubois</td>\n",
       "      <td>Then \\nI remember trying not to stare\\nThe nig...</td>\n",
       "      <td>NaN</td>\n",
       "    </tr>\n",
       "    <tr>\n",
       "      <th>49398</th>\n",
       "      <td>49399</td>\n",
       "      <td>Jordin Sparks</td>\n",
       "      <td>Battlefield</td>\n",
       "      <td>31</td>\n",
       "      <td>31.0</td>\n",
       "      <td>6.0</td>\n",
       "      <td>2009-07-02</td>\n",
       "      <td>May 8, 2009</td>\n",
       "      <td>R&amp;;B,Pop</td>\n",
       "      <td>Wayne wilkins, Sam watters, Louis biancaniello...</td>\n",
       "      <td>Battlefield \\nDon't try to explain your mind, ...</td>\n",
       "      <td>NaN</td>\n",
       "    </tr>\n",
       "  </tbody>\n",
       "</table>\n",
       "</div>"
      ],
      "text/plain": [
       "       Unnamed: 0         Artists         Name  Weekly.rank  Peak.position  \\\n",
       "49402       49403  Dierks Bentley     Sideways           35           35.0   \n",
       "49401       49402        Flo Rida        Sugar           34            5.0   \n",
       "49400       49401      Jason Mraz    I'm Yours           33            6.0   \n",
       "49395       49396    Brad Paisley         Then           28           28.0   \n",
       "49398       49399   Jordin Sparks  Battlefield           31           31.0   \n",
       "\n",
       "       Weeks.on.chart        Week              Date  \\\n",
       "49402            12.0  2009-07-02  February 3, 2009   \n",
       "49401            14.0  2009-07-02    March 31, 2009   \n",
       "49400            62.0  2009-07-02    April 15, 2008   \n",
       "49395            14.0  2009-07-02    March 23, 2009   \n",
       "49398             6.0  2009-07-02       May 8, 2009   \n",
       "\n",
       "                                                   Genre  \\\n",
       "49402                                            Country   \n",
       "49401                                                Rap   \n",
       "49400  Adult Contemporary,Adult Alternative,Pop-Rock,...   \n",
       "49395                                            Country   \n",
       "49398                                           R&;B,Pop   \n",
       "\n",
       "                                         Writing.Credits  \\\n",
       "49402                        Dierks bentley, Jim beavers   \n",
       "49401  Steven battey, Carlos battey, Dj montay, Flo r...   \n",
       "49400                                         Jason mraz   \n",
       "49395          Ashley gorley, Brad paisley, Chris dubois   \n",
       "49398  Wayne wilkins, Sam watters, Louis biancaniello...   \n",
       "\n",
       "                                                  Lyrics Features  \n",
       "49402  Sideways \\nHey girl, what's your name?\\nIt's s...      NaN  \n",
       "49401  Sugar \\nDumm\\nDouble dee double di\\nDouble dee...   Wynter  \n",
       "49400  I'm Yours \\nWell you done done me and you bet ...      NaN  \n",
       "49395  Then \\nI remember trying not to stare\\nThe nig...      NaN  \n",
       "49398  Battlefield \\nDon't try to explain your mind, ...      NaN  "
      ]
     },
     "execution_count": 14,
     "metadata": {},
     "output_type": "execute_result"
    }
   ],
   "source": [
    "billboard_100.head()"
   ]
  },
  {
   "cell_type": "code",
   "execution_count": 15,
   "metadata": {},
   "outputs": [
    {
     "name": "stdout",
     "output_type": "stream",
     "text": [
      "<class 'pandas.core.frame.DataFrame'>\n",
      "Int64Index: 49463 entries, 49402 to 0\n",
      "Data columns (total 12 columns):\n",
      " #   Column           Non-Null Count  Dtype  \n",
      "---  ------           --------------  -----  \n",
      " 0   Unnamed: 0       49463 non-null  int64  \n",
      " 1   Artists          49463 non-null  object \n",
      " 2   Name             49463 non-null  object \n",
      " 3   Weekly.rank      49463 non-null  int64  \n",
      " 4   Peak.position    45402 non-null  float64\n",
      " 5   Weeks.on.chart   45402 non-null  float64\n",
      " 6   Week             49463 non-null  object \n",
      " 7   Date             47597 non-null  object \n",
      " 8   Genre            49463 non-null  object \n",
      " 9   Writing.Credits  47974 non-null  object \n",
      " 10  Lyrics           49463 non-null  object \n",
      " 11  Features         12949 non-null  object \n",
      "dtypes: float64(2), int64(2), object(8)\n",
      "memory usage: 4.9+ MB\n"
     ]
    }
   ],
   "source": [
    "billboard_100.info()"
   ]
  },
  {
   "cell_type": "code",
   "execution_count": 29,
   "metadata": {},
   "outputs": [
    {
     "name": "stderr",
     "output_type": "stream",
     "text": [
      "<ipython-input-29-0418d80991d7>:3: SettingWithCopyWarning: \n",
      "A value is trying to be set on a copy of a slice from a DataFrame.\n",
      "Try using .loc[row_indexer,col_indexer] = value instead\n",
      "\n",
      "See the caveats in the documentation: https://pandas.pydata.org/pandas-docs/stable/user_guide/indexing.html#returning-a-view-versus-a-copy\n",
      "  billboard_100['Artist_Song'] = str(billboard_100['Artists'] + billboard_100['Name'])\n"
     ]
    }
   ],
   "source": [
    "# Create a unique identifier column \n",
    "\n"
   ]
  },
  {
   "cell_type": "code",
   "execution_count": 17,
   "metadata": {},
   "outputs": [
    {
     "data": {
      "text/plain": [
       "(49463, 12)"
      ]
     },
     "execution_count": 17,
     "metadata": {},
     "output_type": "execute_result"
    }
   ],
   "source": [
    "billboard_100.shape"
   ]
  },
  {
   "cell_type": "markdown",
   "metadata": {},
   "source": [
    "## Exploratory Data Analysis"
   ]
  },
  {
   "cell_type": "code",
   "execution_count": 18,
   "metadata": {},
   "outputs": [
    {
     "data": {
      "text/plain": [
       "20.0    564\n",
       "2.0     287\n",
       "3.0     169\n",
       "4.0     107\n",
       "18.0    106\n",
       "       ... \n",
       "76.0      1\n",
       "79.0      1\n",
       "60.0      1\n",
       "65.0      1\n",
       "87.0      1\n",
       "Name: Weeks.on.chart, Length: 65, dtype: int64"
      ]
     },
     "execution_count": 18,
     "metadata": {},
     "output_type": "execute_result"
    }
   ],
   "source": [
    "# Distribution of weeks on the Billboard chart\n",
    "max_weeks = billboard_100.groupby('Name')['Weeks.on.chart'].max().reset_index()\n",
    "max_weeks['Weeks.on.chart'].value_counts()"
   ]
  },
  {
   "cell_type": "code",
   "execution_count": 19,
   "metadata": {},
   "outputs": [
    {
     "data": {
      "text/plain": [
       "Text(0, 0.5, 'Number of Songs')"
      ]
     },
     "execution_count": 19,
     "metadata": {},
     "output_type": "execute_result"
    },
    {
     "data": {
      "image/png": "[encoded data removed]",
      "text/plain": [
       "<Figure size 1080x720 with 1 Axes>"
      ]
     },
     "metadata": {
      "needs_background": "light"
     },
     "output_type": "display_data"
    }
   ],
   "source": [
    "# Plot the distribution\n",
    "plt.figure(figsize=(15,10))\n",
    "sns.countplot(max_weeks['Weeks.on.chart'])\n",
    "plt.title('Distribution of the Number of Weeks on the Billboard 100 Chart')\n",
    "plt.xlabel('Number of Weeks')\n",
    "plt.ylabel('Number of Songs')"
   ]
  },
  {
   "cell_type": "code",
   "execution_count": 20,
   "metadata": {},
   "outputs": [
    {
     "data": {
      "text/html": [
       "<div>\n",
       "<style scoped>\n",
       "    .dataframe tbody tr th:only-of-type {\n",
       "        vertical-align: middle;\n",
       "    }\n",
       "\n",
       "    .dataframe tbody tr th {\n",
       "        vertical-align: top;\n",
       "    }\n",
       "\n",
       "    .dataframe thead th {\n",
       "        text-align: right;\n",
       "    }\n",
       "</style>\n",
       "<table border=\"1\" class=\"dataframe\">\n",
       "  <thead>\n",
       "    <tr style=\"text-align: right;\">\n",
       "      <th></th>\n",
       "      <th>Name</th>\n",
       "      <th>Weeks.on.chart</th>\n",
       "    </tr>\n",
       "  </thead>\n",
       "  <tbody>\n",
       "    <tr>\n",
       "      <th>2680</th>\n",
       "      <td>Radioactive</td>\n",
       "      <td>87.0</td>\n",
       "    </tr>\n",
       "    <tr>\n",
       "      <th>2838</th>\n",
       "      <td>Sail</td>\n",
       "      <td>79.0</td>\n",
       "    </tr>\n",
       "    <tr>\n",
       "      <th>1662</th>\n",
       "      <td>I'm Yours</td>\n",
       "      <td>76.0</td>\n",
       "    </tr>\n",
       "    <tr>\n",
       "      <th>703</th>\n",
       "      <td>Counting Stars</td>\n",
       "      <td>68.0</td>\n",
       "    </tr>\n",
       "    <tr>\n",
       "      <th>2791</th>\n",
       "      <td>Rolling In The Deep</td>\n",
       "      <td>65.0</td>\n",
       "    </tr>\n",
       "    <tr>\n",
       "      <th>1437</th>\n",
       "      <td>Ho Hey</td>\n",
       "      <td>62.0</td>\n",
       "    </tr>\n",
       "    <tr>\n",
       "      <th>792</th>\n",
       "      <td>Demons</td>\n",
       "      <td>61.0</td>\n",
       "    </tr>\n",
       "    <tr>\n",
       "      <th>2283</th>\n",
       "      <td>Need You Now</td>\n",
       "      <td>60.0</td>\n",
       "    </tr>\n",
       "    <tr>\n",
       "      <th>144</th>\n",
       "      <td>All Of Me</td>\n",
       "      <td>59.0</td>\n",
       "    </tr>\n",
       "    <tr>\n",
       "      <th>3026</th>\n",
       "      <td>Somebody That I Used To Know</td>\n",
       "      <td>59.0</td>\n",
       "    </tr>\n",
       "    <tr>\n",
       "      <th>2917</th>\n",
       "      <td>Shape Of You</td>\n",
       "      <td>59.0</td>\n",
       "    </tr>\n",
       "    <tr>\n",
       "      <th>3363</th>\n",
       "      <td>Thinking Out Loud</td>\n",
       "      <td>58.0</td>\n",
       "    </tr>\n",
       "    <tr>\n",
       "      <th>2567</th>\n",
       "      <td>Perfect</td>\n",
       "      <td>57.0</td>\n",
       "    </tr>\n",
       "    <tr>\n",
       "      <th>1938</th>\n",
       "      <td>Lights</td>\n",
       "      <td>57.0</td>\n",
       "    </tr>\n",
       "    <tr>\n",
       "      <th>767</th>\n",
       "      <td>Dark Horse</td>\n",
       "      <td>57.0</td>\n",
       "    </tr>\n",
       "    <tr>\n",
       "      <th>3530</th>\n",
       "      <td>Use Somebody</td>\n",
       "      <td>57.0</td>\n",
       "    </tr>\n",
       "    <tr>\n",
       "      <th>3022</th>\n",
       "      <td>Some Nights</td>\n",
       "      <td>56.0</td>\n",
       "    </tr>\n",
       "    <tr>\n",
       "      <th>1560</th>\n",
       "      <td>I Gotta Feeling</td>\n",
       "      <td>56.0</td>\n",
       "    </tr>\n",
       "  </tbody>\n",
       "</table>\n",
       "</div>"
      ],
      "text/plain": [
       "                              Name  Weeks.on.chart\n",
       "2680                   Radioactive            87.0\n",
       "2838                          Sail            79.0\n",
       "1662                     I'm Yours            76.0\n",
       "703                 Counting Stars            68.0\n",
       "2791           Rolling In The Deep            65.0\n",
       "1437                        Ho Hey            62.0\n",
       "792                         Demons            61.0\n",
       "2283                  Need You Now            60.0\n",
       "144                      All Of Me            59.0\n",
       "3026  Somebody That I Used To Know            59.0\n",
       "2917                  Shape Of You            59.0\n",
       "3363             Thinking Out Loud            58.0\n",
       "2567                       Perfect            57.0\n",
       "1938                        Lights            57.0\n",
       "767                     Dark Horse            57.0\n",
       "3530                  Use Somebody            57.0\n",
       "3022                   Some Nights            56.0\n",
       "1560               I Gotta Feeling            56.0"
      ]
     },
     "execution_count": 20,
     "metadata": {},
     "output_type": "execute_result"
    }
   ],
   "source": [
    "# Look at the songs with the longest time on the charts\n",
    "max_weeks.loc[max_weeks['Weeks.on.chart'] >= 55].sort_values(by = 'Weeks.on.chart', ascending=False)"
   ]
  },
  {
   "cell_type": "code",
   "execution_count": 21,
   "metadata": {},
   "outputs": [
    {
     "data": {
      "text/plain": [
       "91.0     87\n",
       "88.0     75\n",
       "90.0     71\n",
       "87.0     66\n",
       "84.0     64\n",
       "         ..\n",
       "29.0     11\n",
       "49.0     11\n",
       "32.0     10\n",
       "40.0      9\n",
       "100.0     9\n",
       "Name: Peak.position, Length: 100, dtype: int64"
      ]
     },
     "execution_count": 21,
     "metadata": {},
     "output_type": "execute_result"
    }
   ],
   "source": [
    "peak_position = billboard_100.groupby('Name')['Peak.position'].max().reset_index()\n",
    "peak_position['Peak.position'].value_counts()"
   ]
  },
  {
   "cell_type": "markdown",
   "metadata": {},
   "source": [
    "## Lyrics and Sentiment Analysis"
   ]
  },
  {
   "cell_type": "code",
   "execution_count": 23,
   "metadata": {},
   "outputs": [
    {
     "data": {
      "text/plain": [
       "['Unnamed: 0',\n",
       " 'Artists',\n",
       " 'Name',\n",
       " 'Weekly.rank',\n",
       " 'Peak.position',\n",
       " 'Weeks.on.chart',\n",
       " 'Week',\n",
       " 'Date',\n",
       " 'Genre',\n",
       " 'Writing.Credits',\n",
       " 'Lyrics',\n",
       " 'Features']"
      ]
     },
     "execution_count": 23,
     "metadata": {},
     "output_type": "execute_result"
    }
   ],
   "source": [
    "# Get the column names \n",
    "billboard_100.columns.tolist()"
   ]
  },
  {
   "cell_type": "code",
   "execution_count": 24,
   "metadata": {},
   "outputs": [],
   "source": [
    "# Function to return the sentiment score for each song\n",
    "def lyrics_sentiment(lyrics):    \n",
    "    analysis = TextBlob(lyrics)\n",
    "    return analysis.sentiment.polarity"
   ]
  },
  {
   "cell_type": "code",
   "execution_count": 25,
   "metadata": {},
   "outputs": [],
   "source": [
    "# Text preprocessing\n",
    "def preprocessing(text):\n",
    "    document = nlp(text, disable=['ner','parser'])\n",
    "    lemmas = [token.lemma_ for token in document]\n",
    "    lemma_clean = [lemma for lemma in lemmas\n",
    "                  if lemma.isalpha() and lemma not in stopwords]\n",
    "    return ''.join(lemma_clean)"
   ]
  },
  {
   "cell_type": "code",
   "execution_count": 26,
   "metadata": {},
   "outputs": [],
   "source": [
    "#Use get_lyric_sentiment to get sentiment score for all the song lyrics\n",
    "sentiment = billboard_100.apply(lambda row: lyrics_sentiment(row['Lyrics']), axis =1)\n",
    "billboard_100['Sentiment'] = sentiment"
   ]
  },
  {
   "cell_type": "code",
   "execution_count": 27,
   "metadata": {},
   "outputs": [],
   "source": [
    "# Set the index to be the weekid\n",
    "billboard_100.reset_index(inplace=True)"
   ]
  },
  {
   "cell_type": "code",
   "execution_count": 28,
   "metadata": {},
   "outputs": [],
   "source": [
    "#Set the index of the dataframe to the WeekID. This sets us up to resample dataframe based on time\n",
    "billboard_100['Week'] = pd.to_datetime(billboard_100['Week'],infer_datetime_format=True)\n",
    "billboard_100 = billboard_100.sort_values(by='Week')\n",
    "billboard_100 = billboard_100.reset_index(drop=True)\n",
    "billboard_100 = billboard_100.set_index('Week')"
   ]
  },
  {
   "cell_type": "code",
   "execution_count": null,
   "metadata": {},
   "outputs": [],
   "source": [
    "#Resample dataframe lyrics by year. Get all the lyrics for every song for each year\n",
    "#lyrics_resample = billboard_100['Lyrics'].resample('y').sum()"
   ]
  },
  {
   "cell_type": "code",
   "execution_count": 103,
   "metadata": {},
   "outputs": [],
   "source": [
    "#Resample dataframe sentiment column by year. This arranges the mean lyric sentiment for every year\n",
    "billboard_100_resample = billboard_100['Sentiment'].resample('Y').mean()"
   ]
  },
  {
   "cell_type": "code",
   "execution_count": 104,
   "metadata": {},
   "outputs": [
    {
     "data": {
      "text/plain": [
       "Text(0, 0.5, 'Sentiment')"
      ]
     },
     "execution_count": 104,
     "metadata": {},
     "output_type": "execute_result"
    },
    {
     "data": {
      "image/png": "[encoded data removed]",
      "text/plain": [
       "<Figure size 432x288 with 1 Axes>"
      ]
     },
     "metadata": {
      "needs_background": "light"
     },
     "output_type": "display_data"
    }
   ],
   "source": [
    "#Plot lyric sentiment over time\n",
    "billboard_100_resample.plot(label='Sentiment', legend=True)\n",
    "plt.title('Average Sentiment per Year over Time')\n",
    "plt.xlabel('Year')\n",
    "plt.ylabel('Sentiment')"
   ]
  },
  {
   "cell_type": "code",
   "execution_count": 105,
   "metadata": {},
   "outputs": [],
   "source": [
    "billboard_100_resample = billboard_100['Sentiment'].resample('W').mean()"
   ]
  },
  {
   "cell_type": "code",
   "execution_count": 106,
   "metadata": {},
   "outputs": [
    {
     "data": {
      "text/plain": [
       "Text(0, 0.5, 'Sentiment')"
      ]
     },
     "execution_count": 106,
     "metadata": {},
     "output_type": "execute_result"
    },
    {
     "data": {
      "image/png": "[encoded data removed]",
      "text/plain": [
       "<Figure size 432x288 with 1 Axes>"
      ]
     },
     "metadata": {
      "needs_background": "light"
     },
     "output_type": "display_data"
    }
   ],
   "source": [
    "#Plot lyric sentiment over time\n",
    "billboard_100_resample.plot(label='Sentiment', legend=True)\n",
    "plt.title('Average Sentiment per Week over Time')\n",
    "plt.xlabel('Week')\n",
    "plt.ylabel('Sentiment')"
   ]
  },
  {
   "cell_type": "markdown",
   "metadata": {},
   "source": [
    "## Text Analysis"
   ]
  },
  {
   "cell_type": "code",
   "execution_count": 109,
   "metadata": {},
   "outputs": [],
   "source": [
    "# Change all to lowercase and remove all punctuation\n",
    "def clean_text(x):\n",
    "    punc='!\"'',.@#$%^&*()-_+:;?><[]{}`~1234567890'\n",
    "    lowercase = x.lower()\n",
    "    for ch in punc:\n",
    "        lowercase = lowercase.replace(ch,'')\n",
    "    return lowercase\n"
   ]
  },
  {
   "cell_type": "code",
   "execution_count": 110,
   "metadata": {},
   "outputs": [],
   "source": [
    "# Keyword extraction\n",
    "def keyword_extract(texts):\n",
    "    xkeywords = []\n",
    "    values = keywords(text=preprocessing(texts), split='\\n', scores=True)\n",
    "    for x in values[:10]:\n",
    "        xkeywords.append(x[0])\n",
    "    try:\n",
    "        return xkeywords\n",
    "    except:\n",
    "        return 'there is no content'"
   ]
  },
  {
   "cell_type": "code",
   "execution_count": null,
   "metadata": {},
   "outputs": [],
   "source": [
    "lyrics_resample = billboard_100['Lyrics'].resample('Y').sum()"
   ]
  },
  {
   "cell_type": "code",
   "execution_count": 111,
   "metadata": {},
   "outputs": [
    {
     "ename": "TypeError",
     "evalue": "Argument 'string' has incorrect type (expected str, got Series)",
     "output_type": "error",
     "traceback": [
      "\u001b[0;31m---------------------------------------------------------------------------\u001b[0m",
      "\u001b[0;31mTypeError\u001b[0m                                 Traceback (most recent call last)",
      "\u001b[0;32m<ipython-input-111-477a3363a05f>\u001b[0m in \u001b[0;36m<module>\u001b[0;34m\u001b[0m\n\u001b[1;32m      1\u001b[0m \u001b[0;31m#Use return_keywords function on lyrics_resample to get the top 20 keywords for each year\u001b[0m\u001b[0;34m\u001b[0m\u001b[0;34m\u001b[0m\u001b[0;34m\u001b[0m\u001b[0m\n\u001b[0;32m----> 2\u001b[0;31m \u001b[0mlyric_keywords\u001b[0m \u001b[0;34m=\u001b[0m \u001b[0;34m[\u001b[0m\u001b[0mkeyword_extract\u001b[0m\u001b[0;34m(\u001b[0m\u001b[0mx\u001b[0m\u001b[0;34m[\u001b[0m\u001b[0;36m1\u001b[0m\u001b[0;34m]\u001b[0m\u001b[0;34m)\u001b[0m \u001b[0;32mfor\u001b[0m \u001b[0mx\u001b[0m \u001b[0;32min\u001b[0m \u001b[0mbillboard_100\u001b[0m\u001b[0;34m.\u001b[0m\u001b[0miteritems\u001b[0m\u001b[0;34m(\u001b[0m\u001b[0;34m)\u001b[0m\u001b[0;34m]\u001b[0m\u001b[0;34m\u001b[0m\u001b[0;34m\u001b[0m\u001b[0m\n\u001b[0m",
      "\u001b[0;32m<ipython-input-111-477a3363a05f>\u001b[0m in \u001b[0;36m<listcomp>\u001b[0;34m(.0)\u001b[0m\n\u001b[1;32m      1\u001b[0m \u001b[0;31m#Use return_keywords function on lyrics_resample to get the top 20 keywords for each year\u001b[0m\u001b[0;34m\u001b[0m\u001b[0;34m\u001b[0m\u001b[0;34m\u001b[0m\u001b[0m\n\u001b[0;32m----> 2\u001b[0;31m \u001b[0mlyric_keywords\u001b[0m \u001b[0;34m=\u001b[0m \u001b[0;34m[\u001b[0m\u001b[0mkeyword_extract\u001b[0m\u001b[0;34m(\u001b[0m\u001b[0mx\u001b[0m\u001b[0;34m[\u001b[0m\u001b[0;36m1\u001b[0m\u001b[0;34m]\u001b[0m\u001b[0;34m)\u001b[0m \u001b[0;32mfor\u001b[0m \u001b[0mx\u001b[0m \u001b[0;32min\u001b[0m \u001b[0mbillboard_100\u001b[0m\u001b[0;34m.\u001b[0m\u001b[0miteritems\u001b[0m\u001b[0;34m(\u001b[0m\u001b[0;34m)\u001b[0m\u001b[0;34m]\u001b[0m\u001b[0;34m\u001b[0m\u001b[0;34m\u001b[0m\u001b[0m\n\u001b[0m",
      "\u001b[0;32m<ipython-input-110-fa5a25d3b055>\u001b[0m in \u001b[0;36mkeyword_extract\u001b[0;34m(texts)\u001b[0m\n\u001b[1;32m      2\u001b[0m \u001b[0;32mdef\u001b[0m \u001b[0mkeyword_extract\u001b[0m\u001b[0;34m(\u001b[0m\u001b[0mtexts\u001b[0m\u001b[0;34m)\u001b[0m\u001b[0;34m:\u001b[0m\u001b[0;34m\u001b[0m\u001b[0;34m\u001b[0m\u001b[0m\n\u001b[1;32m      3\u001b[0m     \u001b[0mxkeywords\u001b[0m \u001b[0;34m=\u001b[0m \u001b[0;34m[\u001b[0m\u001b[0;34m]\u001b[0m\u001b[0;34m\u001b[0m\u001b[0;34m\u001b[0m\u001b[0m\n\u001b[0;32m----> 4\u001b[0;31m     \u001b[0mvalues\u001b[0m \u001b[0;34m=\u001b[0m \u001b[0mkeywords\u001b[0m\u001b[0;34m(\u001b[0m\u001b[0mtext\u001b[0m\u001b[0;34m=\u001b[0m\u001b[0mpreprocessing\u001b[0m\u001b[0;34m(\u001b[0m\u001b[0mtexts\u001b[0m\u001b[0;34m)\u001b[0m\u001b[0;34m,\u001b[0m \u001b[0msplit\u001b[0m\u001b[0;34m=\u001b[0m\u001b[0;34m'\\n'\u001b[0m\u001b[0;34m,\u001b[0m \u001b[0mscores\u001b[0m\u001b[0;34m=\u001b[0m\u001b[0;32mTrue\u001b[0m\u001b[0;34m)\u001b[0m\u001b[0;34m\u001b[0m\u001b[0;34m\u001b[0m\u001b[0m\n\u001b[0m\u001b[1;32m      5\u001b[0m     \u001b[0;32mfor\u001b[0m \u001b[0mx\u001b[0m \u001b[0;32min\u001b[0m \u001b[0mvalues\u001b[0m\u001b[0;34m[\u001b[0m\u001b[0;34m:\u001b[0m\u001b[0;36m10\u001b[0m\u001b[0;34m]\u001b[0m\u001b[0;34m:\u001b[0m\u001b[0;34m\u001b[0m\u001b[0;34m\u001b[0m\u001b[0m\n\u001b[1;32m      6\u001b[0m         \u001b[0mxkeywords\u001b[0m\u001b[0;34m.\u001b[0m\u001b[0mappend\u001b[0m\u001b[0;34m(\u001b[0m\u001b[0mx\u001b[0m\u001b[0;34m[\u001b[0m\u001b[0;36m0\u001b[0m\u001b[0;34m]\u001b[0m\u001b[0;34m)\u001b[0m\u001b[0;34m\u001b[0m\u001b[0;34m\u001b[0m\u001b[0m\n",
      "\u001b[0;32m<ipython-input-25-9464f05ebca2>\u001b[0m in \u001b[0;36mpreprocessing\u001b[0;34m(text)\u001b[0m\n\u001b[1;32m      1\u001b[0m \u001b[0;31m# Text preprocessing\u001b[0m\u001b[0;34m\u001b[0m\u001b[0;34m\u001b[0m\u001b[0;34m\u001b[0m\u001b[0m\n\u001b[1;32m      2\u001b[0m \u001b[0;32mdef\u001b[0m \u001b[0mpreprocessing\u001b[0m\u001b[0;34m(\u001b[0m\u001b[0mtext\u001b[0m\u001b[0;34m)\u001b[0m\u001b[0;34m:\u001b[0m\u001b[0;34m\u001b[0m\u001b[0;34m\u001b[0m\u001b[0m\n\u001b[0;32m----> 3\u001b[0;31m     \u001b[0mdocument\u001b[0m \u001b[0;34m=\u001b[0m \u001b[0mnlp\u001b[0m\u001b[0;34m(\u001b[0m\u001b[0mtext\u001b[0m\u001b[0;34m,\u001b[0m \u001b[0mdisable\u001b[0m\u001b[0;34m=\u001b[0m\u001b[0;34m[\u001b[0m\u001b[0;34m'ner'\u001b[0m\u001b[0;34m,\u001b[0m\u001b[0;34m'parser'\u001b[0m\u001b[0;34m]\u001b[0m\u001b[0;34m)\u001b[0m\u001b[0;34m\u001b[0m\u001b[0;34m\u001b[0m\u001b[0m\n\u001b[0m\u001b[1;32m      4\u001b[0m     \u001b[0mlemmas\u001b[0m \u001b[0;34m=\u001b[0m \u001b[0;34m[\u001b[0m\u001b[0mtoken\u001b[0m\u001b[0;34m.\u001b[0m\u001b[0mlemma_\u001b[0m \u001b[0;32mfor\u001b[0m \u001b[0mtoken\u001b[0m \u001b[0;32min\u001b[0m \u001b[0mdocument\u001b[0m\u001b[0;34m]\u001b[0m\u001b[0;34m\u001b[0m\u001b[0;34m\u001b[0m\u001b[0m\n\u001b[1;32m      5\u001b[0m     lemma_clean = [lemma for lemma in lemmas\n",
      "\u001b[0;32m/Applications/anaconda3/lib/python3.8/site-packages/spacy/language.py\u001b[0m in \u001b[0;36m__call__\u001b[0;34m(self, text, disable, component_cfg)\u001b[0m\n\u001b[1;32m    439\u001b[0m                 \u001b[0mErrors\u001b[0m\u001b[0;34m.\u001b[0m\u001b[0mE088\u001b[0m\u001b[0;34m.\u001b[0m\u001b[0mformat\u001b[0m\u001b[0;34m(\u001b[0m\u001b[0mlength\u001b[0m\u001b[0;34m=\u001b[0m\u001b[0mlen\u001b[0m\u001b[0;34m(\u001b[0m\u001b[0mtext\u001b[0m\u001b[0;34m)\u001b[0m\u001b[0;34m,\u001b[0m \u001b[0mmax_length\u001b[0m\u001b[0;34m=\u001b[0m\u001b[0mself\u001b[0m\u001b[0;34m.\u001b[0m\u001b[0mmax_length\u001b[0m\u001b[0;34m)\u001b[0m\u001b[0;34m\u001b[0m\u001b[0;34m\u001b[0m\u001b[0m\n\u001b[1;32m    440\u001b[0m             )\n\u001b[0;32m--> 441\u001b[0;31m         \u001b[0mdoc\u001b[0m \u001b[0;34m=\u001b[0m \u001b[0mself\u001b[0m\u001b[0;34m.\u001b[0m\u001b[0mmake_doc\u001b[0m\u001b[0;34m(\u001b[0m\u001b[0mtext\u001b[0m\u001b[0;34m)\u001b[0m\u001b[0;34m\u001b[0m\u001b[0;34m\u001b[0m\u001b[0m\n\u001b[0m\u001b[1;32m    442\u001b[0m         \u001b[0;32mif\u001b[0m \u001b[0mcomponent_cfg\u001b[0m \u001b[0;32mis\u001b[0m \u001b[0;32mNone\u001b[0m\u001b[0;34m:\u001b[0m\u001b[0;34m\u001b[0m\u001b[0;34m\u001b[0m\u001b[0m\n\u001b[1;32m    443\u001b[0m             \u001b[0mcomponent_cfg\u001b[0m \u001b[0;34m=\u001b[0m \u001b[0;34m{\u001b[0m\u001b[0;34m}\u001b[0m\u001b[0;34m\u001b[0m\u001b[0;34m\u001b[0m\u001b[0m\n",
      "\u001b[0;32m/Applications/anaconda3/lib/python3.8/site-packages/spacy/language.py\u001b[0m in \u001b[0;36mmake_doc\u001b[0;34m(self, text)\u001b[0m\n\u001b[1;32m    465\u001b[0m \u001b[0;34m\u001b[0m\u001b[0m\n\u001b[1;32m    466\u001b[0m     \u001b[0;32mdef\u001b[0m \u001b[0mmake_doc\u001b[0m\u001b[0;34m(\u001b[0m\u001b[0mself\u001b[0m\u001b[0;34m,\u001b[0m \u001b[0mtext\u001b[0m\u001b[0;34m)\u001b[0m\u001b[0;34m:\u001b[0m\u001b[0;34m\u001b[0m\u001b[0;34m\u001b[0m\u001b[0m\n\u001b[0;32m--> 467\u001b[0;31m         \u001b[0;32mreturn\u001b[0m \u001b[0mself\u001b[0m\u001b[0;34m.\u001b[0m\u001b[0mtokenizer\u001b[0m\u001b[0;34m(\u001b[0m\u001b[0mtext\u001b[0m\u001b[0;34m)\u001b[0m\u001b[0;34m\u001b[0m\u001b[0;34m\u001b[0m\u001b[0m\n\u001b[0m\u001b[1;32m    468\u001b[0m \u001b[0;34m\u001b[0m\u001b[0m\n\u001b[1;32m    469\u001b[0m     \u001b[0;32mdef\u001b[0m \u001b[0m_format_docs_and_golds\u001b[0m\u001b[0;34m(\u001b[0m\u001b[0mself\u001b[0m\u001b[0;34m,\u001b[0m \u001b[0mdocs\u001b[0m\u001b[0;34m,\u001b[0m \u001b[0mgolds\u001b[0m\u001b[0;34m)\u001b[0m\u001b[0;34m:\u001b[0m\u001b[0;34m\u001b[0m\u001b[0;34m\u001b[0m\u001b[0m\n",
      "\u001b[0;31mTypeError\u001b[0m: Argument 'string' has incorrect type (expected str, got Series)"
     ]
    }
   ],
   "source": [
    "#Use return_keywords function on lyrics_resample to get the top 20 keywords for each year\n",
    "lyric_keywords = [keyword_extract(x[1]) for x in lyrics_resample.iteritems()]\n"
   ]
  },
  {
   "cell_type": "code",
   "execution_count": 47,
   "metadata": {},
   "outputs": [],
   "source": [
    "# Compute the lexical richness of each song\n",
    "\n",
    "def lexical_richness(text):\n",
    "    return len(set(text))/len(text)\n",
    "\n",
    "texts = billboard_100['Lyrics']  #Will this line work??\n",
    "\n",
    "lexicalrichness = [lexical_richness(text) for text in texts]\n",
    "\n",
    "billboard_100['lexicalrichness'] = lexicalrichness\n",
    "\n",
    "billboard_100.sort_values(by='lexical_richness', ascending=False)"
   ]
  },
  {
   "cell_type": "code",
   "execution_count": 52,
   "metadata": {},
   "outputs": [],
   "source": [
    "# Tokens of each song\n",
    "tokens = [len(text) for text in texts]\n",
    "\n",
    "billboard_100['tokens'] = tokens"
   ]
  },
  {
   "cell_type": "code",
   "execution_count": 53,
   "metadata": {},
   "outputs": [],
   "source": [
    "# Types of each song \n",
    "types = [len(set(text)) for text in texts]\n",
    "\n",
    "billboard_100['types'] = types"
   ]
  },
  {
   "cell_type": "code",
   "execution_count": 86,
   "metadata": {},
   "outputs": [],
   "source": [
    "billboard_100['tokens'] = billboard_100['tokens'].apply(lambda x: float(x))\n",
    "billboard_100['types'] = billboard_100['types'].apply(lambda x: float(x))"
   ]
  },
  {
   "cell_type": "code",
   "execution_count": 90,
   "metadata": {},
   "outputs": [],
   "source": [
    "# Type-to-token ratio\n",
    "ttr = billboard_100['types']/billboard_100['tokens']\n",
    "\n",
    "billboard_100['TTR'] = ttr"
   ]
  },
  {
   "cell_type": "code",
   "execution_count": 91,
   "metadata": {},
   "outputs": [
    {
     "data": {
      "text/html": [
       "<div>\n",
       "<style scoped>\n",
       "    .dataframe tbody tr th:only-of-type {\n",
       "        vertical-align: middle;\n",
       "    }\n",
       "\n",
       "    .dataframe tbody tr th {\n",
       "        vertical-align: top;\n",
       "    }\n",
       "\n",
       "    .dataframe thead th {\n",
       "        text-align: right;\n",
       "    }\n",
       "</style>\n",
       "<table border=\"1\" class=\"dataframe\">\n",
       "  <thead>\n",
       "    <tr style=\"text-align: right;\">\n",
       "      <th></th>\n",
       "      <th>index</th>\n",
       "      <th>Unnamed: 0</th>\n",
       "      <th>Artists</th>\n",
       "      <th>Name</th>\n",
       "      <th>Weekly.rank</th>\n",
       "      <th>Peak.position</th>\n",
       "      <th>Weeks.on.chart</th>\n",
       "      <th>Date</th>\n",
       "      <th>Genre</th>\n",
       "      <th>Writing.Credits</th>\n",
       "      <th>Lyrics</th>\n",
       "      <th>Features</th>\n",
       "      <th>Sentiment</th>\n",
       "      <th>lexicalrichness</th>\n",
       "      <th>tokens</th>\n",
       "      <th>types</th>\n",
       "      <th>TTR</th>\n",
       "    </tr>\n",
       "    <tr>\n",
       "      <th>Week</th>\n",
       "      <th></th>\n",
       "      <th></th>\n",
       "      <th></th>\n",
       "      <th></th>\n",
       "      <th></th>\n",
       "      <th></th>\n",
       "      <th></th>\n",
       "      <th></th>\n",
       "      <th></th>\n",
       "      <th></th>\n",
       "      <th></th>\n",
       "      <th></th>\n",
       "      <th></th>\n",
       "      <th></th>\n",
       "      <th></th>\n",
       "      <th></th>\n",
       "      <th></th>\n",
       "    </tr>\n",
       "  </thead>\n",
       "  <tbody>\n",
       "    <tr>\n",
       "      <th>2009-07-02</th>\n",
       "      <td>49402</td>\n",
       "      <td>49403</td>\n",
       "      <td>Dierks Bentley</td>\n",
       "      <td>Sideways</td>\n",
       "      <td>35</td>\n",
       "      <td>35.0</td>\n",
       "      <td>12.0</td>\n",
       "      <td>February 3, 2009</td>\n",
       "      <td>Country</td>\n",
       "      <td>Dierks bentley, Jim beavers</td>\n",
       "      <td>Sideways \\nHey girl, what's your name?\\nIt's s...</td>\n",
       "      <td>NaN</td>\n",
       "      <td>0.050198</td>\n",
       "      <td>0.036220</td>\n",
       "      <td>1270.0</td>\n",
       "      <td>46.0</td>\n",
       "      <td>0.036220</td>\n",
       "    </tr>\n",
       "    <tr>\n",
       "      <th>2009-07-02</th>\n",
       "      <td>49442</td>\n",
       "      <td>49443</td>\n",
       "      <td>Montgomery Gentry</td>\n",
       "      <td>One In Every Crowd</td>\n",
       "      <td>79</td>\n",
       "      <td>53.0</td>\n",
       "      <td>15.0</td>\n",
       "      <td>NaN</td>\n",
       "      <td>Country</td>\n",
       "      <td>NaN</td>\n",
       "      <td>One In Every Crowd \\nGolden Tee, shuffleboard,...</td>\n",
       "      <td>NaN</td>\n",
       "      <td>0.180540</td>\n",
       "      <td>0.023796</td>\n",
       "      <td>1723.0</td>\n",
       "      <td>41.0</td>\n",
       "      <td>0.023796</td>\n",
       "    </tr>\n",
       "    <tr>\n",
       "      <th>2009-07-02</th>\n",
       "      <td>49416</td>\n",
       "      <td>49417</td>\n",
       "      <td>T.I.</td>\n",
       "      <td>Dead And Gone</td>\n",
       "      <td>50</td>\n",
       "      <td>2.0</td>\n",
       "      <td>29.0</td>\n",
       "      <td>September 29, 2008</td>\n",
       "      <td>Rap</td>\n",
       "      <td>Ti, Justin timberlake, Rob knox</td>\n",
       "      <td>Dead and Gone \\nAyy, let me kick it to you rig...</td>\n",
       "      <td>Justin Timberlake</td>\n",
       "      <td>-0.055585</td>\n",
       "      <td>0.012891</td>\n",
       "      <td>4189.0</td>\n",
       "      <td>54.0</td>\n",
       "      <td>0.012891</td>\n",
       "    </tr>\n",
       "    <tr>\n",
       "      <th>2009-07-02</th>\n",
       "      <td>49462</td>\n",
       "      <td>49463</td>\n",
       "      <td>David Guetta</td>\n",
       "      <td>When Love Takes Over</td>\n",
       "      <td>100</td>\n",
       "      <td>NaN</td>\n",
       "      <td>NaN</td>\n",
       "      <td>April 21, 2009</td>\n",
       "      <td>Dance,Electro-Pop,Pop</td>\n",
       "      <td>Frederic riesterer, Miriam nervo, Olivia nervo...</td>\n",
       "      <td>When Love Takes Over \\nIt's complicated\\nIt al...</td>\n",
       "      <td>Kelly Rowland</td>\n",
       "      <td>0.416883</td>\n",
       "      <td>0.032748</td>\n",
       "      <td>1252.0</td>\n",
       "      <td>41.0</td>\n",
       "      <td>0.032748</td>\n",
       "    </tr>\n",
       "    <tr>\n",
       "      <th>2009-07-02</th>\n",
       "      <td>49461</td>\n",
       "      <td>49462</td>\n",
       "      <td>Cage The Elephant</td>\n",
       "      <td>Ain't No Rest For The Wicked</td>\n",
       "      <td>99</td>\n",
       "      <td>92.0</td>\n",
       "      <td>3.0</td>\n",
       "      <td>June 16, 2008</td>\n",
       "      <td>Adult Alternative,Alternative Rock,Indie Rock,...</td>\n",
       "      <td>Daniel tichenor, Matt shultz, Brad shultz, Lin...</td>\n",
       "      <td>Ain't No Rest for the Wicked \\nI was walking d...</td>\n",
       "      <td>NaN</td>\n",
       "      <td>0.092048</td>\n",
       "      <td>0.020973</td>\n",
       "      <td>2241.0</td>\n",
       "      <td>47.0</td>\n",
       "      <td>0.020973</td>\n",
       "    </tr>\n",
       "  </tbody>\n",
       "</table>\n",
       "</div>"
      ],
      "text/plain": [
       "            index  Unnamed: 0            Artists  \\\n",
       "Week                                               \n",
       "2009-07-02  49402       49403     Dierks Bentley   \n",
       "2009-07-02  49442       49443  Montgomery Gentry   \n",
       "2009-07-02  49416       49417               T.I.   \n",
       "2009-07-02  49462       49463       David Guetta   \n",
       "2009-07-02  49461       49462  Cage The Elephant   \n",
       "\n",
       "                                    Name  Weekly.rank  Peak.position  \\\n",
       "Week                                                                   \n",
       "2009-07-02                      Sideways           35           35.0   \n",
       "2009-07-02            One In Every Crowd           79           53.0   \n",
       "2009-07-02                 Dead And Gone           50            2.0   \n",
       "2009-07-02          When Love Takes Over          100            NaN   \n",
       "2009-07-02  Ain't No Rest For The Wicked           99           92.0   \n",
       "\n",
       "            Weeks.on.chart                Date  \\\n",
       "Week                                             \n",
       "2009-07-02            12.0    February 3, 2009   \n",
       "2009-07-02            15.0                 NaN   \n",
       "2009-07-02            29.0  September 29, 2008   \n",
       "2009-07-02             NaN      April 21, 2009   \n",
       "2009-07-02             3.0       June 16, 2008   \n",
       "\n",
       "                                                        Genre  \\\n",
       "Week                                                            \n",
       "2009-07-02                                            Country   \n",
       "2009-07-02                                            Country   \n",
       "2009-07-02                                                Rap   \n",
       "2009-07-02                              Dance,Electro-Pop,Pop   \n",
       "2009-07-02  Adult Alternative,Alternative Rock,Indie Rock,...   \n",
       "\n",
       "                                              Writing.Credits  \\\n",
       "Week                                                            \n",
       "2009-07-02                        Dierks bentley, Jim beavers   \n",
       "2009-07-02                                                NaN   \n",
       "2009-07-02                    Ti, Justin timberlake, Rob knox   \n",
       "2009-07-02  Frederic riesterer, Miriam nervo, Olivia nervo...   \n",
       "2009-07-02  Daniel tichenor, Matt shultz, Brad shultz, Lin...   \n",
       "\n",
       "                                                       Lyrics  \\\n",
       "Week                                                            \n",
       "2009-07-02  Sideways \\nHey girl, what's your name?\\nIt's s...   \n",
       "2009-07-02  One In Every Crowd \\nGolden Tee, shuffleboard,...   \n",
       "2009-07-02  Dead and Gone \\nAyy, let me kick it to you rig...   \n",
       "2009-07-02  When Love Takes Over \\nIt's complicated\\nIt al...   \n",
       "2009-07-02  Ain't No Rest for the Wicked \\nI was walking d...   \n",
       "\n",
       "                     Features  Sentiment  lexicalrichness  tokens  types  \\\n",
       "Week                                                                       \n",
       "2009-07-02                NaN   0.050198         0.036220  1270.0   46.0   \n",
       "2009-07-02                NaN   0.180540         0.023796  1723.0   41.0   \n",
       "2009-07-02  Justin Timberlake  -0.055585         0.012891  4189.0   54.0   \n",
       "2009-07-02      Kelly Rowland   0.416883         0.032748  1252.0   41.0   \n",
       "2009-07-02                NaN   0.092048         0.020973  2241.0   47.0   \n",
       "\n",
       "                 TTR  \n",
       "Week                  \n",
       "2009-07-02  0.036220  \n",
       "2009-07-02  0.023796  \n",
       "2009-07-02  0.012891  \n",
       "2009-07-02  0.032748  \n",
       "2009-07-02  0.020973  "
      ]
     },
     "execution_count": 91,
     "metadata": {},
     "output_type": "execute_result"
    }
   ],
   "source": [
    "billboard_100.head()"
   ]
  },
  {
   "cell_type": "code",
   "execution_count": 94,
   "metadata": {},
   "outputs": [],
   "source": [
    "billboard_100_resample = billboard_100['TTR'].resample('W').mean()"
   ]
  },
  {
   "cell_type": "code",
   "execution_count": 95,
   "metadata": {},
   "outputs": [
    {
     "data": {
      "text/plain": [
       "Text(0, 0.5, 'Sentiment')"
      ]
     },
     "execution_count": 95,
     "metadata": {},
     "output_type": "execute_result"
    },
    {
     "data": {
      "image/png": "[encoded data removed]",
      "text/plain": [
       "<Figure size 432x288 with 1 Axes>"
      ]
     },
     "metadata": {
      "needs_background": "light"
     },
     "output_type": "display_data"
    }
   ],
   "source": [
    "#Plot lyric sentiment over time\n",
    "billboard_100_resample.plot(label='TTR', legend=True)\n",
    "plt.title('Average Type-to-Token Ratio per Week over Time')\n",
    "plt.xlabel('Week')\n",
    "plt.ylabel('Sentiment')"
   ]
  },
  {
   "cell_type": "code",
   "execution_count": null,
   "metadata": {},
   "outputs": [],
   "source": []
  },
  {
   "cell_type": "code",
   "execution_count": null,
   "metadata": {},
   "outputs": [],
   "source": []
  },
  {
   "cell_type": "code",
   "execution_count": null,
   "metadata": {},
   "outputs": [],
   "source": [
    "#Compute the word count of each song and create a word count column\n",
    "#then plot the word count dist\n",
    "\n",
    "\n",
    "\n"
   ]
  }
 ],
 "metadata": {
  "kernelspec": {
   "display_name": "Python 3",
   "language": "python",
   "name": "python3"
  },
  "language_info": {
   "codemirror_mode": {
    "name": "ipython",
    "version": 3
   },
   "file_extension": ".py",
   "mimetype": "text/x-python",
   "name": "python",
   "nbconvert_exporter": "python",
   "pygments_lexer": "ipython3",
   "version": "3.8.3"
  }
 },
 "nbformat": 4,
 "nbformat_minor": 4
}
